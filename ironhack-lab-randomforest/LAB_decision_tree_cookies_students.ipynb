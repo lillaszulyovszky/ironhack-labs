{
 "cells": [
  {
   "cell_type": "markdown",
   "metadata": {},
   "source": [
    "### workbook and code provided by Sian "
   ]
  },
  {
   "cell_type": "code",
   "execution_count": 1,
   "metadata": {},
   "outputs": [],
   "source": [
    "import pandas as pd\n",
    "import matplotlib.pyplot as plt\n",
    "import seaborn as sns\n",
    "%matplotlib inline\n",
    "import numpy as np"
   ]
  },
  {
   "cell_type": "markdown",
   "metadata": {},
   "source": [
    "## Task 1 \n",
    "\n",
    "review the cookie csv files"
   ]
  },
  {
   "cell_type": "code",
   "execution_count": 3,
   "metadata": {},
   "outputs": [
    {
     "data": {
      "text/html": [
       "<div>\n",
       "<style scoped>\n",
       "    .dataframe tbody tr th:only-of-type {\n",
       "        vertical-align: middle;\n",
       "    }\n",
       "\n",
       "    .dataframe tbody tr th {\n",
       "        vertical-align: top;\n",
       "    }\n",
       "\n",
       "    .dataframe thead th {\n",
       "        text-align: right;\n",
       "    }\n",
       "</style>\n",
       "<table border=\"1\" class=\"dataframe\">\n",
       "  <thead>\n",
       "    <tr style=\"text-align: right;\">\n",
       "      <th></th>\n",
       "      <th>sugar to flour ratio</th>\n",
       "      <th>sugar index</th>\n",
       "      <th>bake temp</th>\n",
       "      <th>chill time</th>\n",
       "      <th>calories</th>\n",
       "      <th>density</th>\n",
       "      <th>pH</th>\n",
       "      <th>grams baking soda</th>\n",
       "      <th>bake time</th>\n",
       "      <th>quality</th>\n",
       "      <th>butter type</th>\n",
       "      <th>weight</th>\n",
       "      <th>diameter</th>\n",
       "      <th>mixins</th>\n",
       "      <th>crunch factor</th>\n",
       "      <th>aesthetic appeal</th>\n",
       "    </tr>\n",
       "  </thead>\n",
       "  <tbody>\n",
       "    <tr>\n",
       "      <th>0</th>\n",
       "      <td>0.25</td>\n",
       "      <td>9.5</td>\n",
       "      <td>300</td>\n",
       "      <td>15.0</td>\n",
       "      <td>136.0</td>\n",
       "      <td>0.99367</td>\n",
       "      <td>8.10</td>\n",
       "      <td>0.44</td>\n",
       "      <td>12.1</td>\n",
       "      <td>8</td>\n",
       "      <td>melted</td>\n",
       "      <td>15.2</td>\n",
       "      <td>7</td>\n",
       "      <td>raisins</td>\n",
       "      <td>1.30</td>\n",
       "      <td>3</td>\n",
       "    </tr>\n",
       "    <tr>\n",
       "      <th>1</th>\n",
       "      <td>0.23</td>\n",
       "      <td>3.3</td>\n",
       "      <td>520</td>\n",
       "      <td>34.0</td>\n",
       "      <td>113.0</td>\n",
       "      <td>0.99429</td>\n",
       "      <td>8.16</td>\n",
       "      <td>0.48</td>\n",
       "      <td>8.4</td>\n",
       "      <td>7</td>\n",
       "      <td>melted</td>\n",
       "      <td>12.4</td>\n",
       "      <td>7</td>\n",
       "      <td>raisins</td>\n",
       "      <td>1.71</td>\n",
       "      <td>3</td>\n",
       "    </tr>\n",
       "    <tr>\n",
       "      <th>2</th>\n",
       "      <td>0.18</td>\n",
       "      <td>1.9</td>\n",
       "      <td>360</td>\n",
       "      <td>33.0</td>\n",
       "      <td>106.0</td>\n",
       "      <td>0.98746</td>\n",
       "      <td>8.21</td>\n",
       "      <td>0.83</td>\n",
       "      <td>14.0</td>\n",
       "      <td>9</td>\n",
       "      <td>melted</td>\n",
       "      <td>9.4</td>\n",
       "      <td>7</td>\n",
       "      <td>nuts, chocolate</td>\n",
       "      <td>1.78</td>\n",
       "      <td>3</td>\n",
       "    </tr>\n",
       "    <tr>\n",
       "      <th>3</th>\n",
       "      <td>0.18</td>\n",
       "      <td>10.5</td>\n",
       "      <td>490</td>\n",
       "      <td>41.0</td>\n",
       "      <td>124.0</td>\n",
       "      <td>0.99630</td>\n",
       "      <td>8.14</td>\n",
       "      <td>0.35</td>\n",
       "      <td>10.5</td>\n",
       "      <td>7</td>\n",
       "      <td>melted</td>\n",
       "      <td>12.2</td>\n",
       "      <td>7</td>\n",
       "      <td>chocolate</td>\n",
       "      <td>1.59</td>\n",
       "      <td>3</td>\n",
       "    </tr>\n",
       "    <tr>\n",
       "      <th>4</th>\n",
       "      <td>0.24</td>\n",
       "      <td>2.4</td>\n",
       "      <td>770</td>\n",
       "      <td>6.0</td>\n",
       "      <td>33.0</td>\n",
       "      <td>0.99740</td>\n",
       "      <td>8.09</td>\n",
       "      <td>0.57</td>\n",
       "      <td>9.4</td>\n",
       "      <td>5</td>\n",
       "      <td>cubed</td>\n",
       "      <td>19.8</td>\n",
       "      <td>7</td>\n",
       "      <td>nuts, oats, chocolate</td>\n",
       "      <td>1.30</td>\n",
       "      <td>3</td>\n",
       "    </tr>\n",
       "    <tr>\n",
       "      <th>...</th>\n",
       "      <td>...</td>\n",
       "      <td>...</td>\n",
       "      <td>...</td>\n",
       "      <td>...</td>\n",
       "      <td>...</td>\n",
       "      <td>...</td>\n",
       "      <td>...</td>\n",
       "      <td>...</td>\n",
       "      <td>...</td>\n",
       "      <td>...</td>\n",
       "      <td>...</td>\n",
       "      <td>...</td>\n",
       "      <td>...</td>\n",
       "      <td>...</td>\n",
       "      <td>...</td>\n",
       "      <td>...</td>\n",
       "    </tr>\n",
       "    <tr>\n",
       "      <th>5193</th>\n",
       "      <td>0.66</td>\n",
       "      <td>2.0</td>\n",
       "      <td>390</td>\n",
       "      <td>15.0</td>\n",
       "      <td>88.0</td>\n",
       "      <td>0.99357</td>\n",
       "      <td>8.66</td>\n",
       "      <td>0.60</td>\n",
       "      <td>11.5</td>\n",
       "      <td>6</td>\n",
       "      <td>cubed</td>\n",
       "      <td>11.6</td>\n",
       "      <td>7</td>\n",
       "      <td>peanut butter</td>\n",
       "      <td>1.36</td>\n",
       "      <td>3</td>\n",
       "    </tr>\n",
       "    <tr>\n",
       "      <th>5194</th>\n",
       "      <td>0.16</td>\n",
       "      <td>1.5</td>\n",
       "      <td>490</td>\n",
       "      <td>10.0</td>\n",
       "      <td>97.0</td>\n",
       "      <td>0.99170</td>\n",
       "      <td>8.48</td>\n",
       "      <td>0.44</td>\n",
       "      <td>10.7</td>\n",
       "      <td>8</td>\n",
       "      <td>melted</td>\n",
       "      <td>10.0</td>\n",
       "      <td>7</td>\n",
       "      <td>raisins</td>\n",
       "      <td>1.80</td>\n",
       "      <td>3</td>\n",
       "    </tr>\n",
       "    <tr>\n",
       "      <th>5195</th>\n",
       "      <td>0.25</td>\n",
       "      <td>14.3</td>\n",
       "      <td>480</td>\n",
       "      <td>79.0</td>\n",
       "      <td>149.0</td>\n",
       "      <td>0.99750</td>\n",
       "      <td>8.12</td>\n",
       "      <td>0.37</td>\n",
       "      <td>9.7</td>\n",
       "      <td>7</td>\n",
       "      <td>melted</td>\n",
       "      <td>13.4</td>\n",
       "      <td>7</td>\n",
       "      <td>chocolate, oats</td>\n",
       "      <td>1.07</td>\n",
       "      <td>3</td>\n",
       "    </tr>\n",
       "    <tr>\n",
       "      <th>5196</th>\n",
       "      <td>0.33</td>\n",
       "      <td>1.4</td>\n",
       "      <td>560</td>\n",
       "      <td>35.0</td>\n",
       "      <td>136.0</td>\n",
       "      <td>0.99380</td>\n",
       "      <td>8.63</td>\n",
       "      <td>0.78</td>\n",
       "      <td>10.3</td>\n",
       "      <td>8</td>\n",
       "      <td>melted</td>\n",
       "      <td>13.8</td>\n",
       "      <td>7</td>\n",
       "      <td>chocolate</td>\n",
       "      <td>1.77</td>\n",
       "      <td>3</td>\n",
       "    </tr>\n",
       "    <tr>\n",
       "      <th>5197</th>\n",
       "      <td>0.44</td>\n",
       "      <td>1.8</td>\n",
       "      <td>810</td>\n",
       "      <td>28.0</td>\n",
       "      <td>68.0</td>\n",
       "      <td>0.99501</td>\n",
       "      <td>8.36</td>\n",
       "      <td>0.66</td>\n",
       "      <td>11.2</td>\n",
       "      <td>5</td>\n",
       "      <td>cubed</td>\n",
       "      <td>16.0</td>\n",
       "      <td>7</td>\n",
       "      <td>chocolate</td>\n",
       "      <td>1.61</td>\n",
       "      <td>3</td>\n",
       "    </tr>\n",
       "  </tbody>\n",
       "</table>\n",
       "<p>5198 rows × 16 columns</p>\n",
       "</div>"
      ],
      "text/plain": [
       "      sugar to flour ratio  sugar index  bake temp  chill time  calories  \\\n",
       "0                     0.25          9.5        300        15.0     136.0   \n",
       "1                     0.23          3.3        520        34.0     113.0   \n",
       "2                     0.18          1.9        360        33.0     106.0   \n",
       "3                     0.18         10.5        490        41.0     124.0   \n",
       "4                     0.24          2.4        770         6.0      33.0   \n",
       "...                    ...          ...        ...         ...       ...   \n",
       "5193                  0.66          2.0        390        15.0      88.0   \n",
       "5194                  0.16          1.5        490        10.0      97.0   \n",
       "5195                  0.25         14.3        480        79.0     149.0   \n",
       "5196                  0.33          1.4        560        35.0     136.0   \n",
       "5197                  0.44          1.8        810        28.0      68.0   \n",
       "\n",
       "      density    pH  grams baking soda  bake time  quality butter type  \\\n",
       "0     0.99367  8.10               0.44       12.1        8      melted   \n",
       "1     0.99429  8.16               0.48        8.4        7      melted   \n",
       "2     0.98746  8.21               0.83       14.0        9      melted   \n",
       "3     0.99630  8.14               0.35       10.5        7      melted   \n",
       "4     0.99740  8.09               0.57        9.4        5       cubed   \n",
       "...       ...   ...                ...        ...      ...         ...   \n",
       "5193  0.99357  8.66               0.60       11.5        6       cubed   \n",
       "5194  0.99170  8.48               0.44       10.7        8      melted   \n",
       "5195  0.99750  8.12               0.37        9.7        7      melted   \n",
       "5196  0.99380  8.63               0.78       10.3        8      melted   \n",
       "5197  0.99501  8.36               0.66       11.2        5       cubed   \n",
       "\n",
       "      weight  diameter                 mixins  crunch factor  aesthetic appeal  \n",
       "0       15.2         7                raisins           1.30                 3  \n",
       "1       12.4         7                raisins           1.71                 3  \n",
       "2        9.4         7        nuts, chocolate           1.78                 3  \n",
       "3       12.2         7              chocolate           1.59                 3  \n",
       "4       19.8         7  nuts, oats, chocolate           1.30                 3  \n",
       "...      ...       ...                    ...            ...               ...  \n",
       "5193    11.6         7          peanut butter           1.36                 3  \n",
       "5194    10.0         7                raisins           1.80                 3  \n",
       "5195    13.4         7        chocolate, oats           1.07                 3  \n",
       "5196    13.8         7              chocolate           1.77                 3  \n",
       "5197    16.0         7              chocolate           1.61                 3  \n",
       "\n",
       "[5198 rows x 16 columns]"
      ]
     },
     "execution_count": 3,
     "metadata": {},
     "output_type": "execute_result"
    }
   ],
   "source": [
    "# dataset used to build a model that can predict the quality of a batch of cookies\n",
    "\n",
    "cookies = pd.read_csv('cookies.csv')\n",
    "cookies"
   ]
  },
  {
   "cell_type": "code",
   "execution_count": 6,
   "metadata": {},
   "outputs": [
    {
     "data": {
      "text/html": [
       "<div>\n",
       "<style scoped>\n",
       "    .dataframe tbody tr th:only-of-type {\n",
       "        vertical-align: middle;\n",
       "    }\n",
       "\n",
       "    .dataframe tbody tr th {\n",
       "        vertical-align: top;\n",
       "    }\n",
       "\n",
       "    .dataframe thead th {\n",
       "        text-align: right;\n",
       "    }\n",
       "</style>\n",
       "<table border=\"1\" class=\"dataframe\">\n",
       "  <thead>\n",
       "    <tr style=\"text-align: right;\">\n",
       "      <th></th>\n",
       "      <th>id</th>\n",
       "      <th>sugar to flour ratio</th>\n",
       "      <th>sugar index</th>\n",
       "      <th>bake temp</th>\n",
       "      <th>chill time</th>\n",
       "      <th>calories</th>\n",
       "      <th>density</th>\n",
       "      <th>pH</th>\n",
       "      <th>grams baking soda</th>\n",
       "      <th>bake time</th>\n",
       "      <th>quality</th>\n",
       "      <th>butter type</th>\n",
       "      <th>weight</th>\n",
       "      <th>diameter</th>\n",
       "      <th>mixins</th>\n",
       "      <th>crunch factor</th>\n",
       "      <th>aesthetic appeal</th>\n",
       "    </tr>\n",
       "  </thead>\n",
       "  <tbody>\n",
       "    <tr>\n",
       "      <th>0</th>\n",
       "      <td>14</td>\n",
       "      <td>0.62</td>\n",
       "      <td>19.25</td>\n",
       "      <td>400.0</td>\n",
       "      <td>41.0</td>\n",
       "      <td>172.0</td>\n",
       "      <td>1.00020</td>\n",
       "      <td>7.98</td>\n",
       "      <td>0.67</td>\n",
       "      <td>9.7</td>\n",
       "      <td>0</td>\n",
       "      <td>melted</td>\n",
       "      <td>16.6</td>\n",
       "      <td>7</td>\n",
       "      <td>nuts, chocolate</td>\n",
       "      <td>1.85</td>\n",
       "      <td>3</td>\n",
       "    </tr>\n",
       "    <tr>\n",
       "      <th>1</th>\n",
       "      <td>26</td>\n",
       "      <td>0.35</td>\n",
       "      <td>1.00</td>\n",
       "      <td>520.0</td>\n",
       "      <td>35.0</td>\n",
       "      <td>146.0</td>\n",
       "      <td>0.99300</td>\n",
       "      <td>8.45</td>\n",
       "      <td>0.44</td>\n",
       "      <td>10.0</td>\n",
       "      <td>0</td>\n",
       "      <td>melted</td>\n",
       "      <td>13.8</td>\n",
       "      <td>7</td>\n",
       "      <td>chocolate</td>\n",
       "      <td>1.43</td>\n",
       "      <td>3</td>\n",
       "    </tr>\n",
       "    <tr>\n",
       "      <th>2</th>\n",
       "      <td>30</td>\n",
       "      <td>0.39</td>\n",
       "      <td>10.40</td>\n",
       "      <td>440.0</td>\n",
       "      <td>20.0</td>\n",
       "      <td>142.0</td>\n",
       "      <td>0.99740</td>\n",
       "      <td>8.20</td>\n",
       "      <td>0.53</td>\n",
       "      <td>10.0</td>\n",
       "      <td>0</td>\n",
       "      <td>melted</td>\n",
       "      <td>17.0</td>\n",
       "      <td>7</td>\n",
       "      <td>chocolate</td>\n",
       "      <td>1.57</td>\n",
       "      <td>3</td>\n",
       "    </tr>\n",
       "    <tr>\n",
       "      <th>3</th>\n",
       "      <td>52</td>\n",
       "      <td>0.33</td>\n",
       "      <td>1.10</td>\n",
       "      <td>570.0</td>\n",
       "      <td>21.0</td>\n",
       "      <td>82.0</td>\n",
       "      <td>0.99100</td>\n",
       "      <td>8.32</td>\n",
       "      <td>0.46</td>\n",
       "      <td>10.9</td>\n",
       "      <td>0</td>\n",
       "      <td>melted</td>\n",
       "      <td>12.4</td>\n",
       "      <td>7</td>\n",
       "      <td>chocolate, oats</td>\n",
       "      <td>1.44</td>\n",
       "      <td>3</td>\n",
       "    </tr>\n",
       "    <tr>\n",
       "      <th>4</th>\n",
       "      <td>100</td>\n",
       "      <td>0.37</td>\n",
       "      <td>13.50</td>\n",
       "      <td>600.0</td>\n",
       "      <td>52.0</td>\n",
       "      <td>192.0</td>\n",
       "      <td>0.99750</td>\n",
       "      <td>8.00</td>\n",
       "      <td>0.44</td>\n",
       "      <td>9.1</td>\n",
       "      <td>0</td>\n",
       "      <td>melted</td>\n",
       "      <td>14.8</td>\n",
       "      <td>7</td>\n",
       "      <td>chocolate</td>\n",
       "      <td>1.51</td>\n",
       "      <td>3</td>\n",
       "    </tr>\n",
       "    <tr>\n",
       "      <th>...</th>\n",
       "      <td>...</td>\n",
       "      <td>...</td>\n",
       "      <td>...</td>\n",
       "      <td>...</td>\n",
       "      <td>...</td>\n",
       "      <td>...</td>\n",
       "      <td>...</td>\n",
       "      <td>...</td>\n",
       "      <td>...</td>\n",
       "      <td>...</td>\n",
       "      <td>...</td>\n",
       "      <td>...</td>\n",
       "      <td>...</td>\n",
       "      <td>...</td>\n",
       "      <td>...</td>\n",
       "      <td>...</td>\n",
       "      <td>...</td>\n",
       "    </tr>\n",
       "    <tr>\n",
       "      <th>774</th>\n",
       "      <td>1442</td>\n",
       "      <td>0.02</td>\n",
       "      <td>1.90</td>\n",
       "      <td>780.0</td>\n",
       "      <td>18.0</td>\n",
       "      <td>30.0</td>\n",
       "      <td>0.99712</td>\n",
       "      <td>8.40</td>\n",
       "      <td>0.75</td>\n",
       "      <td>9.8</td>\n",
       "      <td>0</td>\n",
       "      <td>cubed</td>\n",
       "      <td>13.8</td>\n",
       "      <td>7</td>\n",
       "      <td>nuts, oats, chocolate</td>\n",
       "      <td>1.01</td>\n",
       "      <td>3</td>\n",
       "    </tr>\n",
       "    <tr>\n",
       "      <th>775</th>\n",
       "      <td>1445</td>\n",
       "      <td>0.19</td>\n",
       "      <td>5.20</td>\n",
       "      <td>940.0</td>\n",
       "      <td>19.0</td>\n",
       "      <td>98.0</td>\n",
       "      <td>0.99713</td>\n",
       "      <td>8.16</td>\n",
       "      <td>0.52</td>\n",
       "      <td>9.6</td>\n",
       "      <td>0</td>\n",
       "      <td>cubed</td>\n",
       "      <td>14.8</td>\n",
       "      <td>7</td>\n",
       "      <td>nuts, oats</td>\n",
       "      <td>1.68</td>\n",
       "      <td>3</td>\n",
       "    </tr>\n",
       "    <tr>\n",
       "      <th>776</th>\n",
       "      <td>1461</td>\n",
       "      <td>0.00</td>\n",
       "      <td>2.10</td>\n",
       "      <td>600.0</td>\n",
       "      <td>6.0</td>\n",
       "      <td>13.0</td>\n",
       "      <td>0.99664</td>\n",
       "      <td>8.59</td>\n",
       "      <td>0.61</td>\n",
       "      <td>10.0</td>\n",
       "      <td>0</td>\n",
       "      <td>cubed</td>\n",
       "      <td>12.4</td>\n",
       "      <td>7</td>\n",
       "      <td>nuts, oats</td>\n",
       "      <td>1.38</td>\n",
       "      <td>3</td>\n",
       "    </tr>\n",
       "    <tr>\n",
       "      <th>777</th>\n",
       "      <td>1467</td>\n",
       "      <td>0.08</td>\n",
       "      <td>2.30</td>\n",
       "      <td>670.0</td>\n",
       "      <td>19.0</td>\n",
       "      <td>32.0</td>\n",
       "      <td>0.99648</td>\n",
       "      <td>8.52</td>\n",
       "      <td>0.57</td>\n",
       "      <td>11.0</td>\n",
       "      <td>0</td>\n",
       "      <td>cubed</td>\n",
       "      <td>13.4</td>\n",
       "      <td>7</td>\n",
       "      <td>peanut butter</td>\n",
       "      <td>1.63</td>\n",
       "      <td>3</td>\n",
       "    </tr>\n",
       "    <tr>\n",
       "      <th>778</th>\n",
       "      <td>1474</td>\n",
       "      <td>0.50</td>\n",
       "      <td>13.80</td>\n",
       "      <td>2050.0</td>\n",
       "      <td>48.0</td>\n",
       "      <td>82.0</td>\n",
       "      <td>1.00242</td>\n",
       "      <td>8.16</td>\n",
       "      <td>0.75</td>\n",
       "      <td>8.8</td>\n",
       "      <td>0</td>\n",
       "      <td>cubed</td>\n",
       "      <td>19.8</td>\n",
       "      <td>7</td>\n",
       "      <td>nuts,raisins</td>\n",
       "      <td>1.90</td>\n",
       "      <td>3</td>\n",
       "    </tr>\n",
       "  </tbody>\n",
       "</table>\n",
       "<p>779 rows × 17 columns</p>\n",
       "</div>"
      ],
      "text/plain": [
       "       id  sugar to flour ratio  sugar index  bake temp  chill time  calories  \\\n",
       "0      14                  0.62        19.25      400.0        41.0     172.0   \n",
       "1      26                  0.35         1.00      520.0        35.0     146.0   \n",
       "2      30                  0.39        10.40      440.0        20.0     142.0   \n",
       "3      52                  0.33         1.10      570.0        21.0      82.0   \n",
       "4     100                  0.37        13.50      600.0        52.0     192.0   \n",
       "..    ...                   ...          ...        ...         ...       ...   \n",
       "774  1442                  0.02         1.90      780.0        18.0      30.0   \n",
       "775  1445                  0.19         5.20      940.0        19.0      98.0   \n",
       "776  1461                  0.00         2.10      600.0         6.0      13.0   \n",
       "777  1467                  0.08         2.30      670.0        19.0      32.0   \n",
       "778  1474                  0.50        13.80     2050.0        48.0      82.0   \n",
       "\n",
       "     density    pH  grams baking soda  bake time  quality butter type  weight  \\\n",
       "0    1.00020  7.98               0.67        9.7        0      melted    16.6   \n",
       "1    0.99300  8.45               0.44       10.0        0      melted    13.8   \n",
       "2    0.99740  8.20               0.53       10.0        0      melted    17.0   \n",
       "3    0.99100  8.32               0.46       10.9        0      melted    12.4   \n",
       "4    0.99750  8.00               0.44        9.1        0      melted    14.8   \n",
       "..       ...   ...                ...        ...      ...         ...     ...   \n",
       "774  0.99712  8.40               0.75        9.8        0       cubed    13.8   \n",
       "775  0.99713  8.16               0.52        9.6        0       cubed    14.8   \n",
       "776  0.99664  8.59               0.61       10.0        0       cubed    12.4   \n",
       "777  0.99648  8.52               0.57       11.0        0       cubed    13.4   \n",
       "778  1.00242  8.16               0.75        8.8        0       cubed    19.8   \n",
       "\n",
       "     diameter                 mixins  crunch factor  aesthetic appeal  \n",
       "0           7        nuts, chocolate           1.85                 3  \n",
       "1           7              chocolate           1.43                 3  \n",
       "2           7              chocolate           1.57                 3  \n",
       "3           7        chocolate, oats           1.44                 3  \n",
       "4           7              chocolate           1.51                 3  \n",
       "..        ...                    ...            ...               ...  \n",
       "774         7  nuts, oats, chocolate           1.01                 3  \n",
       "775         7             nuts, oats           1.68                 3  \n",
       "776         7             nuts, oats           1.38                 3  \n",
       "777         7          peanut butter           1.63                 3  \n",
       "778         7           nuts,raisins           1.90                 3  \n",
       "\n",
       "[779 rows x 17 columns]"
      ]
     },
     "execution_count": 6,
     "metadata": {},
     "output_type": "execute_result"
    }
   ],
   "source": [
    "# dataset without the label of cookies quality - this is used to predict the label quality\n",
    "\n",
    "cookies_val = pd.read_csv('cookies_validate.csv')\n",
    "cookies_val"
   ]
  },
  {
   "cell_type": "code",
   "execution_count": 7,
   "metadata": {},
   "outputs": [
    {
     "data": {
      "text/html": [
       "<div>\n",
       "<style scoped>\n",
       "    .dataframe tbody tr th:only-of-type {\n",
       "        vertical-align: middle;\n",
       "    }\n",
       "\n",
       "    .dataframe tbody tr th {\n",
       "        vertical-align: top;\n",
       "    }\n",
       "\n",
       "    .dataframe thead th {\n",
       "        text-align: right;\n",
       "    }\n",
       "</style>\n",
       "<table border=\"1\" class=\"dataframe\">\n",
       "  <thead>\n",
       "    <tr style=\"text-align: right;\">\n",
       "      <th></th>\n",
       "      <th>id</th>\n",
       "      <th>sugar to flour ratio</th>\n",
       "      <th>sugar index</th>\n",
       "      <th>bake temp</th>\n",
       "      <th>chill time</th>\n",
       "      <th>calories</th>\n",
       "      <th>density</th>\n",
       "      <th>pH</th>\n",
       "      <th>grams baking soda</th>\n",
       "      <th>bake time</th>\n",
       "      <th>quality</th>\n",
       "      <th>butter type</th>\n",
       "      <th>weight</th>\n",
       "      <th>diameter</th>\n",
       "      <th>mixins</th>\n",
       "      <th>crunch factor</th>\n",
       "      <th>aesthetic appeal</th>\n",
       "    </tr>\n",
       "  </thead>\n",
       "  <tbody>\n",
       "    <tr>\n",
       "      <th>0</th>\n",
       "      <td>14</td>\n",
       "      <td>0.62</td>\n",
       "      <td>19.25</td>\n",
       "      <td>400.0</td>\n",
       "      <td>41.0</td>\n",
       "      <td>172.0</td>\n",
       "      <td>1.00020</td>\n",
       "      <td>7.98</td>\n",
       "      <td>0.67</td>\n",
       "      <td>9.7</td>\n",
       "      <td>7</td>\n",
       "      <td>melted</td>\n",
       "      <td>16.6</td>\n",
       "      <td>7</td>\n",
       "      <td>nuts, chocolate</td>\n",
       "      <td>1.85</td>\n",
       "      <td>3</td>\n",
       "    </tr>\n",
       "    <tr>\n",
       "      <th>1</th>\n",
       "      <td>26</td>\n",
       "      <td>0.35</td>\n",
       "      <td>1.00</td>\n",
       "      <td>520.0</td>\n",
       "      <td>35.0</td>\n",
       "      <td>146.0</td>\n",
       "      <td>0.99300</td>\n",
       "      <td>8.45</td>\n",
       "      <td>0.44</td>\n",
       "      <td>10.0</td>\n",
       "      <td>8</td>\n",
       "      <td>melted</td>\n",
       "      <td>13.8</td>\n",
       "      <td>7</td>\n",
       "      <td>chocolate</td>\n",
       "      <td>1.43</td>\n",
       "      <td>3</td>\n",
       "    </tr>\n",
       "    <tr>\n",
       "      <th>2</th>\n",
       "      <td>30</td>\n",
       "      <td>0.39</td>\n",
       "      <td>10.40</td>\n",
       "      <td>440.0</td>\n",
       "      <td>20.0</td>\n",
       "      <td>142.0</td>\n",
       "      <td>0.99740</td>\n",
       "      <td>8.20</td>\n",
       "      <td>0.53</td>\n",
       "      <td>10.0</td>\n",
       "      <td>8</td>\n",
       "      <td>melted</td>\n",
       "      <td>17.0</td>\n",
       "      <td>7</td>\n",
       "      <td>chocolate</td>\n",
       "      <td>1.57</td>\n",
       "      <td>3</td>\n",
       "    </tr>\n",
       "    <tr>\n",
       "      <th>3</th>\n",
       "      <td>52</td>\n",
       "      <td>0.33</td>\n",
       "      <td>1.10</td>\n",
       "      <td>570.0</td>\n",
       "      <td>21.0</td>\n",
       "      <td>82.0</td>\n",
       "      <td>0.99100</td>\n",
       "      <td>8.32</td>\n",
       "      <td>0.46</td>\n",
       "      <td>10.9</td>\n",
       "      <td>9</td>\n",
       "      <td>melted</td>\n",
       "      <td>12.4</td>\n",
       "      <td>7</td>\n",
       "      <td>chocolate, oats</td>\n",
       "      <td>1.44</td>\n",
       "      <td>3</td>\n",
       "    </tr>\n",
       "    <tr>\n",
       "      <th>4</th>\n",
       "      <td>100</td>\n",
       "      <td>0.37</td>\n",
       "      <td>13.50</td>\n",
       "      <td>600.0</td>\n",
       "      <td>52.0</td>\n",
       "      <td>192.0</td>\n",
       "      <td>0.99750</td>\n",
       "      <td>8.00</td>\n",
       "      <td>0.44</td>\n",
       "      <td>9.1</td>\n",
       "      <td>7</td>\n",
       "      <td>melted</td>\n",
       "      <td>14.8</td>\n",
       "      <td>7</td>\n",
       "      <td>chocolate</td>\n",
       "      <td>1.51</td>\n",
       "      <td>3</td>\n",
       "    </tr>\n",
       "    <tr>\n",
       "      <th>...</th>\n",
       "      <td>...</td>\n",
       "      <td>...</td>\n",
       "      <td>...</td>\n",
       "      <td>...</td>\n",
       "      <td>...</td>\n",
       "      <td>...</td>\n",
       "      <td>...</td>\n",
       "      <td>...</td>\n",
       "      <td>...</td>\n",
       "      <td>...</td>\n",
       "      <td>...</td>\n",
       "      <td>...</td>\n",
       "      <td>...</td>\n",
       "      <td>...</td>\n",
       "      <td>...</td>\n",
       "      <td>...</td>\n",
       "      <td>...</td>\n",
       "    </tr>\n",
       "    <tr>\n",
       "      <th>774</th>\n",
       "      <td>1442</td>\n",
       "      <td>0.02</td>\n",
       "      <td>1.90</td>\n",
       "      <td>780.0</td>\n",
       "      <td>18.0</td>\n",
       "      <td>30.0</td>\n",
       "      <td>0.99712</td>\n",
       "      <td>8.40</td>\n",
       "      <td>0.75</td>\n",
       "      <td>9.8</td>\n",
       "      <td>5</td>\n",
       "      <td>cubed</td>\n",
       "      <td>13.8</td>\n",
       "      <td>7</td>\n",
       "      <td>nuts, oats, chocolate</td>\n",
       "      <td>1.01</td>\n",
       "      <td>3</td>\n",
       "    </tr>\n",
       "    <tr>\n",
       "      <th>775</th>\n",
       "      <td>1445</td>\n",
       "      <td>0.19</td>\n",
       "      <td>5.20</td>\n",
       "      <td>940.0</td>\n",
       "      <td>19.0</td>\n",
       "      <td>98.0</td>\n",
       "      <td>0.99713</td>\n",
       "      <td>8.16</td>\n",
       "      <td>0.52</td>\n",
       "      <td>9.6</td>\n",
       "      <td>6</td>\n",
       "      <td>cubed</td>\n",
       "      <td>14.8</td>\n",
       "      <td>7</td>\n",
       "      <td>nuts, oats</td>\n",
       "      <td>1.68</td>\n",
       "      <td>3</td>\n",
       "    </tr>\n",
       "    <tr>\n",
       "      <th>776</th>\n",
       "      <td>1461</td>\n",
       "      <td>0.00</td>\n",
       "      <td>2.10</td>\n",
       "      <td>600.0</td>\n",
       "      <td>6.0</td>\n",
       "      <td>13.0</td>\n",
       "      <td>0.99664</td>\n",
       "      <td>8.59</td>\n",
       "      <td>0.61</td>\n",
       "      <td>10.0</td>\n",
       "      <td>4</td>\n",
       "      <td>cubed</td>\n",
       "      <td>12.4</td>\n",
       "      <td>7</td>\n",
       "      <td>nuts, oats</td>\n",
       "      <td>1.38</td>\n",
       "      <td>3</td>\n",
       "    </tr>\n",
       "    <tr>\n",
       "      <th>777</th>\n",
       "      <td>1467</td>\n",
       "      <td>0.08</td>\n",
       "      <td>2.30</td>\n",
       "      <td>670.0</td>\n",
       "      <td>19.0</td>\n",
       "      <td>32.0</td>\n",
       "      <td>0.99648</td>\n",
       "      <td>8.52</td>\n",
       "      <td>0.57</td>\n",
       "      <td>11.0</td>\n",
       "      <td>4</td>\n",
       "      <td>cubed</td>\n",
       "      <td>13.4</td>\n",
       "      <td>7</td>\n",
       "      <td>peanut butter</td>\n",
       "      <td>1.63</td>\n",
       "      <td>3</td>\n",
       "    </tr>\n",
       "    <tr>\n",
       "      <th>778</th>\n",
       "      <td>1474</td>\n",
       "      <td>0.50</td>\n",
       "      <td>13.80</td>\n",
       "      <td>2050.0</td>\n",
       "      <td>48.0</td>\n",
       "      <td>82.0</td>\n",
       "      <td>1.00242</td>\n",
       "      <td>8.16</td>\n",
       "      <td>0.75</td>\n",
       "      <td>8.8</td>\n",
       "      <td>5</td>\n",
       "      <td>cubed</td>\n",
       "      <td>19.8</td>\n",
       "      <td>7</td>\n",
       "      <td>nuts,raisins</td>\n",
       "      <td>1.90</td>\n",
       "      <td>3</td>\n",
       "    </tr>\n",
       "  </tbody>\n",
       "</table>\n",
       "<p>779 rows × 17 columns</p>\n",
       "</div>"
      ],
      "text/plain": [
       "       id  sugar to flour ratio  sugar index  bake temp  chill time  calories  \\\n",
       "0      14                  0.62        19.25      400.0        41.0     172.0   \n",
       "1      26                  0.35         1.00      520.0        35.0     146.0   \n",
       "2      30                  0.39        10.40      440.0        20.0     142.0   \n",
       "3      52                  0.33         1.10      570.0        21.0      82.0   \n",
       "4     100                  0.37        13.50      600.0        52.0     192.0   \n",
       "..    ...                   ...          ...        ...         ...       ...   \n",
       "774  1442                  0.02         1.90      780.0        18.0      30.0   \n",
       "775  1445                  0.19         5.20      940.0        19.0      98.0   \n",
       "776  1461                  0.00         2.10      600.0         6.0      13.0   \n",
       "777  1467                  0.08         2.30      670.0        19.0      32.0   \n",
       "778  1474                  0.50        13.80     2050.0        48.0      82.0   \n",
       "\n",
       "     density    pH  grams baking soda  bake time  quality butter type  weight  \\\n",
       "0    1.00020  7.98               0.67        9.7        7      melted    16.6   \n",
       "1    0.99300  8.45               0.44       10.0        8      melted    13.8   \n",
       "2    0.99740  8.20               0.53       10.0        8      melted    17.0   \n",
       "3    0.99100  8.32               0.46       10.9        9      melted    12.4   \n",
       "4    0.99750  8.00               0.44        9.1        7      melted    14.8   \n",
       "..       ...   ...                ...        ...      ...         ...     ...   \n",
       "774  0.99712  8.40               0.75        9.8        5       cubed    13.8   \n",
       "775  0.99713  8.16               0.52        9.6        6       cubed    14.8   \n",
       "776  0.99664  8.59               0.61       10.0        4       cubed    12.4   \n",
       "777  0.99648  8.52               0.57       11.0        4       cubed    13.4   \n",
       "778  1.00242  8.16               0.75        8.8        5       cubed    19.8   \n",
       "\n",
       "     diameter                 mixins  crunch factor  aesthetic appeal  \n",
       "0           7        nuts, chocolate           1.85                 3  \n",
       "1           7              chocolate           1.43                 3  \n",
       "2           7              chocolate           1.57                 3  \n",
       "3           7        chocolate, oats           1.44                 3  \n",
       "4           7              chocolate           1.51                 3  \n",
       "..        ...                    ...            ...               ...  \n",
       "774         7  nuts, oats, chocolate           1.01                 3  \n",
       "775         7             nuts, oats           1.68                 3  \n",
       "776         7             nuts, oats           1.38                 3  \n",
       "777         7          peanut butter           1.63                 3  \n",
       "778         7           nuts,raisins           1.90                 3  \n",
       "\n",
       "[779 rows x 17 columns]"
      ]
     },
     "execution_count": 7,
     "metadata": {},
     "output_type": "execute_result"
    }
   ],
   "source": [
    "# dataset with the real quality label of the validate set. This data is used to calculate the accuracy of any model run\n",
    "\n",
    "cookies_test = pd.read_csv('cookies_test.csv')\n",
    "cookies_test"
   ]
  },
  {
   "cell_type": "markdown",
   "metadata": {},
   "source": [
    "# Task 2"
   ]
  },
  {
   "cell_type": "markdown",
   "metadata": {},
   "source": [
    "### Read the data "
   ]
  },
  {
   "cell_type": "code",
   "execution_count": null,
   "metadata": {},
   "outputs": [],
   "source": [
    "cookies = pd.read_csv('cookies.csv')"
   ]
  },
  {
   "cell_type": "code",
   "execution_count": null,
   "metadata": {},
   "outputs": [],
   "source": [
    "cookies.head()"
   ]
  },
  {
   "cell_type": "markdown",
   "metadata": {},
   "source": [
    "### Exploratory Data Analysis and Descriptive Statistics"
   ]
  },
  {
   "cell_type": "code",
   "execution_count": 8,
   "metadata": {},
   "outputs": [
    {
     "name": "stdout",
     "output_type": "stream",
     "text": [
      "<class 'pandas.core.frame.DataFrame'>\n",
      "RangeIndex: 5198 entries, 0 to 5197\n",
      "Data columns (total 16 columns):\n",
      " #   Column                Non-Null Count  Dtype  \n",
      "---  ------                --------------  -----  \n",
      " 0   sugar to flour ratio  5198 non-null   float64\n",
      " 1   sugar index           5193 non-null   float64\n",
      " 2   bake temp             5198 non-null   int64  \n",
      " 3   chill time            5198 non-null   float64\n",
      " 4   calories              5198 non-null   float64\n",
      " 5   density               5198 non-null   float64\n",
      " 6   pH                    5198 non-null   float64\n",
      " 7   grams baking soda     5198 non-null   float64\n",
      " 8   bake time             5188 non-null   float64\n",
      " 9   quality               5198 non-null   int64  \n",
      " 10  butter type           5198 non-null   object \n",
      " 11  weight                5198 non-null   float64\n",
      " 12  diameter              5198 non-null   int64  \n",
      " 13  mixins                5196 non-null   object \n",
      " 14  crunch factor         5198 non-null   float64\n",
      " 15  aesthetic appeal      5198 non-null   int64  \n",
      "dtypes: float64(10), int64(4), object(2)\n",
      "memory usage: 649.9+ KB\n"
     ]
    }
   ],
   "source": [
    "cookies.info()"
   ]
  },
  {
   "cell_type": "markdown",
   "metadata": {},
   "source": [
    "We have 14 features, and quality being the target.\n",
    "<br/>Most features are numerical.\n",
    "<br/> Only butter type and mixins are categorical.\n",
    "<br/>We have a few null values."
   ]
  },
  {
   "cell_type": "markdown",
   "metadata": {},
   "source": [
    "## Bake time "
   ]
  },
  {
   "cell_type": "code",
   "execution_count": 9,
   "metadata": {},
   "outputs": [
    {
     "data": {
      "text/plain": [
       "count    5188.000000\n",
       "mean       10.494758\n",
       "std         1.194584\n",
       "min         8.000000\n",
       "25%         9.500000\n",
       "50%        10.300000\n",
       "75%        11.300000\n",
       "max        14.900000\n",
       "Name: bake time, dtype: float64"
      ]
     },
     "execution_count": 9,
     "metadata": {},
     "output_type": "execute_result"
    }
   ],
   "source": [
    "# looking at the feature bake time more closely\n",
    "\n",
    "cookies['bake time'].describe()\n",
    "\n",
    "# e.g. the avg baking time is 10.49, interesting\n",
    "# the standard deviation it not too high, they all bake quite similar"
   ]
  },
  {
   "cell_type": "code",
   "execution_count": 10,
   "metadata": {},
   "outputs": [
    {
     "data": {
      "text/plain": [
       "<seaborn.axisgrid.PairGrid at 0x108fb97f0>"
      ]
     },
     "execution_count": 10,
     "metadata": {},
     "output_type": "execute_result"
    },
    {
     "data": {
      "image/png": "[encoded data removed]",
      "text/plain": [
       "<Figure size 540x540 with 12 Axes>"
      ]
     },
     "metadata": {
      "needs_background": "light"
     },
     "output_type": "display_data"
    }
   ],
   "source": [
    "# looking at bake time, temp and quality against each other\n",
    "\n",
    "sns.pairplot(cookies[['quality', 'bake time', 'bake temp']])\n",
    "\n",
    "# if we assume quality 1 = lowest, 10 = highest\n",
    "# you could suspect from first glance:\n",
    "# the higher quality cookies are baked longer\n",
    "# the higher quality cookies have a lower bake temp\n",
    "\n",
    "# the shorter the bake time, the higher the temp"
   ]
  },
  {
   "cell_type": "code",
   "execution_count": 11,
   "metadata": {},
   "outputs": [
    {
     "data": {
      "image/png": "[encoded data removed]",
      "text/plain": [
       "<Figure size 1152x432 with 2 Axes>"
      ]
     },
     "metadata": {
      "needs_background": "light"
     },
     "output_type": "display_data"
    }
   ],
   "source": [
    "# looking at multicolunarity\n",
    "\n",
    "plt.figure(figsize=(16, 6))\n",
    "mask = np.triu(np.ones_like(cookies.corr(), dtype=np.bool))\n",
    "heatmap = sns.heatmap(cookies.corr(), mask=mask, vmin=-1, vmax=1, annot=True, cmap='BrBG')\n",
    "\n",
    "# calories and sugar index - 0.5\n",
    "# calories and chill time - 0.71\n",
    "# calories and quality - 0.44\n",
    "# chill time and sugar index - 0.42\n",
    "# grams baking soda and bake temp - 0.4\n",
    "\n",
    "# might remove calories as it has the highest value and is too close to the other high feature values"
   ]
  },
  {
   "cell_type": "code",
   "execution_count": 12,
   "metadata": {},
   "outputs": [
    {
     "name": "stdout",
     "output_type": "stream",
     "text": [
      "sugar to flour ratio --> 0.1821346059774524\n",
      "sugar index --> 0.22065352244335407\n",
      "bake temp --> -0.4705037090124245\n",
      "chill time --> 0.36465303504313296\n",
      "calories --> 0.4398363987447589\n",
      "density --> -0.021995308762374936\n",
      "pH --> -0.11472101703648846\n",
      "grams baking soda --> -0.3053403830897962\n",
      "bake time --> 0.3153070710526111\n",
      "quality --> 1.0\n",
      "weight --> -0.3282994017266426\n",
      "diameter --> nan\n",
      "crunch factor --> 0.007262050440050124\n",
      "aesthetic appeal --> 0.00015142266125481668\n"
     ]
    }
   ],
   "source": [
    "# looking at the correlcation of each feature against the target quality\n",
    "\n",
    "num_cols = cookies.select_dtypes(include=[\"int64\", \"float64\"]).columns\n",
    "\n",
    "for column in num_cols:\n",
    "    print(column, '-->', cookies['quality'].corr(cookies[column]))\n",
    "    \n",
    "# highest correlation is for:\n",
    "# calories"
   ]
  },
  {
   "cell_type": "markdown",
   "metadata": {},
   "source": [
    "## butter"
   ]
  },
  {
   "cell_type": "code",
   "execution_count": 13,
   "metadata": {},
   "outputs": [
    {
     "data": {
      "text/plain": [
       "melted    3920\n",
       "cubed     1278\n",
       "Name: butter type, dtype: int64"
      ]
     },
     "execution_count": 13,
     "metadata": {},
     "output_type": "execute_result"
    }
   ],
   "source": [
    "# checking the values in butter\n",
    "\n",
    "cookies['butter type'].value_counts()\n",
    "\n",
    "# only 2 types, melted or cubed"
   ]
  },
  {
   "cell_type": "markdown",
   "metadata": {},
   "source": [
    "## aesthetic appeal"
   ]
  },
  {
   "cell_type": "code",
   "execution_count": 14,
   "metadata": {},
   "outputs": [
    {
     "data": {
      "text/plain": [
       "3    5195\n",
       "4       3\n",
       "Name: aesthetic appeal, dtype: int64"
      ]
     },
     "execution_count": 14,
     "metadata": {},
     "output_type": "execute_result"
    }
   ],
   "source": [
    "# checking the values for aesthetic appeal\n",
    "\n",
    "cookies['aesthetic appeal'].value_counts()\n",
    "\n",
    "# there are only 2 different values\n",
    "# they are not really giving us any information (what is the range?1-4?)\n",
    "# it is sensible to drop the column"
   ]
  },
  {
   "cell_type": "markdown",
   "metadata": {},
   "source": [
    "Thoughts on aesthetics : \n",
    "    not many values - drop column "
   ]
  },
  {
   "cell_type": "markdown",
   "metadata": {},
   "source": [
    "## weight"
   ]
  },
  {
   "cell_type": "code",
   "execution_count": 15,
   "metadata": {},
   "outputs": [
    {
     "data": {
      "text/plain": [
       "count    5198.000000\n",
       "mean       14.381935\n",
       "std         3.023740\n",
       "min       -99.000000\n",
       "25%        12.800000\n",
       "50%        14.000000\n",
       "75%        15.400000\n",
       "max        31.800000\n",
       "Name: weight, dtype: float64"
      ]
     },
     "execution_count": 15,
     "metadata": {},
     "output_type": "execute_result"
    }
   ],
   "source": [
    "# we inspect the weight feature\n",
    "\n",
    "cookies['weight'].describe()\n",
    "\n",
    "# we see what could be an outlier: min = -99\n",
    "# this must be an error, lets further investigate the values"
   ]
  },
  {
   "cell_type": "code",
   "execution_count": 16,
   "metadata": {},
   "outputs": [
    {
     "data": {
      "text/plain": [
       "array([ 15.2,  12.4,   9.4,  12.2,  19.8,  13.2,  14.2,  13.8,  12.6,\n",
       "        12.8,  13. ,  14. ,  12. ,  14.6,  15.6,  13.4,  16.8,  14.8,\n",
       "        13.6,  16. ,  11. ,  18.6,  10.6,  18.2,  15.8,  17.2,  14.3,\n",
       "        10.4,  11.8,  11.6,  15.4,  21.6,  20.2,  14.4,  12.3,  23.8,\n",
       "        11.2,  11.4,  15. ,  19.6,  17.4,  16.4,  19.2,  10.8,  18. ,\n",
       "        26. ,  16.6,  16.2,  19. ,  10. ,  21.4,  20.4,  17. ,  31.2,\n",
       "        17.8,  22.6,   9.8,  23. ,  18.8,  26.6,  20.8,  26.4,  10.2,\n",
       "        22.2,  23.4,  18.4,  17.6,  28.4,  24.6,  20.6,  25. ,  24.2,\n",
       "        22.8,  24. ,  23.2,  24.4,  26.8,  22.4,  19.4,  23.6,  27.4,\n",
       "        28. ,  22. ,  21.8,  25.2,  25.8,  20. ,  21.2,  21. , -99. ,\n",
       "        25.6,  31. ,   9. ,  24.8,  25.4,   9.6,   8.8,  30. ,  12.9,\n",
       "         9.2,  31.8,   7.6,   7.8,   8.4,  28.6])"
      ]
     },
     "execution_count": 16,
     "metadata": {},
     "output_type": "execute_result"
    }
   ],
   "source": [
    "# looking at the unique values in weight to see if there are further outliers\n",
    "\n",
    "cookies['weight'].unique()\n",
    "\n",
    "# no, only th -99\n",
    "# this one we shoud drop or replace with mean"
   ]
  },
  {
   "cell_type": "markdown",
   "metadata": {},
   "source": [
    "Thoughts on weight : \n",
    "\n",
    "    Remove -99 value"
   ]
  },
  {
   "cell_type": "markdown",
   "metadata": {},
   "source": [
    "## diameter"
   ]
  },
  {
   "cell_type": "code",
   "execution_count": 17,
   "metadata": {},
   "outputs": [
    {
     "data": {
      "text/plain": [
       "array([7])"
      ]
     },
     "execution_count": 17,
     "metadata": {},
     "output_type": "execute_result"
    }
   ],
   "source": [
    "# checking the unique values for diamter\n",
    "\n",
    "cookies['diameter'].unique()\n",
    "\n",
    "# all cookies have a diamter of 7\n",
    "# this will not help to classify the quality\n",
    "# we can drop this column"
   ]
  },
  {
   "cell_type": "markdown",
   "metadata": {},
   "source": [
    "Thoughts on diameter : \n",
    "\n",
    "    All equal to 7 - column can be dropped "
   ]
  },
  {
   "cell_type": "markdown",
   "metadata": {},
   "source": [
    "## bake time"
   ]
  },
  {
   "cell_type": "code",
   "execution_count": 18,
   "metadata": {},
   "outputs": [
    {
     "data": {
      "text/plain": [
       "count    5188.000000\n",
       "mean       10.494758\n",
       "std         1.194584\n",
       "min         8.000000\n",
       "25%         9.500000\n",
       "50%        10.300000\n",
       "75%        11.300000\n",
       "max        14.900000\n",
       "Name: bake time, dtype: float64"
      ]
     },
     "execution_count": 18,
     "metadata": {},
     "output_type": "execute_result"
    }
   ],
   "source": [
    "# lets look at bake time\n",
    "\n",
    "cookies['bake time'].describe()"
   ]
  },
  {
   "cell_type": "code",
   "execution_count": 19,
   "metadata": {},
   "outputs": [
    {
     "data": {
      "text/plain": [
       "13       7\n",
       "173      8\n",
       "484     10\n",
       "816      7\n",
       "1562     8\n",
       "1867     7\n",
       "1933     7\n",
       "2215     9\n",
       "2910     6\n",
       "3746    10\n",
       "Name: quality, dtype: int64"
      ]
     },
     "execution_count": 19,
     "metadata": {},
     "output_type": "execute_result"
    }
   ],
   "source": [
    "cookies[cookies['bake time'].isnull()]['quality']"
   ]
  },
  {
   "cell_type": "markdown",
   "metadata": {},
   "source": [
    "Thoughts on Bake time \n",
    "\n",
    "    judging by the spread of nulls across quality bands, any missing values could be replaced by mean or rows dropped "
   ]
  },
  {
   "cell_type": "markdown",
   "metadata": {},
   "source": [
    "## crunch factor"
   ]
  },
  {
   "cell_type": "code",
   "execution_count": 20,
   "metadata": {},
   "outputs": [
    {
     "data": {
      "text/plain": [
       "<AxesSubplot:ylabel='Frequency'>"
      ]
     },
     "execution_count": 20,
     "metadata": {},
     "output_type": "execute_result"
    },
    {
     "data": {
      "image/png": "[encoded data removed]",
      "text/plain": [
       "<Figure size 432x288 with 1 Axes>"
      ]
     },
     "metadata": {
      "needs_background": "light"
     },
     "output_type": "display_data"
    }
   ],
   "source": [
    "# lets look at the crunch factor with a histogram\n",
    "\n",
    "cookies['crunch factor'].plot.hist()\n",
    "\n",
    "# its quite uniform"
   ]
  },
  {
   "cell_type": "markdown",
   "metadata": {},
   "source": [
    "## mixins"
   ]
  },
  {
   "cell_type": "code",
   "execution_count": 22,
   "metadata": {},
   "outputs": [
    {
     "data": {
      "text/plain": [
       "0                     raisins\n",
       "1                     raisins\n",
       "2             nuts, chocolate\n",
       "3                   chocolate\n",
       "4       nuts, oats, chocolate\n",
       "                ...          \n",
       "5193            peanut butter\n",
       "5194                  raisins\n",
       "5195          chocolate, oats\n",
       "5196                chocolate\n",
       "5197                chocolate\n",
       "Name: mixins, Length: 5198, dtype: object"
      ]
     },
     "execution_count": 22,
     "metadata": {},
     "output_type": "execute_result"
    }
   ],
   "source": [
    "# lets find out what is in mixins\n",
    "\n",
    "cookies['mixins']\n",
    "\n",
    "# ok like what you add as a special thing in the cookie\n",
    "# there can be no mixins, just 1 or several"
   ]
  },
  {
   "cell_type": "code",
   "execution_count": 23,
   "metadata": {},
   "outputs": [
    {
     "data": {
      "text/plain": [
       "array(['raisins', 'nuts, chocolate', 'chocolate', 'nuts, oats, chocolate',\n",
       "       'chocolate, oats', 'raisins, oats', 'nuts,raisins', 'nuts, oats',\n",
       "       'chocolate, peanut butter', 'chocolate, oats, peanut butter',\n",
       "       'peanut butter', nan, 'peanut butter, raisins', 'oats'],\n",
       "      dtype=object)"
      ]
     },
     "execution_count": 23,
     "metadata": {},
     "output_type": "execute_result"
    }
   ],
   "source": [
    "# lets look at the unique values\n",
    "\n",
    "cookies['mixins'].unique()"
   ]
  },
  {
   "cell_type": "code",
   "execution_count": 24,
   "metadata": {},
   "outputs": [
    {
     "data": {
      "text/plain": [
       "13"
      ]
     },
     "execution_count": 24,
     "metadata": {},
     "output_type": "execute_result"
    }
   ],
   "source": [
    "cookies['mixins'].nunique()\n",
    "\n",
    "# there are 13 options on mixins for all cookies"
   ]
  },
  {
   "cell_type": "markdown",
   "metadata": {},
   "source": [
    "### Wrangling the data / making small changes "
   ]
  },
  {
   "cell_type": "code",
   "execution_count": 25,
   "metadata": {},
   "outputs": [],
   "source": [
    "# dropping features appeal and diameter as decided from EDA\n",
    "\n",
    "cookies.drop(columns=[\"aesthetic appeal\", \"diameter\"], inplace=True)"
   ]
  },
  {
   "cell_type": "code",
   "execution_count": 26,
   "metadata": {},
   "outputs": [],
   "source": [
    "# dropping the cookies, which dont have a mixin\n",
    "\n",
    "cookies=cookies.dropna(subset=['mixins'])"
   ]
  },
  {
   "cell_type": "code",
   "execution_count": 27,
   "metadata": {},
   "outputs": [],
   "source": [
    "# resetting the index after dropping rows\n",
    "\n",
    "cookies.reset_index(drop=True, inplace=True)"
   ]
  },
  {
   "cell_type": "code",
   "execution_count": 28,
   "metadata": {},
   "outputs": [
    {
     "name": "stderr",
     "output_type": "stream",
     "text": [
      "2021-05-12 11:54:11,501 [67940] WARNING  py.warnings:109: [JupyterRequire] <ipython-input-28-3e40609b5d33>:4: SettingWithCopyWarning: \n",
      "A value is trying to be set on a copy of a slice from a DataFrame.\n",
      "Try using .loc[row_indexer,col_indexer] = value instead\n",
      "\n",
      "See the caveats in the documentation: https://pandas.pydata.org/pandas-docs/stable/user_guide/indexing.html#returning-a-view-versus-a-copy\n",
      "  cookies['chocolate'] = 0\n",
      "\n",
      "2021-05-12 11:54:11,510 [67940] WARNING  py.warnings:109: [JupyterRequire] <ipython-input-28-3e40609b5d33>:5: SettingWithCopyWarning: \n",
      "A value is trying to be set on a copy of a slice from a DataFrame.\n",
      "Try using .loc[row_indexer,col_indexer] = value instead\n",
      "\n",
      "See the caveats in the documentation: https://pandas.pydata.org/pandas-docs/stable/user_guide/indexing.html#returning-a-view-versus-a-copy\n",
      "  cookies['raisins'] = 0\n",
      "\n",
      "2021-05-12 11:54:11,513 [67940] WARNING  py.warnings:109: [JupyterRequire] <ipython-input-28-3e40609b5d33>:6: SettingWithCopyWarning: \n",
      "A value is trying to be set on a copy of a slice from a DataFrame.\n",
      "Try using .loc[row_indexer,col_indexer] = value instead\n",
      "\n",
      "See the caveats in the documentation: https://pandas.pydata.org/pandas-docs/stable/user_guide/indexing.html#returning-a-view-versus-a-copy\n",
      "  cookies['oats'] = 0\n",
      "\n",
      "2021-05-12 11:54:11,516 [67940] WARNING  py.warnings:109: [JupyterRequire] <ipython-input-28-3e40609b5d33>:7: SettingWithCopyWarning: \n",
      "A value is trying to be set on a copy of a slice from a DataFrame.\n",
      "Try using .loc[row_indexer,col_indexer] = value instead\n",
      "\n",
      "See the caveats in the documentation: https://pandas.pydata.org/pandas-docs/stable/user_guide/indexing.html#returning-a-view-versus-a-copy\n",
      "  cookies['nuts'] = 0\n",
      "\n",
      "2021-05-12 11:54:11,521 [67940] WARNING  py.warnings:109: [JupyterRequire] <ipython-input-28-3e40609b5d33>:8: SettingWithCopyWarning: \n",
      "A value is trying to be set on a copy of a slice from a DataFrame.\n",
      "Try using .loc[row_indexer,col_indexer] = value instead\n",
      "\n",
      "See the caveats in the documentation: https://pandas.pydata.org/pandas-docs/stable/user_guide/indexing.html#returning-a-view-versus-a-copy\n",
      "  cookies['peanut butter'] = 0\n",
      "\n"
     ]
    }
   ],
   "source": [
    "# we want to split up the mixin column into individual columns\n",
    "# therefor we create new columns per mixin\n",
    "\n",
    "cookies['chocolate'] = 0\n",
    "cookies['raisins'] = 0\n",
    "cookies['oats'] = 0\n",
    "cookies['nuts'] = 0\n",
    "cookies['peanut butter'] = 0"
   ]
  },
  {
   "cell_type": "code",
   "execution_count": 29,
   "metadata": {},
   "outputs": [
    {
     "data": {
      "text/html": [
       "<div>\n",
       "<style scoped>\n",
       "    .dataframe tbody tr th:only-of-type {\n",
       "        vertical-align: middle;\n",
       "    }\n",
       "\n",
       "    .dataframe tbody tr th {\n",
       "        vertical-align: top;\n",
       "    }\n",
       "\n",
       "    .dataframe thead th {\n",
       "        text-align: right;\n",
       "    }\n",
       "</style>\n",
       "<table border=\"1\" class=\"dataframe\">\n",
       "  <thead>\n",
       "    <tr style=\"text-align: right;\">\n",
       "      <th></th>\n",
       "      <th>sugar to flour ratio</th>\n",
       "      <th>sugar index</th>\n",
       "      <th>bake temp</th>\n",
       "      <th>chill time</th>\n",
       "      <th>calories</th>\n",
       "      <th>density</th>\n",
       "      <th>pH</th>\n",
       "      <th>grams baking soda</th>\n",
       "      <th>bake time</th>\n",
       "      <th>quality</th>\n",
       "      <th>butter type</th>\n",
       "      <th>weight</th>\n",
       "      <th>mixins</th>\n",
       "      <th>crunch factor</th>\n",
       "      <th>chocolate</th>\n",
       "      <th>raisins</th>\n",
       "      <th>oats</th>\n",
       "      <th>nuts</th>\n",
       "      <th>peanut butter</th>\n",
       "    </tr>\n",
       "  </thead>\n",
       "  <tbody>\n",
       "    <tr>\n",
       "      <th>0</th>\n",
       "      <td>0.25</td>\n",
       "      <td>9.5</td>\n",
       "      <td>300</td>\n",
       "      <td>15.0</td>\n",
       "      <td>136.0</td>\n",
       "      <td>0.99367</td>\n",
       "      <td>8.10</td>\n",
       "      <td>0.44</td>\n",
       "      <td>12.1</td>\n",
       "      <td>8</td>\n",
       "      <td>melted</td>\n",
       "      <td>15.2</td>\n",
       "      <td>raisins</td>\n",
       "      <td>1.30</td>\n",
       "      <td>0</td>\n",
       "      <td>0</td>\n",
       "      <td>0</td>\n",
       "      <td>0</td>\n",
       "      <td>0</td>\n",
       "    </tr>\n",
       "    <tr>\n",
       "      <th>1</th>\n",
       "      <td>0.23</td>\n",
       "      <td>3.3</td>\n",
       "      <td>520</td>\n",
       "      <td>34.0</td>\n",
       "      <td>113.0</td>\n",
       "      <td>0.99429</td>\n",
       "      <td>8.16</td>\n",
       "      <td>0.48</td>\n",
       "      <td>8.4</td>\n",
       "      <td>7</td>\n",
       "      <td>melted</td>\n",
       "      <td>12.4</td>\n",
       "      <td>raisins</td>\n",
       "      <td>1.71</td>\n",
       "      <td>0</td>\n",
       "      <td>0</td>\n",
       "      <td>0</td>\n",
       "      <td>0</td>\n",
       "      <td>0</td>\n",
       "    </tr>\n",
       "    <tr>\n",
       "      <th>2</th>\n",
       "      <td>0.18</td>\n",
       "      <td>1.9</td>\n",
       "      <td>360</td>\n",
       "      <td>33.0</td>\n",
       "      <td>106.0</td>\n",
       "      <td>0.98746</td>\n",
       "      <td>8.21</td>\n",
       "      <td>0.83</td>\n",
       "      <td>14.0</td>\n",
       "      <td>9</td>\n",
       "      <td>melted</td>\n",
       "      <td>9.4</td>\n",
       "      <td>nuts, chocolate</td>\n",
       "      <td>1.78</td>\n",
       "      <td>0</td>\n",
       "      <td>0</td>\n",
       "      <td>0</td>\n",
       "      <td>0</td>\n",
       "      <td>0</td>\n",
       "    </tr>\n",
       "    <tr>\n",
       "      <th>3</th>\n",
       "      <td>0.18</td>\n",
       "      <td>10.5</td>\n",
       "      <td>490</td>\n",
       "      <td>41.0</td>\n",
       "      <td>124.0</td>\n",
       "      <td>0.99630</td>\n",
       "      <td>8.14</td>\n",
       "      <td>0.35</td>\n",
       "      <td>10.5</td>\n",
       "      <td>7</td>\n",
       "      <td>melted</td>\n",
       "      <td>12.2</td>\n",
       "      <td>chocolate</td>\n",
       "      <td>1.59</td>\n",
       "      <td>0</td>\n",
       "      <td>0</td>\n",
       "      <td>0</td>\n",
       "      <td>0</td>\n",
       "      <td>0</td>\n",
       "    </tr>\n",
       "    <tr>\n",
       "      <th>4</th>\n",
       "      <td>0.24</td>\n",
       "      <td>2.4</td>\n",
       "      <td>770</td>\n",
       "      <td>6.0</td>\n",
       "      <td>33.0</td>\n",
       "      <td>0.99740</td>\n",
       "      <td>8.09</td>\n",
       "      <td>0.57</td>\n",
       "      <td>9.4</td>\n",
       "      <td>5</td>\n",
       "      <td>cubed</td>\n",
       "      <td>19.8</td>\n",
       "      <td>nuts, oats, chocolate</td>\n",
       "      <td>1.30</td>\n",
       "      <td>0</td>\n",
       "      <td>0</td>\n",
       "      <td>0</td>\n",
       "      <td>0</td>\n",
       "      <td>0</td>\n",
       "    </tr>\n",
       "  </tbody>\n",
       "</table>\n",
       "</div>"
      ],
      "text/plain": [
       "   sugar to flour ratio  sugar index  bake temp  chill time  calories  \\\n",
       "0                  0.25          9.5        300        15.0     136.0   \n",
       "1                  0.23          3.3        520        34.0     113.0   \n",
       "2                  0.18          1.9        360        33.0     106.0   \n",
       "3                  0.18         10.5        490        41.0     124.0   \n",
       "4                  0.24          2.4        770         6.0      33.0   \n",
       "\n",
       "   density    pH  grams baking soda  bake time  quality butter type  weight  \\\n",
       "0  0.99367  8.10               0.44       12.1        8      melted    15.2   \n",
       "1  0.99429  8.16               0.48        8.4        7      melted    12.4   \n",
       "2  0.98746  8.21               0.83       14.0        9      melted     9.4   \n",
       "3  0.99630  8.14               0.35       10.5        7      melted    12.2   \n",
       "4  0.99740  8.09               0.57        9.4        5       cubed    19.8   \n",
       "\n",
       "                  mixins  crunch factor  chocolate  raisins  oats  nuts  \\\n",
       "0                raisins           1.30          0        0     0     0   \n",
       "1                raisins           1.71          0        0     0     0   \n",
       "2        nuts, chocolate           1.78          0        0     0     0   \n",
       "3              chocolate           1.59          0        0     0     0   \n",
       "4  nuts, oats, chocolate           1.30          0        0     0     0   \n",
       "\n",
       "   peanut butter  \n",
       "0              0  \n",
       "1              0  \n",
       "2              0  \n",
       "3              0  \n",
       "4              0  "
      ]
     },
     "execution_count": 29,
     "metadata": {},
     "output_type": "execute_result"
    }
   ],
   "source": [
    "# lets see if that worked\n",
    "\n",
    "cookies.head()"
   ]
  },
  {
   "cell_type": "code",
   "execution_count": 30,
   "metadata": {},
   "outputs": [
    {
     "name": "stderr",
     "output_type": "stream",
     "text": [
      "2021-05-12 11:55:36,736 [67940] WARNING  py.warnings:109: [JupyterRequire] /Users/josephinebiedermann/opt/anaconda3/lib/python3.8/site-packages/pandas/core/indexing.py:1765: SettingWithCopyWarning: \n",
      "A value is trying to be set on a copy of a slice from a DataFrame.\n",
      "Try using .loc[row_indexer,col_indexer] = value instead\n",
      "\n",
      "See the caveats in the documentation: https://pandas.pydata.org/pandas-docs/stable/user_guide/indexing.html#returning-a-view-versus-a-copy\n",
      "  isetter(loc, value)\n",
      "\n"
     ]
    }
   ],
   "source": [
    "# now lets fill the new features with the values from the mixin column\n",
    "\n",
    "mixins = ['chocolate', 'raisins', 'oats', 'nuts', 'peanut butter']\n",
    "for mix in mixins:\n",
    "    for i in range(len(cookies)):\n",
    "        if mix in [x.strip() for x in cookies.loc[i, 'mixins'].split(',')]:\n",
    "            cookies.loc[i, mix] = 1"
   ]
  },
  {
   "cell_type": "code",
   "execution_count": 31,
   "metadata": {},
   "outputs": [
    {
     "data": {
      "text/html": [
       "<div>\n",
       "<style scoped>\n",
       "    .dataframe tbody tr th:only-of-type {\n",
       "        vertical-align: middle;\n",
       "    }\n",
       "\n",
       "    .dataframe tbody tr th {\n",
       "        vertical-align: top;\n",
       "    }\n",
       "\n",
       "    .dataframe thead th {\n",
       "        text-align: right;\n",
       "    }\n",
       "</style>\n",
       "<table border=\"1\" class=\"dataframe\">\n",
       "  <thead>\n",
       "    <tr style=\"text-align: right;\">\n",
       "      <th></th>\n",
       "      <th>sugar to flour ratio</th>\n",
       "      <th>sugar index</th>\n",
       "      <th>bake temp</th>\n",
       "      <th>chill time</th>\n",
       "      <th>calories</th>\n",
       "      <th>density</th>\n",
       "      <th>pH</th>\n",
       "      <th>grams baking soda</th>\n",
       "      <th>bake time</th>\n",
       "      <th>quality</th>\n",
       "      <th>butter type</th>\n",
       "      <th>weight</th>\n",
       "      <th>mixins</th>\n",
       "      <th>crunch factor</th>\n",
       "      <th>chocolate</th>\n",
       "      <th>raisins</th>\n",
       "      <th>oats</th>\n",
       "      <th>nuts</th>\n",
       "      <th>peanut butter</th>\n",
       "    </tr>\n",
       "  </thead>\n",
       "  <tbody>\n",
       "    <tr>\n",
       "      <th>0</th>\n",
       "      <td>0.25</td>\n",
       "      <td>9.5</td>\n",
       "      <td>300</td>\n",
       "      <td>15.0</td>\n",
       "      <td>136.0</td>\n",
       "      <td>0.99367</td>\n",
       "      <td>8.10</td>\n",
       "      <td>0.44</td>\n",
       "      <td>12.1</td>\n",
       "      <td>8</td>\n",
       "      <td>melted</td>\n",
       "      <td>15.2</td>\n",
       "      <td>raisins</td>\n",
       "      <td>1.30</td>\n",
       "      <td>0</td>\n",
       "      <td>1</td>\n",
       "      <td>0</td>\n",
       "      <td>0</td>\n",
       "      <td>0</td>\n",
       "    </tr>\n",
       "    <tr>\n",
       "      <th>1</th>\n",
       "      <td>0.23</td>\n",
       "      <td>3.3</td>\n",
       "      <td>520</td>\n",
       "      <td>34.0</td>\n",
       "      <td>113.0</td>\n",
       "      <td>0.99429</td>\n",
       "      <td>8.16</td>\n",
       "      <td>0.48</td>\n",
       "      <td>8.4</td>\n",
       "      <td>7</td>\n",
       "      <td>melted</td>\n",
       "      <td>12.4</td>\n",
       "      <td>raisins</td>\n",
       "      <td>1.71</td>\n",
       "      <td>0</td>\n",
       "      <td>1</td>\n",
       "      <td>0</td>\n",
       "      <td>0</td>\n",
       "      <td>0</td>\n",
       "    </tr>\n",
       "    <tr>\n",
       "      <th>2</th>\n",
       "      <td>0.18</td>\n",
       "      <td>1.9</td>\n",
       "      <td>360</td>\n",
       "      <td>33.0</td>\n",
       "      <td>106.0</td>\n",
       "      <td>0.98746</td>\n",
       "      <td>8.21</td>\n",
       "      <td>0.83</td>\n",
       "      <td>14.0</td>\n",
       "      <td>9</td>\n",
       "      <td>melted</td>\n",
       "      <td>9.4</td>\n",
       "      <td>nuts, chocolate</td>\n",
       "      <td>1.78</td>\n",
       "      <td>1</td>\n",
       "      <td>0</td>\n",
       "      <td>0</td>\n",
       "      <td>1</td>\n",
       "      <td>0</td>\n",
       "    </tr>\n",
       "    <tr>\n",
       "      <th>3</th>\n",
       "      <td>0.18</td>\n",
       "      <td>10.5</td>\n",
       "      <td>490</td>\n",
       "      <td>41.0</td>\n",
       "      <td>124.0</td>\n",
       "      <td>0.99630</td>\n",
       "      <td>8.14</td>\n",
       "      <td>0.35</td>\n",
       "      <td>10.5</td>\n",
       "      <td>7</td>\n",
       "      <td>melted</td>\n",
       "      <td>12.2</td>\n",
       "      <td>chocolate</td>\n",
       "      <td>1.59</td>\n",
       "      <td>1</td>\n",
       "      <td>0</td>\n",
       "      <td>0</td>\n",
       "      <td>0</td>\n",
       "      <td>0</td>\n",
       "    </tr>\n",
       "    <tr>\n",
       "      <th>4</th>\n",
       "      <td>0.24</td>\n",
       "      <td>2.4</td>\n",
       "      <td>770</td>\n",
       "      <td>6.0</td>\n",
       "      <td>33.0</td>\n",
       "      <td>0.99740</td>\n",
       "      <td>8.09</td>\n",
       "      <td>0.57</td>\n",
       "      <td>9.4</td>\n",
       "      <td>5</td>\n",
       "      <td>cubed</td>\n",
       "      <td>19.8</td>\n",
       "      <td>nuts, oats, chocolate</td>\n",
       "      <td>1.30</td>\n",
       "      <td>1</td>\n",
       "      <td>0</td>\n",
       "      <td>1</td>\n",
       "      <td>1</td>\n",
       "      <td>0</td>\n",
       "    </tr>\n",
       "  </tbody>\n",
       "</table>\n",
       "</div>"
      ],
      "text/plain": [
       "   sugar to flour ratio  sugar index  bake temp  chill time  calories  \\\n",
       "0                  0.25          9.5        300        15.0     136.0   \n",
       "1                  0.23          3.3        520        34.0     113.0   \n",
       "2                  0.18          1.9        360        33.0     106.0   \n",
       "3                  0.18         10.5        490        41.0     124.0   \n",
       "4                  0.24          2.4        770         6.0      33.0   \n",
       "\n",
       "   density    pH  grams baking soda  bake time  quality butter type  weight  \\\n",
       "0  0.99367  8.10               0.44       12.1        8      melted    15.2   \n",
       "1  0.99429  8.16               0.48        8.4        7      melted    12.4   \n",
       "2  0.98746  8.21               0.83       14.0        9      melted     9.4   \n",
       "3  0.99630  8.14               0.35       10.5        7      melted    12.2   \n",
       "4  0.99740  8.09               0.57        9.4        5       cubed    19.8   \n",
       "\n",
       "                  mixins  crunch factor  chocolate  raisins  oats  nuts  \\\n",
       "0                raisins           1.30          0        1     0     0   \n",
       "1                raisins           1.71          0        1     0     0   \n",
       "2        nuts, chocolate           1.78          1        0     0     1   \n",
       "3              chocolate           1.59          1        0     0     0   \n",
       "4  nuts, oats, chocolate           1.30          1        0     1     1   \n",
       "\n",
       "   peanut butter  \n",
       "0              0  \n",
       "1              0  \n",
       "2              0  \n",
       "3              0  \n",
       "4              0  "
      ]
     },
     "execution_count": 31,
     "metadata": {},
     "output_type": "execute_result"
    }
   ],
   "source": [
    "# did that work?\n",
    "\n",
    "cookies.head()"
   ]
  },
  {
   "cell_type": "code",
   "execution_count": 32,
   "metadata": {},
   "outputs": [
    {
     "name": "stderr",
     "output_type": "stream",
     "text": [
      "2021-05-12 11:56:12,644 [67940] WARNING  py.warnings:109: [JupyterRequire] /Users/josephinebiedermann/opt/anaconda3/lib/python3.8/site-packages/pandas/core/frame.py:4163: SettingWithCopyWarning: \n",
      "A value is trying to be set on a copy of a slice from a DataFrame\n",
      "\n",
      "See the caveats in the documentation: https://pandas.pydata.org/pandas-docs/stable/user_guide/indexing.html#returning-a-view-versus-a-copy\n",
      "  return super().drop(\n",
      "\n"
     ]
    }
   ],
   "source": [
    "# now we can drop the mixins column\n",
    "\n",
    "cookies.drop(columns=[\"mixins\"], inplace=True)"
   ]
  },
  {
   "cell_type": "code",
   "execution_count": 33,
   "metadata": {},
   "outputs": [
    {
     "data": {
      "image/png": "[encoded data removed]",
      "text/plain": [
       "<Figure size 1152x432 with 2 Axes>"
      ]
     },
     "metadata": {
      "needs_background": "light"
     },
     "output_type": "display_data"
    }
   ],
   "source": [
    "# we are looking at the heatmap again\n",
    "\n",
    "plt.figure(figsize=(16, 6))\n",
    "mask = np.triu(np.ones_like(cookies.corr(), dtype=np.bool))\n",
    "heatmap = sns.heatmap(cookies.corr(), mask=mask, vmin=-1, vmax=1, annot=True, cmap='BrBG')"
   ]
  },
  {
   "cell_type": "markdown",
   "metadata": {},
   "source": [
    "### pre processing- drop NANs and deal with non numerical data\n"
   ]
  },
  {
   "cell_type": "code",
   "execution_count": 34,
   "metadata": {},
   "outputs": [
    {
     "data": {
      "text/plain": [
       "sugar to flour ratio    float64\n",
       "sugar index             float64\n",
       "bake temp                 int64\n",
       "chill time              float64\n",
       "calories                float64\n",
       "density                 float64\n",
       "pH                      float64\n",
       "grams baking soda       float64\n",
       "bake time               float64\n",
       "quality                   int64\n",
       "butter type              object\n",
       "weight                  float64\n",
       "crunch factor           float64\n",
       "chocolate                 int64\n",
       "raisins                   int64\n",
       "oats                      int64\n",
       "nuts                      int64\n",
       "peanut butter             int64\n",
       "dtype: object"
      ]
     },
     "execution_count": 34,
     "metadata": {},
     "output_type": "execute_result"
    }
   ],
   "source": [
    "# lets look again at which data types we have\n",
    "\n",
    "cookies.dtypes\n",
    "\n",
    "# only 1 feature left, which is cat - butter type"
   ]
  },
  {
   "cell_type": "code",
   "execution_count": 35,
   "metadata": {},
   "outputs": [],
   "source": [
    "# we will encode butter type as a pre processing step with get dummies\n",
    "\n",
    "cookies=pd.get_dummies(cookies, columns=['butter type'])"
   ]
  },
  {
   "cell_type": "code",
   "execution_count": 36,
   "metadata": {},
   "outputs": [
    {
     "name": "stdout",
     "output_type": "stream",
     "text": [
      "<class 'pandas.core.frame.DataFrame'>\n",
      "RangeIndex: 5196 entries, 0 to 5195\n",
      "Data columns (total 19 columns):\n",
      " #   Column                Non-Null Count  Dtype  \n",
      "---  ------                --------------  -----  \n",
      " 0   sugar to flour ratio  5196 non-null   float64\n",
      " 1   sugar index           5191 non-null   float64\n",
      " 2   bake temp             5196 non-null   int64  \n",
      " 3   chill time            5196 non-null   float64\n",
      " 4   calories              5196 non-null   float64\n",
      " 5   density               5196 non-null   float64\n",
      " 6   pH                    5196 non-null   float64\n",
      " 7   grams baking soda     5196 non-null   float64\n",
      " 8   bake time             5186 non-null   float64\n",
      " 9   quality               5196 non-null   int64  \n",
      " 10  weight                5196 non-null   float64\n",
      " 11  crunch factor         5196 non-null   float64\n",
      " 12  chocolate             5196 non-null   int64  \n",
      " 13  raisins               5196 non-null   int64  \n",
      " 14  oats                  5196 non-null   int64  \n",
      " 15  nuts                  5196 non-null   int64  \n",
      " 16  peanut butter         5196 non-null   int64  \n",
      " 17  butter type_cubed     5196 non-null   uint8  \n",
      " 18  butter type_melted    5196 non-null   uint8  \n",
      "dtypes: float64(10), int64(7), uint8(2)\n",
      "memory usage: 700.4 KB\n"
     ]
    }
   ],
   "source": [
    "# lets see if it did the trick\n",
    "\n",
    "cookies.info()\n",
    "\n",
    "# yes worked, now we have no more object type and butter is split into 2 new columns"
   ]
  },
  {
   "cell_type": "code",
   "execution_count": 37,
   "metadata": {},
   "outputs": [],
   "source": [
    "# now lets drop the na values\n",
    "\n",
    "cookies = cookies.dropna()"
   ]
  },
  {
   "cell_type": "code",
   "execution_count": 38,
   "metadata": {},
   "outputs": [],
   "source": [
    "# and reset the index again\n",
    "\n",
    "cookies.reset_index(drop=True, inplace=True)"
   ]
  },
  {
   "cell_type": "markdown",
   "metadata": {},
   "source": [
    "### Split data into dependent and independent variables "
   ]
  },
  {
   "cell_type": "code",
   "execution_count": 40,
   "metadata": {},
   "outputs": [],
   "source": [
    "X= cookies.drop(columns=\"quality\")\n",
    "y= cookies.quality"
   ]
  },
  {
   "cell_type": "markdown",
   "metadata": {},
   "source": [
    "### Preprocessing - scaling "
   ]
  },
  {
   "cell_type": "code",
   "execution_count": 41,
   "metadata": {},
   "outputs": [],
   "source": [
    "from sklearn.preprocessing import StandardScaler\n",
    "\n",
    "scaler = StandardScaler()\n",
    "\n",
    "X_scaled = scaler.fit_transform(X)"
   ]
  },
  {
   "cell_type": "markdown",
   "metadata": {},
   "source": [
    "### Train test split"
   ]
  },
  {
   "cell_type": "code",
   "execution_count": 42,
   "metadata": {},
   "outputs": [],
   "source": [
    "from sklearn.model_selection import train_test_split\n",
    "\n",
    "X_train, X_test, y_train, y_test = train_test_split(X_scaled, y, test_size=0.1, random_state=40)"
   ]
  },
  {
   "cell_type": "markdown",
   "metadata": {},
   "source": [
    "### get model, fit, make predictions  AND evaluate"
   ]
  },
  {
   "cell_type": "code",
   "execution_count": 43,
   "metadata": {},
   "outputs": [],
   "source": [
    "from sklearn import linear_model\n",
    "from sklearn.metrics import mean_squared_error, r2_score"
   ]
  },
  {
   "cell_type": "code",
   "execution_count": 44,
   "metadata": {},
   "outputs": [],
   "source": [
    "lm = linear_model.LinearRegression()\n",
    "model = lm.fit(X_train,y_train)"
   ]
  },
  {
   "cell_type": "code",
   "execution_count": 45,
   "metadata": {},
   "outputs": [],
   "source": [
    "predictions = lm.predict(X_test)"
   ]
  },
  {
   "cell_type": "code",
   "execution_count": 46,
   "metadata": {},
   "outputs": [
    {
     "data": {
      "text/plain": [
       "array([   7.87258072,    7.91771875,    7.99728812,    7.59543719,\n",
       "          7.36946762,    7.54555908,    6.29680171,    5.00894655,\n",
       "          7.95731305,    8.581827  ,    8.15093187,    7.3324341 ,\n",
       "          8.07034461,    8.27887586,    7.5472386 ,    7.11417161,\n",
       "          7.92028416,    8.58991383,    8.08492805,    5.5128639 ,\n",
       "          7.64220995,    7.87015418,    8.12417485,    8.52865226,\n",
       "          8.51131914,    7.03826782,    7.35752063,    6.73588101,\n",
       "          6.26292249,    8.51082477,    5.68614641,    5.75489192,\n",
       "          8.22851198,    7.21093688,    6.50725649,    6.4154661 ,\n",
       "          5.57686646,    8.15749093,    6.033516  ,    8.24742492,\n",
       "          8.03568269,    5.32259946,    7.58152587,    6.12310561,\n",
       "          5.06630945,    5.44778934,    7.58885775,    7.41331248,\n",
       "          7.75405879,    8.01229071,    7.53463982,    5.26852912,\n",
       "          6.72260451,    8.58429674,    6.08409235,    7.8727646 ,\n",
       "          7.6014881 ,    7.84494766,    8.61219176,    6.2124881 ,\n",
       "          5.29568144,    7.47161452,    7.74442387,    7.65252992,\n",
       "          7.85821911,    7.42412567,    7.54183045,    7.66082179,\n",
       "          7.51031952,    7.34870635,    7.49458254,    5.6230566 ,\n",
       "          7.43558495,    7.60142263,    4.90359702,    8.21906533,\n",
       "          7.54101892,    7.29027749,    7.63260927,    7.77498434,\n",
       "          7.59499342, -137.19430725,    7.70656279,    7.09388885,\n",
       "          5.84794948,    7.57788426,    7.89128603,    7.98122374,\n",
       "          8.18779659,    7.13988671,    5.4833479 ,    7.51018706,\n",
       "          6.5504749 ,    7.72237499,    5.6888665 ,    5.3128616 ,\n",
       "          7.97122637,    7.2407423 ,    7.52894261,    7.62139818,\n",
       "          5.30891557,    7.67451818,    8.2089916 ,    8.25721903,\n",
       "          8.50012876,    7.91388146,    7.50276933,    5.66834937,\n",
       "          7.78696274,    7.85789865,    8.18678782,    5.21019597,\n",
       "          7.49444397,    7.60003866,    7.36035366,    7.32253748,\n",
       "          5.85013014,    8.04297453,    7.54934356,    7.48794743,\n",
       "          7.13489775,    7.42992764,    8.15614666,    7.89637492,\n",
       "          7.77574851,    8.30547392,    8.6543528 ,    7.52781345,\n",
       "          7.24172099,    7.23879833,    6.49112946,    8.11603962,\n",
       "          5.14804769,    6.22390874,    5.42414733,    8.13612023,\n",
       "          9.07035437,    5.08113994,    5.51455726,    7.81045201,\n",
       "          6.2352423 ,    7.69211037,    7.21605807,    8.23973368,\n",
       "          7.70567185,    5.02553432,    8.11204725,    7.99273992,\n",
       "          8.70595241,    7.50444136,    7.58004417,    7.47023097,\n",
       "          7.74763311,    7.8508848 ,    8.03389415,    8.39911785,\n",
       "          7.42952239,    6.31784864,    7.41430917,    8.1053723 ,\n",
       "          8.18157532,    8.67009331,    7.96165889,    7.31711168,\n",
       "          7.83804195,    5.35845672,    5.93054781,    7.80017181,\n",
       "          5.31584243,    7.50111178,    8.67398104,    6.66394158,\n",
       "          8.75943537,    7.3930664 ,    7.47335905,    7.57324822,\n",
       "          7.95178345,    8.14536026,    7.81763055,    8.47436165,\n",
       "          7.58958863,    7.59691723,    5.69966197,    7.64598925,\n",
       "          7.5921203 ,    8.39908126,    7.79059459,    8.78400068,\n",
       "          7.91944637,    7.46991031,    7.60398084,    6.89597331,\n",
       "          7.59467322,    8.69240723,    5.89816625,    8.20074724,\n",
       "          7.50122991,    8.0050654 ,    7.33643521,    8.4917972 ,\n",
       "          7.8168768 ,    7.71173335,    8.25785632,    5.94259493,\n",
       "          7.42026151,    5.06678459,    7.86382443,    7.5827048 ,\n",
       "          7.303093  ,    8.93351217,    8.28905221,    7.48812206,\n",
       "          8.19452818,    7.99669197,    5.25266629,    7.79850068,\n",
       "          8.49785811,    8.81606321,    7.13160075,    8.53899861,\n",
       "          5.96008394,    7.57827712,    8.59462292,    5.9663169 ,\n",
       "          7.40884007,    7.2261293 ,    7.10550994,    7.94063764,\n",
       "          8.44768975,    8.14436369,    8.07233052,    7.35471792,\n",
       "          8.96179011,    5.07590525,    7.72317571,    7.6369344 ,\n",
       "          7.10514685,    5.36446978,    8.50926323,    7.539823  ,\n",
       "          6.19832075,    7.73639627,    7.63938522,    8.45018566,\n",
       "          5.1250838 ,    8.29118261,    8.29642721,    6.82848698,\n",
       "          5.39408712,    7.57238348,    5.28916468,    8.435902  ,\n",
       "          5.90760192,    7.68342311,    7.74750783,    8.31438536,\n",
       "          8.4270963 ,    7.78739589,    8.0843464 ,    7.69851834,\n",
       "          7.7849238 ,    7.64408301,    8.0038571 ,    7.76228363,\n",
       "          7.61897661,    8.1902901 ,    5.19339593,    8.38235202,\n",
       "          7.83040894,    8.19153628,    8.70665679,    6.13145185,\n",
       "          7.77782341,    8.34254487,    7.76225341,    7.78794569,\n",
       "          8.12340849,    5.51251953,    5.52768281,    5.64792694,\n",
       "          7.60958857,    7.72144125,    5.30542377,    7.82716166,\n",
       "          5.57336344,    7.81784497,    7.59584976,    8.7666984 ,\n",
       "          7.58402166,    7.51998411,    7.29711122,    6.21974957,\n",
       "          6.42779677,    7.35884045,    7.74649059,    8.03594148,\n",
       "          5.18180936,    7.80792137,    5.43843754,    7.81425473,\n",
       "          7.36859446,    8.54070687,    7.63989559,    8.34329959,\n",
       "          6.83457626,    7.95716857,    6.14863519,    7.97531714,\n",
       "          5.3733264 ,    8.16490368,    8.33116542,    6.61133611,\n",
       "          8.41219478,    7.62279873,    7.79197183,    7.79692201,\n",
       "          7.69647551,    8.13406583,    7.9628436 ,    5.41469824,\n",
       "          7.15733618,    8.13212772,    6.0797434 ,    5.29482802,\n",
       "          7.44183179,    5.87362383,    8.26986735,    7.7928391 ,\n",
       "          7.33059958,    8.09466873,    8.30685131,    7.84842772,\n",
       "          7.73701884,    5.14217601,    8.21248027,    7.25907815,\n",
       "          5.73355711,    7.0314737 ,    8.06829301,    7.98214549,\n",
       "          7.71251518,    7.74111079,    7.82985906,    8.40923923,\n",
       "          8.74357712,    8.02345782,    8.58642429,    7.98021746,\n",
       "          7.49296678,    5.40621506,    7.83245682,    7.91171082,\n",
       "          8.10930355,    7.53986539,    8.60479947,    7.89881495,\n",
       "          8.05462201,    7.66161367,    7.79994587,    7.19115804,\n",
       "          5.58602584,    8.56312398,    8.15527812,    4.91218724,\n",
       "          7.29551485,    5.47514984,    6.86458887,    8.96306248,\n",
       "          7.61522765,    7.39239694,    7.81745323,    5.31824639,\n",
       "          5.25374283,    7.52908635,    7.33944589,    8.31783185,\n",
       "          5.46999333,    7.50256327,    7.60685598,    7.65624041,\n",
       "          7.33404115,    7.46360444,    8.41039918,    7.9523058 ,\n",
       "          6.82903804,    7.7292269 ,    7.8903456 ,    7.81312404,\n",
       "          5.07221605,    8.0410615 ,    8.53632556,    6.09031511,\n",
       "          7.74905475,    8.19997344,    7.80546643,    7.64672904,\n",
       "          5.31024294,    7.99860111,    7.89262617,    8.21948092,\n",
       "          7.72802194,    5.35765901,    7.70044811,    5.39031441,\n",
       "          8.3623732 ,    5.10381965,    7.36073246,    8.23279877,\n",
       "          5.17706982,    7.9999478 ,    8.08082487,    7.53731002,\n",
       "          8.54781155,    5.36992416,    5.28763589,    5.4977831 ,\n",
       "          7.99516439,    6.15133505,    8.16216654,    5.65694517,\n",
       "          7.36140987,    8.00773137,    5.73313393,    8.2871739 ,\n",
       "          5.90412955,    7.52547704,    5.57366816,    7.93229872,\n",
       "          5.73714967,    7.99945026,    7.75039514,    5.28670904,\n",
       "          7.81728179,    8.0134868 ,    5.2458117 ,    8.19620854,\n",
       "          8.64099556,    5.32363362,    7.75609823,    7.61255308,\n",
       "          8.6373515 ,    7.89858002,    7.34898331,    8.1887722 ,\n",
       "          7.86949752,    8.10932856,    8.12159924,    6.45667469,\n",
       "          7.52513431,    7.48267716,    7.96096644,    7.31778722,\n",
       "          8.22419727,    7.99748258,    7.66573195,    8.35484288,\n",
       "          7.49521   ,    7.55181314,    8.31997975,    8.20630075,\n",
       "          5.24899433,    7.41767018,    7.4228082 ,    7.12913026,\n",
       "          5.29560217,    7.92048132,    5.21842645,    7.72226207,\n",
       "          8.69804293,    5.94908687,    6.97529994,    7.1301063 ,\n",
       "          7.8515978 ,    5.26789945,    7.25410499,    8.05972556,\n",
       "          7.5272688 ,    8.83693348,    6.06434163,    7.90577339,\n",
       "          5.51017172,    8.09293953,    8.07410462,    5.05814998,\n",
       "          7.93769772,    8.81431778,    8.07519388,    5.55164018,\n",
       "          8.07660308,    7.86207186,    7.54457669,    8.63137356,\n",
       "          7.84395526,    7.44328098,    7.5042891 ,    8.23073291,\n",
       "          5.77464421,    7.48096366,    8.18161818,    7.86082527,\n",
       "          7.58343812,    4.85059892,    8.52744217,    7.62060186,\n",
       "          5.19952189,    7.88680963,    7.1085832 ,    8.3094424 ,\n",
       "          5.76496884,    6.20326634,    7.38515603,    7.73041522,\n",
       "          7.29602805,    7.18290372,    8.46452909,    6.088355  ,\n",
       "          4.92748771,    7.00162345,    7.35131661])"
      ]
     },
     "execution_count": 46,
     "metadata": {},
     "output_type": "execute_result"
    }
   ],
   "source": [
    "predictions"
   ]
  },
  {
   "cell_type": "code",
   "execution_count": 47,
   "metadata": {},
   "outputs": [
    {
     "data": {
      "text/plain": [
       "-22.552442430676077"
      ]
     },
     "execution_count": 47,
     "metadata": {},
     "output_type": "execute_result"
    }
   ],
   "source": [
    "r2_score(y_test, predictions)"
   ]
  },
  {
   "cell_type": "code",
   "execution_count": 48,
   "metadata": {},
   "outputs": [
    {
     "name": "stdout",
     "output_type": "stream",
     "text": [
      "41.17832330288146\n"
     ]
    }
   ],
   "source": [
    "mse = mean_squared_error(y_test, predictions)\n",
    "print(mse)"
   ]
  },
  {
   "cell_type": "code",
   "execution_count": 49,
   "metadata": {},
   "outputs": [
    {
     "name": "stdout",
     "output_type": "stream",
     "text": [
      "6.41703383993582\n"
     ]
    }
   ],
   "source": [
    "import math \n",
    "rmse = math.sqrt(mse)\n",
    "print(rmse)"
   ]
  },
  {
   "cell_type": "markdown",
   "metadata": {},
   "source": [
    "### Make predictions on the cookies_validate dataset (without labels)"
   ]
  },
  {
   "cell_type": "code",
   "execution_count": 50,
   "metadata": {},
   "outputs": [],
   "source": [
    "cookies_val = pd.read_csv('cookies_validate.csv')"
   ]
  },
  {
   "cell_type": "code",
   "execution_count": 51,
   "metadata": {},
   "outputs": [
    {
     "name": "stdout",
     "output_type": "stream",
     "text": [
      "<class 'pandas.core.frame.DataFrame'>\n",
      "RangeIndex: 779 entries, 0 to 778\n",
      "Data columns (total 17 columns):\n",
      " #   Column                Non-Null Count  Dtype  \n",
      "---  ------                --------------  -----  \n",
      " 0   id                    779 non-null    int64  \n",
      " 1   sugar to flour ratio  779 non-null    float64\n",
      " 2   sugar index           779 non-null    float64\n",
      " 3   bake temp             779 non-null    float64\n",
      " 4   chill time            779 non-null    float64\n",
      " 5   calories              779 non-null    float64\n",
      " 6   density               779 non-null    float64\n",
      " 7   pH                    779 non-null    float64\n",
      " 8   grams baking soda     779 non-null    float64\n",
      " 9   bake time             779 non-null    float64\n",
      " 10  quality               779 non-null    int64  \n",
      " 11  butter type           779 non-null    object \n",
      " 12  weight                779 non-null    float64\n",
      " 13  diameter              779 non-null    int64  \n",
      " 14  mixins                779 non-null    object \n",
      " 15  crunch factor         779 non-null    float64\n",
      " 16  aesthetic appeal      779 non-null    int64  \n",
      "dtypes: float64(11), int64(4), object(2)\n",
      "memory usage: 103.6+ KB\n"
     ]
    }
   ],
   "source": [
    "cookies_val.info()"
   ]
  },
  {
   "cell_type": "code",
   "execution_count": 52,
   "metadata": {},
   "outputs": [],
   "source": [
    "# need to clean the df as we did with the origial one on which we trained the model\n",
    "\n",
    "cookies_val.drop(columns=[\"aesthetic appeal\", \"diameter\"], inplace=True)"
   ]
  },
  {
   "cell_type": "code",
   "execution_count": 53,
   "metadata": {},
   "outputs": [],
   "source": [
    "cookies_val['chocolate'] = 0\n",
    "cookies_val['raisins'] = 0\n",
    "cookies_val['oats'] = 0\n",
    "cookies_val['nuts'] = 0\n",
    "cookies_val['peanut butter'] = 0"
   ]
  },
  {
   "cell_type": "code",
   "execution_count": 54,
   "metadata": {},
   "outputs": [],
   "source": [
    "mixins = ['chocolate', 'raisins', 'oats', 'nuts', 'peanut butter']\n",
    "for mix in mixins:\n",
    "    for i in range(len(cookies_val)):\n",
    "        if mix in [x.strip() for x in cookies_val.loc[i, 'mixins'].split(',')]:\n",
    "            cookies_val.loc[i, mix] = 1\n",
    "            \n",
    "cookies_val.drop(columns=[\"mixins\"], inplace=True)"
   ]
  },
  {
   "cell_type": "code",
   "execution_count": 55,
   "metadata": {},
   "outputs": [],
   "source": [
    "cookies_val.drop(columns= 'id', inplace=True)"
   ]
  },
  {
   "cell_type": "code",
   "execution_count": 56,
   "metadata": {},
   "outputs": [],
   "source": [
    "cookies_val=pd.get_dummies(cookies_val, columns=['butter type'])"
   ]
  },
  {
   "cell_type": "code",
   "execution_count": 57,
   "metadata": {},
   "outputs": [
    {
     "name": "stdout",
     "output_type": "stream",
     "text": [
      "<class 'pandas.core.frame.DataFrame'>\n",
      "RangeIndex: 779 entries, 0 to 778\n",
      "Data columns (total 19 columns):\n",
      " #   Column                Non-Null Count  Dtype  \n",
      "---  ------                --------------  -----  \n",
      " 0   sugar to flour ratio  779 non-null    float64\n",
      " 1   sugar index           779 non-null    float64\n",
      " 2   bake temp             779 non-null    float64\n",
      " 3   chill time            779 non-null    float64\n",
      " 4   calories              779 non-null    float64\n",
      " 5   density               779 non-null    float64\n",
      " 6   pH                    779 non-null    float64\n",
      " 7   grams baking soda     779 non-null    float64\n",
      " 8   bake time             779 non-null    float64\n",
      " 9   quality               779 non-null    int64  \n",
      " 10  weight                779 non-null    float64\n",
      " 11  crunch factor         779 non-null    float64\n",
      " 12  chocolate             779 non-null    int64  \n",
      " 13  raisins               779 non-null    int64  \n",
      " 14  oats                  779 non-null    int64  \n",
      " 15  nuts                  779 non-null    int64  \n",
      " 16  peanut butter         779 non-null    int64  \n",
      " 17  butter type_cubed     779 non-null    uint8  \n",
      " 18  butter type_melted    779 non-null    uint8  \n",
      "dtypes: float64(11), int64(6), uint8(2)\n",
      "memory usage: 105.1 KB\n"
     ]
    }
   ],
   "source": [
    "cookies_val.info()"
   ]
  },
  {
   "cell_type": "code",
   "execution_count": 58,
   "metadata": {},
   "outputs": [],
   "source": [
    "X_val = cookies_val.drop(columns=\"quality\")"
   ]
  },
  {
   "cell_type": "code",
   "execution_count": 59,
   "metadata": {},
   "outputs": [],
   "source": [
    "X_val_scaled = scaler.fit_transform(X_val)"
   ]
  },
  {
   "cell_type": "code",
   "execution_count": 60,
   "metadata": {},
   "outputs": [],
   "source": [
    "predictions_val=lm.predict(X_val_scaled)"
   ]
  },
  {
   "cell_type": "code",
   "execution_count": 61,
   "metadata": {},
   "outputs": [
    {
     "data": {
      "text/plain": [
       "array([  4.21817735,   7.97002524,   5.73645256,   9.51268581,\n",
       "         5.44123213,   6.69094278,   8.50019825,   5.74263918,\n",
       "         7.83899812,   7.53124007,   6.61253016,   8.11696475,\n",
       "         7.32885399,   8.86958113,   9.8873583 ,   5.99365221,\n",
       "         4.61452105,   7.98945161,  10.5726779 ,   9.30998457,\n",
       "         8.81403807,   8.02009332,   9.61285216,   4.97518006,\n",
       "         5.75435267,   5.11601729,   7.29373223,   8.57275261,\n",
       "         5.08784944,   5.98532943,   8.35590727,   6.27208554,\n",
       "         5.17303016,   7.95305331,   9.11683099,   8.43684173,\n",
       "         9.69455136,   9.09887792,   6.48494351,   6.63172189,\n",
       "         8.83361792,   8.6528916 ,   8.12755921,   7.99373188,\n",
       "         6.08632621,   6.59395407,   6.39054881,   8.88412319,\n",
       "         4.22345648,   6.37750861,   5.20649747,   5.18216664,\n",
       "         7.65935903,   5.76083388,   3.97282079,   8.51859316,\n",
       "         4.88825584,   8.70545434,   9.58343857,   9.22245485,\n",
       "         6.64365484,   8.23045167,   7.35351669,   9.2949071 ,\n",
       "         7.59316618,   7.78716908,   5.27320838,   6.7980138 ,\n",
       "         7.26015442,   9.19464728,   7.62562181,  10.34582254,\n",
       "         7.15388399,   6.05198338,   8.38719397,   8.43891931,\n",
       "         8.35825811,   7.80899823,   6.05068697,   9.15502345,\n",
       "         3.88806014,   8.69117818,   7.27394972,   4.73279216,\n",
       "         7.19095387,   8.67975993,   8.67741532,   7.39148949,\n",
       "         6.05790876,   9.72514454,   7.91102491,   6.18973612,\n",
       "         7.12999259,   4.86750016,   8.14252533,   5.37128282,\n",
       "         7.53627727,   9.06703571,   5.88952667,   6.25739999,\n",
       "         9.22097296,   4.8651067 ,   9.12091156,   7.88945285,\n",
       "         8.19958359,   6.68762983,   5.75929606,   7.79353759,\n",
       "         6.16851288,   7.36605773,   8.37208272,   4.77119914,\n",
       "         5.66544291,   6.36801375,   4.35846735,   4.56130554,\n",
       "         5.9369021 ,   5.95009052,   9.75369595,   6.47445985,\n",
       "         8.53076295,   6.11764645,   8.40915481,   8.65896293,\n",
       "         7.80827873,   8.20119683,   6.0037397 ,   6.86119087,\n",
       "         7.22385431,   7.73743481,   4.97580717,   6.86068892,\n",
       "         4.44161046,   8.02432916,   6.14966648,   8.74308001,\n",
       "         4.88265331,   4.53329641,   4.5705838 ,   4.55973999,\n",
       "         8.22341669,   8.20700442,   8.32629786,   6.95914992,\n",
       "         4.91720257,   6.35452965,   3.98600148,   8.99442681,\n",
       "         8.53234918,  10.01543785,   6.43255802,   7.06332081,\n",
       "         6.88895953,   5.98266552,   6.35310709,   4.71316636,\n",
       "         5.99547074,   3.99415995,   9.47501536,   9.45061929,\n",
       "         9.52743554,   6.13869584,   5.1879124 ,   9.17821741,\n",
       "         5.90886236,   4.43260046,   8.1607974 ,   7.58484041,\n",
       "         4.5493059 ,   6.1404092 ,   4.83806714,   8.88531022,\n",
       "         6.71191624,   5.15146794,  10.06038887,   9.2939062 ,\n",
       "         7.85922778,   5.31762888,   6.67771189,   7.65279277,\n",
       "         7.15572214,   6.39346456,   5.09877373,   5.8928734 ,\n",
       "         6.39698762,   4.81002456,   8.47349558,   5.97285003,\n",
       "         2.92718661,   8.83993278,   6.56443132,   4.95855217,\n",
       "         8.48295751,   6.25151028,   8.10739569,   8.26060447,\n",
       "         4.79533283,   4.80822818,   9.6001111 ,   8.01910827,\n",
       "         6.11990009,  10.22700873,   9.87886994,   6.38345714,\n",
       "         9.33314813,   5.22163689,   5.30606588,   5.62684705,\n",
       "         4.5372683 ,   8.49021252,   5.27240778,   5.91033157,\n",
       "         9.21460213,   7.48080238,   3.86011026,   6.9925386 ,\n",
       "         7.00212156,   6.82687149,   3.5105356 ,   4.83517009,\n",
       "         4.8167063 ,   6.41020229,   6.40129121,   4.00320222,\n",
       "         7.0282383 ,   7.79008993,   6.43736408,   5.66610252,\n",
       "         6.59567433,   6.81200448,   6.32977738,   6.85156266,\n",
       "         4.92173267,   4.16249357,   6.72035743,   9.45132485,\n",
       "         9.42544352,   5.54894932,   9.76577622,   8.74259759,\n",
       "         6.59984451,   6.13375616,   5.10139501,   6.7100694 ,\n",
       "         5.33781795,   4.33896727,   6.61504442,   6.74230315,\n",
       "         6.34499372,   6.56649696,   4.5459215 ,   5.05471494,\n",
       "         6.34645154,   6.91144194,   6.03699597,   6.73684041,\n",
       "         3.98995872,   6.01073539,   8.59458243,   9.1576364 ,\n",
       "        11.07040825,   5.18091495,   6.33011588,   9.9452126 ,\n",
       "         8.35880167,   8.26298738,   4.56291094,   4.49046337,\n",
       "         8.89516705,   8.632146  ,   9.39329924,   6.25929727,\n",
       "         6.46052098,   7.28054497,  10.26266449,   6.00652403,\n",
       "         6.19152481,  10.75784656,  10.60804928,   9.49987268,\n",
       "         4.67432825,   6.68079884,   7.29791874,   9.46373023,\n",
       "         8.20957677,   8.83813671, -15.98896436,   4.29071921,\n",
       "        11.38015242,   6.00991785,   8.06235289,   8.61246315,\n",
       "         5.39281541,   5.33986381,   6.55605154,   9.99377828,\n",
       "        10.03507481,   6.61567377,   5.61075793,   7.30409767,\n",
       "         8.65124662,  10.4222822 ,   8.43250761,   4.68315991,\n",
       "         9.6770926 ,   8.71770382,  10.69760741,  10.51938898,\n",
       "         9.38086938,  10.08208462,  11.19934544,  10.75480802,\n",
       "         8.82417431,   7.96682272,  10.34179332,   4.52604047,\n",
       "         9.50505952,   7.23522555,  10.13454754,  10.08703123,\n",
       "         7.10045716,  10.06904663,  10.06171973,  10.09231198,\n",
       "         6.65972145,   6.82546489,  10.77412559,   6.83067119,\n",
       "         6.76021972,   7.02462698,   4.99820865,   8.77836003,\n",
       "         7.2501024 ,   9.51582025,  10.60395126,   7.26879313,\n",
       "         9.73969438,   9.63969033,  10.79088251,   8.08006459,\n",
       "         7.83149106,   7.33305234,   6.69488247,   7.38158506,\n",
       "         7.38451582,   7.02615078,  10.03672684,   5.14364236,\n",
       "         5.00487367,   7.71702925,   7.73105825,   7.68829286,\n",
       "         9.49963659,  10.67035018,   9.01826699,   7.7061705 ,\n",
       "         7.244746  ,   6.9991181 ,  10.92848846,   9.74383241,\n",
       "         9.46051453,  10.04652181,   7.8999269 ,   7.77406904,\n",
       "        10.05326256,   9.04171837,   6.77436327,   8.25214106,\n",
       "         9.6488108 ,   8.29096313,  10.51021523,  10.51986078,\n",
       "        10.1131594 ,   8.52191146,   4.64519664,  10.60160819,\n",
       "         4.46603088,   9.18639149,  10.39377698,   9.50224359,\n",
       "        10.40412267,   8.5148644 ,   8.75967967,   7.72801802,\n",
       "        10.29509995,   9.40037943,   8.20803757,   9.85047531,\n",
       "        10.11308716,   7.75124744,   8.90188391,   4.97919995,\n",
       "         4.95663309,  10.64913764,   8.24002173,   9.04253467,\n",
       "         8.00674888,   5.21037154,   8.80224602,  10.58949309,\n",
       "         9.39564131,   9.30603525,  10.06629725,   9.6000969 ,\n",
       "        10.93178319,  10.81486418,   5.34582024,   6.55508909,\n",
       "        11.34822123,   9.88807658,   8.48508459,   8.49944603,\n",
       "         6.00591752,   8.63451984,   6.01910594,   6.14409193,\n",
       "        10.70742155,   2.93563534,   8.30963992,  11.65944334,\n",
       "        10.76845215,   9.86591315,   9.81564148,   8.60103482,\n",
       "        10.76734392,   5.27603264,  11.39727841,   5.02730325,\n",
       "         7.6786729 ,   9.31348052,  10.94775193,   8.79475591,\n",
       "         9.019796  ,   7.61956018,  10.93454241,   4.85214119,\n",
       "         9.81107817,   7.72383666,  11.01072254,   6.62376784,\n",
       "         7.42966398,  10.08161941,   9.15358457,   9.1617907 ,\n",
       "         6.2592044 ,  10.60381468,   9.06400928,   6.53283474,\n",
       "        11.08631215,  10.85231193,   8.88810248,   4.07438553,\n",
       "         5.05951585,   9.76885384,   9.92479057,   7.88405354,\n",
       "         9.92742825,   6.41944426,   5.75215437,   5.74629285,\n",
       "         8.89510179,  10.89473784,  10.34155041,   8.81134743,\n",
       "        10.78727735,   2.84492417,   8.96216765,   2.84785493,\n",
       "         9.84639472,   6.76538557,  10.75830521,   8.71029221,\n",
       "        11.07914501,   7.89227095,   3.76067057,   7.45850931,\n",
       "         6.38079487,   6.81985013,   8.07036974,   9.76912356,\n",
       "         9.55213481,  10.70808668,   7.51402083,   5.24674275,\n",
       "         6.45269264,   8.43011878,   8.04263369,   8.59176512,\n",
       "         5.22451451,  10.04539624,   5.49212531,   8.77452468,\n",
       "         8.84277636,  10.90166387,   7.10425494,   9.70691037,\n",
       "         9.90450962,   7.98849604,   6.71404205,   6.69424929,\n",
       "         8.63951084,   5.70707166,   8.9295702 ,   8.98457274,\n",
       "         9.35144761,   6.61622508,   8.84672705,   9.15832854,\n",
       "        11.37399749,   9.48613988,   8.75796924,  10.96952781,\n",
       "         6.52982076,   5.71911083,   9.11810595,   4.7946115 ,\n",
       "         7.31614138,   8.72029324,   8.67061619,   9.22298611,\n",
       "         7.31669745,   7.27491664,   9.12419153,   9.62082579,\n",
       "        12.34021844,  10.55313983,  12.05137021,  11.39294871,\n",
       "         5.76531246,  11.18056974,   6.20222189,   8.69473576,\n",
       "         9.88902172,   9.14622697,   9.13391778,   7.53050903,\n",
       "         8.83219218,   5.21992889,   7.41953218,   5.2307727 ,\n",
       "         9.25330625,  10.8292269 ,   7.97585686,   7.98493293,\n",
       "         4.06185389,   8.1107348 ,   8.10809711,   9.46053779,\n",
       "        10.02633876,   4.31178747,   7.03804084,   6.40753583,\n",
       "         9.25626512,   7.67108934,   9.16069354,   5.31411003,\n",
       "         7.49006113,   7.18912992,   6.53002988,   9.64604003,\n",
       "         6.57352194,   9.05241039,   9.68270808,   5.67318667,\n",
       "         5.15978442,   5.06220359,   5.67516337,   5.69216178,\n",
       "         7.1073346 ,   5.50141263,   5.52222103,   4.92709278,\n",
       "         4.90628438,   8.24591556,   5.33466362,  10.31831306,\n",
       "         7.84603532,   5.28766318,   6.21782265,   9.33892177,\n",
       "         5.43840869,   9.35471833,  10.15071259,  10.5942613 ,\n",
       "         9.01625589,  10.81323306,   9.17934621,   5.14783416,\n",
       "         9.57834417,   8.57197084,   8.96216623,   8.34806205,\n",
       "         8.95806317,  10.73300502,   5.76777646,   5.49901968,\n",
       "         7.45901249,   7.50810058,   9.14834161,   9.446413  ,\n",
       "        10.30850039,  10.31840079,  10.02201374,   5.10439551,\n",
       "         8.62509709,   9.05072147,   6.80521292,   6.86057598,\n",
       "         5.81910237,   8.21476804,   9.15444005,   8.15563001,\n",
       "         8.82937185,   9.72816558,   8.139091  ,   5.32371955,\n",
       "         6.05616418,   6.06964568,   8.88541426,   4.66806397,\n",
       "         4.66396091,   7.52077821,   8.92352749,  11.02036   ,\n",
       "         5.33127455,   8.33159057,   4.90446574,   4.91560263,\n",
       "         4.65889529,   9.64297214,   9.9030969 ,  10.93807911,\n",
       "         7.86098194,   6.51816882,  10.14883569,   8.06039375,\n",
       "        10.54746916,   5.29310696,   7.1824521 ,   9.62910598,\n",
       "         7.61091942,   5.29599274,  11.01567521,   6.90242771,\n",
       "        10.17574936,  10.70537607,   8.61873611,   7.61219634,\n",
       "        10.83991954,   8.92992222,  10.72850939,   7.72630931,\n",
       "         8.44668799,   9.77438778,  10.63321987,  10.36060232,\n",
       "         7.1473254 ,  11.21012835,   9.25398487,   8.05549609,\n",
       "         8.08630956,   5.75732281,  10.07430513,   6.30820497,\n",
       "         5.80899249,   5.81397478,   6.81856632,   9.75482728,\n",
       "         6.96831314,   9.48515653,  10.18737562,   7.05806464,\n",
       "         9.36494222,   8.8232662 ,   8.98309133,  11.15891976,\n",
       "        10.62871055,  11.48071396,   6.07182888,  10.83799028,\n",
       "         5.46788191,   9.97445837,  10.53884446,   6.65685365,\n",
       "        10.43068425,   9.44827976,  10.07629394,   8.1811484 ,\n",
       "         8.95209816,   6.02419222,   6.03503604,   9.2092273 ,\n",
       "         8.46466099,   6.94323263,  10.35475079,  11.15409431,\n",
       "         6.37269845,  10.68119558,   9.51884996,   7.10319518,\n",
       "         6.97532094,  10.06099697,   6.97220317,  10.11110116,\n",
       "        10.48918555,  11.24594848,   1.68016087,   3.02369927,\n",
       "         3.37284213,   3.30679597,   2.74994996,   2.70709237,\n",
       "         2.9777046 ,   2.69233525,   3.42741817,   3.43018461,\n",
       "         3.26862674,   3.05222908,   2.86075318,   2.06372939,\n",
       "         2.15371323,   1.54301001,   2.76787657,   3.42063237,\n",
       "         2.43501269,   1.96603583,   3.29424326,   1.58861241,\n",
       "         2.16049919,   3.32781297,   0.11072165,   1.59138957,\n",
       "         3.3500149 ,   2.30886701,   2.34086363,   2.23357339,\n",
       "         2.50191407,   1.35111292,   2.34315067,   1.86289958,\n",
       "         2.77624107,   1.70665882,   7.20722708,   4.18877572,\n",
       "         4.03583219,   2.38585852,   3.18844945,   5.4622001 ,\n",
       "         2.78514862,   4.1732609 ,   5.08744436,   3.86090558,\n",
       "         4.50442718,   4.19883679,   1.31128399,   4.96888917,\n",
       "         3.53951327,   3.91566243,   3.04274873,   4.01286509,\n",
       "         4.9556641 ,   2.99618376,   4.47687425,   3.48202827,\n",
       "         2.52101095,   3.09729821,   4.0265493 ,   4.21032786,\n",
       "         3.56420409,   3.02516914,   4.16773819,   1.6700856 ,\n",
       "        -1.18716738,   3.14011907,   2.78671733,   2.25767656,\n",
       "         2.79464454,   2.70478165,  -0.5049144 ])"
      ]
     },
     "execution_count": 61,
     "metadata": {},
     "output_type": "execute_result"
    }
   ],
   "source": [
    "predictions_val"
   ]
  },
  {
   "cell_type": "markdown",
   "metadata": {},
   "source": [
    "### assess predictions against the test data (with labels)"
   ]
  },
  {
   "cell_type": "code",
   "execution_count": 62,
   "metadata": {},
   "outputs": [],
   "source": [
    "cookies_test = pd.read_csv('cookies_test.csv')"
   ]
  },
  {
   "cell_type": "code",
   "execution_count": 63,
   "metadata": {},
   "outputs": [],
   "source": [
    "y_real = cookies_test[\"quality\"]"
   ]
  },
  {
   "cell_type": "code",
   "execution_count": 64,
   "metadata": {},
   "outputs": [
    {
     "data": {
      "text/plain": [
       "count    779.000000\n",
       "mean       7.661104\n",
       "std        1.093643\n",
       "min        4.000000\n",
       "25%        7.000000\n",
       "50%        8.000000\n",
       "75%        8.000000\n",
       "max       10.000000\n",
       "Name: quality, dtype: float64"
      ]
     },
     "execution_count": 64,
     "metadata": {},
     "output_type": "execute_result"
    }
   ],
   "source": [
    "y_real.describe()"
   ]
  },
  {
   "cell_type": "code",
   "execution_count": 65,
   "metadata": {},
   "outputs": [
    {
     "data": {
      "text/plain": [
       "2.1073931763156994"
      ]
     },
     "execution_count": 65,
     "metadata": {},
     "output_type": "execute_result"
    }
   ],
   "source": [
    "mean_squared_error(y_real, predictions_val, squared = False)\n",
    "\n",
    "# I guess this is better then the 41 from before"
   ]
  },
  {
   "cell_type": "markdown",
   "metadata": {},
   "source": [
    "### Can we get more accuracy with an ensemble method?"
   ]
  },
  {
   "cell_type": "markdown",
   "metadata": {},
   "source": [
    "#### Task 4 : Add a random forest regressor model to try to get a more accurate score. \n",
    "\n",
    "You can follow https://www.geeksforgeeks.org/random-forest-regression-in-python/\n",
    "or the sklearn_documentation https://scikit-learn.org/stable/search.html?q=random+forest\n",
    "to import the regressor and fit it to your data, before running the cells below which will calculate your new RMSE accuracy score"
   ]
  },
  {
   "cell_type": "code",
   "execution_count": 66,
   "metadata": {},
   "outputs": [],
   "source": [
    "# 1 Importing the libraries\n",
    "import numpy as np\n",
    "import matplotlib.pyplot as plt\n",
    "import pandas as pd"
   ]
  },
  {
   "cell_type": "code",
   "execution_count": null,
   "metadata": {},
   "outputs": [],
   "source": [
    "# 2 import data set - we already did\n",
    "\n",
    "# 3 define x and y - we already did\n",
    "\n",
    "# 4 train test split - we already did"
   ]
  },
  {
   "cell_type": "code",
   "execution_count": 67,
   "metadata": {},
   "outputs": [
    {
     "data": {
      "text/plain": [
       "RandomForestRegressor(random_state=0)"
      ]
     },
     "execution_count": 67,
     "metadata": {},
     "output_type": "execute_result"
    }
   ],
   "source": [
    "# 5 Fitting Random Forest Regression to the dataset\n",
    "# import the regressor\n",
    "from sklearn.ensemble import RandomForestRegressor\n",
    "  \n",
    "# create regressor object\n",
    "regressor = RandomForestRegressor(n_estimators = 100, random_state = 0)\n",
    "  \n",
    "# fit the regressor with x and y data\n",
    "regressor.fit(X_train,y_train)"
   ]
  },
  {
   "cell_type": "code",
   "execution_count": 75,
   "metadata": {},
   "outputs": [
    {
     "data": {
      "text/plain": [
       "array([7.83, 8.3 , 7.93, 8.75, 7.3 , 7.46, 6.09, 5.08, 7.98, 8.14, 8.84,\n",
       "       7.47, 7.79, 8.25, 9.98, 7.28, 8.84, 8.53, 8.47, 5.25, 7.92, 7.83,\n",
       "       8.11, 8.5 , 8.84, 7.1 , 7.22, 7.33, 5.7 , 8.61, 5.94, 6.08, 8.4 ,\n",
       "       7.14, 6.44, 7.03, 6.  , 7.94, 6.12, 8.43, 8.12, 4.98, 7.6 , 5.43,\n",
       "       4.95, 5.29, 7.46, 7.29, 7.5 , 8.36, 9.96, 5.42, 6.99, 8.24, 6.08,\n",
       "       7.36, 7.07, 7.91, 8.17, 6.43, 5.92, 7.66, 7.64, 6.81, 7.4 , 7.36,\n",
       "       7.23, 7.94, 7.38, 7.37, 7.22, 5.52, 7.47, 7.84, 5.09, 7.68, 7.43,\n",
       "       7.33, 8.46, 7.94, 7.6 , 7.79, 7.93, 7.3 , 5.54, 7.13, 8.42, 8.2 ,\n",
       "       8.57, 6.9 , 4.93, 7.21, 6.76, 7.98, 6.03, 6.05, 8.09, 7.41, 7.78,\n",
       "       7.65, 5.45, 8.55, 8.62, 8.38, 8.74, 6.76, 7.72, 5.53, 7.04, 7.65,\n",
       "       8.15, 5.22, 7.65, 8.2 , 8.04, 7.25, 5.65, 8.12, 7.51, 6.87, 7.18,\n",
       "       7.64, 8.41, 7.42, 7.72, 8.57, 8.79, 7.42, 7.22, 7.02, 6.44, 8.32,\n",
       "       5.4 , 6.37, 5.25, 8.2 , 8.85, 5.31, 5.46, 8.09, 5.81, 8.01, 6.83,\n",
       "       8.45, 7.59, 4.94, 8.51, 7.66, 8.73, 7.5 , 7.73, 6.8 , 7.62, 8.13,\n",
       "       7.98, 8.14, 7.66, 6.22, 7.27, 7.86, 8.25, 8.79, 8.36, 7.4 , 7.09,\n",
       "       5.03, 6.23, 8.28, 5.32, 7.21, 8.58, 6.91, 8.96, 7.42, 7.75, 7.78,\n",
       "       7.9 , 8.67, 8.51, 9.49, 8.96, 7.17, 6.19, 7.62, 7.57, 8.28, 8.13,\n",
       "       8.94, 7.87, 7.32, 7.37, 6.88, 7.69, 9.11, 5.22, 8.13, 7.44, 7.84,\n",
       "       7.44, 8.36, 8.06, 7.31, 8.31, 5.82, 8.97, 5.36, 7.64, 8.54, 7.13,\n",
       "       8.96, 8.6 , 8.16, 8.56, 8.94, 5.45, 7.54, 7.81, 8.57, 7.06, 8.76,\n",
       "       6.75, 8.22, 9.04, 5.74, 7.16, 7.25, 7.12, 7.85, 8.16, 8.08, 8.45,\n",
       "       7.58, 8.89, 5.05, 7.71, 7.74, 6.3 , 5.04, 8.94, 7.59, 6.6 , 7.6 ,\n",
       "       7.43, 8.41, 5.43, 8.42, 7.9 , 7.74, 5.85, 7.49, 5.12, 9.07, 6.37,\n",
       "       7.15, 7.53, 8.33, 8.07, 7.8 , 8.16, 7.18, 8.47, 7.29, 8.5 , 7.58,\n",
       "       6.94, 8.61, 5.29, 8.02, 7.53, 8.37, 8.43, 6.07, 7.79, 8.03, 7.95,\n",
       "       7.33, 7.59, 5.32, 5.71, 5.11, 7.09, 7.9 , 5.86, 8.45, 5.23, 7.71,\n",
       "       7.16, 7.59, 7.88, 7.73, 7.23, 6.7 , 6.54, 7.21, 7.9 , 8.46, 5.39,\n",
       "       7.84, 4.97, 7.86, 7.31, 8.22, 7.61, 9.06, 6.47, 8.58, 5.05, 8.78,\n",
       "       5.  , 8.63, 8.89, 7.4 , 8.35, 7.94, 8.16, 7.8 , 7.56, 8.51, 7.68,\n",
       "       5.27, 7.32, 8.38, 5.54, 5.  , 7.96, 5.9 , 8.46, 7.53, 7.25, 8.81,\n",
       "       8.78, 7.9 , 7.92, 4.65, 8.21, 7.23, 5.95, 6.75, 8.45, 7.54, 7.88,\n",
       "       7.41, 7.75, 8.84, 8.42, 8.3 , 8.66, 8.2 , 9.  , 5.79, 7.61, 8.21,\n",
       "       7.85, 8.98, 8.49, 7.83, 7.79, 8.05, 7.09, 7.51, 5.72, 8.74, 8.71,\n",
       "       4.67, 7.1 , 5.41, 7.37, 8.58, 7.17, 7.54, 7.54, 5.25, 5.15, 7.48,\n",
       "       7.62, 8.49, 5.73, 7.62, 7.43, 7.94, 7.07, 7.1 , 8.82, 7.83, 6.89,\n",
       "       7.8 , 7.87, 7.77, 5.18, 7.79, 8.89, 5.91, 7.8 , 8.14, 7.84, 7.09,\n",
       "       5.23, 7.76, 8.06, 8.01, 7.64, 5.43, 7.19, 5.26, 8.8 , 5.64, 7.39,\n",
       "       8.54, 5.28, 8.45, 8.93, 7.5 , 9.14, 5.28, 5.09, 5.66, 7.99, 6.34,\n",
       "       8.15, 5.83, 7.16, 8.46, 5.41, 8.42, 5.89, 7.18, 5.31, 7.79, 5.09,\n",
       "       8.42, 8.36, 5.14, 7.76, 8.27, 5.11, 7.87, 7.67, 5.26, 7.32, 7.6 ,\n",
       "       8.75, 8.28, 7.54, 8.5 , 7.8 , 8.2 , 8.16, 5.94, 7.66, 7.76, 7.71,\n",
       "       7.11, 8.09, 8.54, 7.94, 8.71, 7.82, 7.84, 8.58, 8.65, 5.28, 7.83,\n",
       "       7.82, 7.42, 5.21, 7.77, 5.37, 7.18, 8.83, 5.89, 7.37, 7.26, 7.59,\n",
       "       5.02, 7.48, 8.  , 7.34, 8.85, 7.08, 8.29, 5.15, 8.72, 8.18, 5.1 ,\n",
       "       8.58, 9.04, 8.48, 5.23, 8.04, 7.69, 7.51, 8.38, 7.52, 7.51, 7.55,\n",
       "       8.12, 5.45, 8.12, 8.09, 7.89, 7.4 , 5.05, 8.8 , 7.71, 5.62, 7.95,\n",
       "       7.12, 8.31, 5.51, 6.85, 7.06, 6.8 , 6.61, 7.13, 8.91, 6.38, 5.41,\n",
       "       6.85, 7.68])"
      ]
     },
     "execution_count": 75,
     "metadata": {},
     "output_type": "execute_result"
    }
   ],
   "source": [
    "# 6 predictions on test data set with rf model\n",
    "\n",
    "predictions_rf_test = regressor.predict(X_test)\n",
    "predictions_rf_test"
   ]
  },
  {
   "cell_type": "code",
   "execution_count": 77,
   "metadata": {},
   "outputs": [
    {
     "data": {
      "text/html": [
       "<div>\n",
       "<style scoped>\n",
       "    .dataframe tbody tr th:only-of-type {\n",
       "        vertical-align: middle;\n",
       "    }\n",
       "\n",
       "    .dataframe tbody tr th {\n",
       "        vertical-align: top;\n",
       "    }\n",
       "\n",
       "    .dataframe thead th {\n",
       "        text-align: right;\n",
       "    }\n",
       "</style>\n",
       "<table border=\"1\" class=\"dataframe\">\n",
       "  <thead>\n",
       "    <tr style=\"text-align: right;\">\n",
       "      <th></th>\n",
       "      <th>Real Values</th>\n",
       "      <th>Predicted Values</th>\n",
       "    </tr>\n",
       "  </thead>\n",
       "  <tbody>\n",
       "    <tr>\n",
       "      <th>220</th>\n",
       "      <td>8</td>\n",
       "      <td>7.83</td>\n",
       "    </tr>\n",
       "    <tr>\n",
       "      <th>3108</th>\n",
       "      <td>8</td>\n",
       "      <td>8.30</td>\n",
       "    </tr>\n",
       "    <tr>\n",
       "      <th>1666</th>\n",
       "      <td>8</td>\n",
       "      <td>7.93</td>\n",
       "    </tr>\n",
       "    <tr>\n",
       "      <th>314</th>\n",
       "      <td>9</td>\n",
       "      <td>8.75</td>\n",
       "    </tr>\n",
       "    <tr>\n",
       "      <th>4623</th>\n",
       "      <td>8</td>\n",
       "      <td>7.30</td>\n",
       "    </tr>\n",
       "    <tr>\n",
       "      <th>...</th>\n",
       "      <td>...</td>\n",
       "      <td>...</td>\n",
       "    </tr>\n",
       "    <tr>\n",
       "      <th>2249</th>\n",
       "      <td>8</td>\n",
       "      <td>8.91</td>\n",
       "    </tr>\n",
       "    <tr>\n",
       "      <th>2220</th>\n",
       "      <td>7</td>\n",
       "      <td>6.38</td>\n",
       "    </tr>\n",
       "    <tr>\n",
       "      <th>550</th>\n",
       "      <td>6</td>\n",
       "      <td>5.41</td>\n",
       "    </tr>\n",
       "    <tr>\n",
       "      <th>2304</th>\n",
       "      <td>7</td>\n",
       "      <td>6.85</td>\n",
       "    </tr>\n",
       "    <tr>\n",
       "      <th>3942</th>\n",
       "      <td>8</td>\n",
       "      <td>7.68</td>\n",
       "    </tr>\n",
       "  </tbody>\n",
       "</table>\n",
       "<p>519 rows × 2 columns</p>\n",
       "</div>"
      ],
      "text/plain": [
       "      Real Values  Predicted Values\n",
       "220             8              7.83\n",
       "3108            8              8.30\n",
       "1666            8              7.93\n",
       "314             9              8.75\n",
       "4623            8              7.30\n",
       "...           ...               ...\n",
       "2249            8              8.91\n",
       "2220            7              6.38\n",
       "550             6              5.41\n",
       "2304            7              6.85\n",
       "3942            8              7.68\n",
       "\n",
       "[519 rows x 2 columns]"
      ]
     },
     "execution_count": 77,
     "metadata": {},
     "output_type": "execute_result"
    }
   ],
   "source": [
    "# comparing real values with predict values\n",
    "\n",
    "df = pd.DataFrame({'Real Values':y_test, 'Predicted Values':predictions_rf_test})\n",
    "df"
   ]
  },
  {
   "cell_type": "markdown",
   "metadata": {},
   "source": [
    "From the above values, we infer that the model is able to predict the values of the y_test with a good accuracy though it can be improved by tuning the hyper-parameters such as n_estimators and max_depth. Play with those parameters in further iterations and improve the accuracy of the Random Forest Regression Model.\n",
    "\n",
    "https://towardsdatascience.com/machine-learning-basics-random-forest-regression-be3e1e3bb91a"
   ]
  },
  {
   "cell_type": "code",
   "execution_count": 85,
   "metadata": {},
   "outputs": [
    {
     "ename": "TypeError",
     "evalue": "unsupported operand type(s) for -: 'str' and 'str'",
     "output_type": "error",
     "traceback": [
      "\u001b[0;31m---------------------------------------------------------------------------\u001b[0m",
      "\u001b[0;31mTypeError\u001b[0m                                 Traceback (most recent call last)",
      "\u001b[0;32m<ipython-input-85-d10fe0625700>\u001b[0m in \u001b[0;36m<module>\u001b[0;34m\u001b[0m\n\u001b[1;32m      1\u001b[0m \u001b[0;31m# 7 visualising result\u001b[0m\u001b[0;34m\u001b[0m\u001b[0;34m\u001b[0m\u001b[0;34m\u001b[0m\u001b[0m\n\u001b[1;32m      2\u001b[0m \u001b[0;34m\u001b[0m\u001b[0m\n\u001b[0;32m----> 3\u001b[0;31m \u001b[0mX_grid\u001b[0m \u001b[0;34m=\u001b[0m \u001b[0mnp\u001b[0m\u001b[0;34m.\u001b[0m\u001b[0marange\u001b[0m\u001b[0;34m(\u001b[0m\u001b[0mmin\u001b[0m\u001b[0;34m(\u001b[0m\u001b[0mX\u001b[0m\u001b[0;34m)\u001b[0m\u001b[0;34m,\u001b[0m \u001b[0mmax\u001b[0m\u001b[0;34m(\u001b[0m\u001b[0mX\u001b[0m\u001b[0;34m)\u001b[0m\u001b[0;34m,\u001b[0m \u001b[0;36m0.01\u001b[0m\u001b[0;34m)\u001b[0m\u001b[0;34m\u001b[0m\u001b[0;34m\u001b[0m\u001b[0m\n\u001b[0m\u001b[1;32m      4\u001b[0m \u001b[0mX_grid\u001b[0m \u001b[0;34m=\u001b[0m \u001b[0mX_grid\u001b[0m\u001b[0;34m.\u001b[0m\u001b[0mreshape\u001b[0m\u001b[0;34m(\u001b[0m\u001b[0;34m(\u001b[0m\u001b[0mlen\u001b[0m\u001b[0;34m(\u001b[0m\u001b[0mX_grid\u001b[0m\u001b[0;34m)\u001b[0m\u001b[0;34m,\u001b[0m \u001b[0;36m1\u001b[0m\u001b[0;34m)\u001b[0m\u001b[0;34m)\u001b[0m\u001b[0;34m\u001b[0m\u001b[0;34m\u001b[0m\u001b[0m\n\u001b[1;32m      5\u001b[0m \u001b[0mplt\u001b[0m\u001b[0;34m.\u001b[0m\u001b[0mscatter\u001b[0m\u001b[0;34m(\u001b[0m\u001b[0mX_test\u001b[0m\u001b[0;34m,\u001b[0m \u001b[0my_test\u001b[0m\u001b[0;34m,\u001b[0m \u001b[0mcolor\u001b[0m \u001b[0;34m=\u001b[0m \u001b[0;34m'red'\u001b[0m\u001b[0;34m)\u001b[0m\u001b[0;34m\u001b[0m\u001b[0;34m\u001b[0m\u001b[0m\n",
      "\u001b[0;31mTypeError\u001b[0m: unsupported operand type(s) for -: 'str' and 'str'"
     ]
    }
   ],
   "source": [
    "# 7 visualising result\n",
    "\n",
    "X_grid = np.arange(min(X), max(X), 0.01)\n",
    "X_grid = X_grid.reshape((len(X_grid), 1))\n",
    "plt.scatter(X_test, y_test, color = 'red')\n",
    "plt.scatter(X_test, predictions_rf_test, color = 'green')\n",
    "plt.title('Random Forest Regression')\n",
    "plt.xlabel('Temperature')\n",
    "plt.ylabel('Revenue')\n",
    "plt.show()\n",
    "\n",
    "plt.plot(X_grid, regressor.predict(X_grid), color = 'black')\n",
    "plt.title('Random Forest Regression')\n",
    "plt.xlabel('Temperature')\n",
    "plt.ylabel('Revenue')\n",
    "plt.show()"
   ]
  },
  {
   "cell_type": "code",
   "execution_count": 72,
   "metadata": {},
   "outputs": [
    {
     "ename": "ValueError",
     "evalue": "x and y must be the same size",
     "output_type": "error",
     "traceback": [
      "\u001b[0;31m---------------------------------------------------------------------------\u001b[0m",
      "\u001b[0;31mValueError\u001b[0m                                Traceback (most recent call last)",
      "\u001b[0;32m<ipython-input-72-95b0d17a473b>\u001b[0m in \u001b[0;36m<module>\u001b[0;34m\u001b[0m\n\u001b[1;32m     12\u001b[0m \u001b[0;34m\u001b[0m\u001b[0m\n\u001b[1;32m     13\u001b[0m \u001b[0;31m# Scatter plot for original data\u001b[0m\u001b[0;34m\u001b[0m\u001b[0;34m\u001b[0m\u001b[0;34m\u001b[0m\u001b[0m\n\u001b[0;32m---> 14\u001b[0;31m \u001b[0mplt\u001b[0m\u001b[0;34m.\u001b[0m\u001b[0mscatter\u001b[0m\u001b[0;34m(\u001b[0m\u001b[0mX_train\u001b[0m\u001b[0;34m,\u001b[0m\u001b[0my_train\u001b[0m\u001b[0;34m,\u001b[0m \u001b[0mcolor\u001b[0m \u001b[0;34m=\u001b[0m \u001b[0;34m'blue'\u001b[0m\u001b[0;34m)\u001b[0m\u001b[0;34m\u001b[0m\u001b[0;34m\u001b[0m\u001b[0m\n\u001b[0m\u001b[1;32m     15\u001b[0m \u001b[0;34m\u001b[0m\u001b[0m\n\u001b[1;32m     16\u001b[0m \u001b[0;31m# plot predicted data\u001b[0m\u001b[0;34m\u001b[0m\u001b[0;34m\u001b[0m\u001b[0;34m\u001b[0m\u001b[0m\n",
      "\u001b[0;32m~/opt/anaconda3/lib/python3.8/site-packages/matplotlib/pyplot.py\u001b[0m in \u001b[0;36mscatter\u001b[0;34m(x, y, s, c, marker, cmap, norm, vmin, vmax, alpha, linewidths, verts, edgecolors, plotnonfinite, data, **kwargs)\u001b[0m\n\u001b[1;32m   2888\u001b[0m         \u001b[0mverts\u001b[0m\u001b[0;34m=\u001b[0m\u001b[0mcbook\u001b[0m\u001b[0;34m.\u001b[0m\u001b[0mdeprecation\u001b[0m\u001b[0;34m.\u001b[0m\u001b[0m_deprecated_parameter\u001b[0m\u001b[0;34m,\u001b[0m\u001b[0;34m\u001b[0m\u001b[0;34m\u001b[0m\u001b[0m\n\u001b[1;32m   2889\u001b[0m         edgecolors=None, *, plotnonfinite=False, data=None, **kwargs):\n\u001b[0;32m-> 2890\u001b[0;31m     __ret = gca().scatter(\n\u001b[0m\u001b[1;32m   2891\u001b[0m         \u001b[0mx\u001b[0m\u001b[0;34m,\u001b[0m \u001b[0my\u001b[0m\u001b[0;34m,\u001b[0m \u001b[0ms\u001b[0m\u001b[0;34m=\u001b[0m\u001b[0ms\u001b[0m\u001b[0;34m,\u001b[0m \u001b[0mc\u001b[0m\u001b[0;34m=\u001b[0m\u001b[0mc\u001b[0m\u001b[0;34m,\u001b[0m \u001b[0mmarker\u001b[0m\u001b[0;34m=\u001b[0m\u001b[0mmarker\u001b[0m\u001b[0;34m,\u001b[0m \u001b[0mcmap\u001b[0m\u001b[0;34m=\u001b[0m\u001b[0mcmap\u001b[0m\u001b[0;34m,\u001b[0m \u001b[0mnorm\u001b[0m\u001b[0;34m=\u001b[0m\u001b[0mnorm\u001b[0m\u001b[0;34m,\u001b[0m\u001b[0;34m\u001b[0m\u001b[0;34m\u001b[0m\u001b[0m\n\u001b[1;32m   2892\u001b[0m         \u001b[0mvmin\u001b[0m\u001b[0;34m=\u001b[0m\u001b[0mvmin\u001b[0m\u001b[0;34m,\u001b[0m \u001b[0mvmax\u001b[0m\u001b[0;34m=\u001b[0m\u001b[0mvmax\u001b[0m\u001b[0;34m,\u001b[0m \u001b[0malpha\u001b[0m\u001b[0;34m=\u001b[0m\u001b[0malpha\u001b[0m\u001b[0;34m,\u001b[0m \u001b[0mlinewidths\u001b[0m\u001b[0;34m=\u001b[0m\u001b[0mlinewidths\u001b[0m\u001b[0;34m,\u001b[0m\u001b[0;34m\u001b[0m\u001b[0;34m\u001b[0m\u001b[0m\n",
      "\u001b[0;32m~/opt/anaconda3/lib/python3.8/site-packages/matplotlib/__init__.py\u001b[0m in \u001b[0;36minner\u001b[0;34m(ax, data, *args, **kwargs)\u001b[0m\n\u001b[1;32m   1436\u001b[0m     \u001b[0;32mdef\u001b[0m \u001b[0minner\u001b[0m\u001b[0;34m(\u001b[0m\u001b[0max\u001b[0m\u001b[0;34m,\u001b[0m \u001b[0;34m*\u001b[0m\u001b[0margs\u001b[0m\u001b[0;34m,\u001b[0m \u001b[0mdata\u001b[0m\u001b[0;34m=\u001b[0m\u001b[0;32mNone\u001b[0m\u001b[0;34m,\u001b[0m \u001b[0;34m**\u001b[0m\u001b[0mkwargs\u001b[0m\u001b[0;34m)\u001b[0m\u001b[0;34m:\u001b[0m\u001b[0;34m\u001b[0m\u001b[0;34m\u001b[0m\u001b[0m\n\u001b[1;32m   1437\u001b[0m         \u001b[0;32mif\u001b[0m \u001b[0mdata\u001b[0m \u001b[0;32mis\u001b[0m \u001b[0;32mNone\u001b[0m\u001b[0;34m:\u001b[0m\u001b[0;34m\u001b[0m\u001b[0;34m\u001b[0m\u001b[0m\n\u001b[0;32m-> 1438\u001b[0;31m             \u001b[0;32mreturn\u001b[0m \u001b[0mfunc\u001b[0m\u001b[0;34m(\u001b[0m\u001b[0max\u001b[0m\u001b[0;34m,\u001b[0m \u001b[0;34m*\u001b[0m\u001b[0mmap\u001b[0m\u001b[0;34m(\u001b[0m\u001b[0msanitize_sequence\u001b[0m\u001b[0;34m,\u001b[0m \u001b[0margs\u001b[0m\u001b[0;34m)\u001b[0m\u001b[0;34m,\u001b[0m \u001b[0;34m**\u001b[0m\u001b[0mkwargs\u001b[0m\u001b[0;34m)\u001b[0m\u001b[0;34m\u001b[0m\u001b[0;34m\u001b[0m\u001b[0m\n\u001b[0m\u001b[1;32m   1439\u001b[0m \u001b[0;34m\u001b[0m\u001b[0m\n\u001b[1;32m   1440\u001b[0m         \u001b[0mbound\u001b[0m \u001b[0;34m=\u001b[0m \u001b[0mnew_sig\u001b[0m\u001b[0;34m.\u001b[0m\u001b[0mbind\u001b[0m\u001b[0;34m(\u001b[0m\u001b[0max\u001b[0m\u001b[0;34m,\u001b[0m \u001b[0;34m*\u001b[0m\u001b[0margs\u001b[0m\u001b[0;34m,\u001b[0m \u001b[0;34m**\u001b[0m\u001b[0mkwargs\u001b[0m\u001b[0;34m)\u001b[0m\u001b[0;34m\u001b[0m\u001b[0;34m\u001b[0m\u001b[0m\n",
      "\u001b[0;32m~/opt/anaconda3/lib/python3.8/site-packages/matplotlib/cbook/deprecation.py\u001b[0m in \u001b[0;36mwrapper\u001b[0;34m(*inner_args, **inner_kwargs)\u001b[0m\n\u001b[1;32m    409\u001b[0m                          \u001b[0;32melse\u001b[0m \u001b[0mdeprecation_addendum\u001b[0m\u001b[0;34m,\u001b[0m\u001b[0;34m\u001b[0m\u001b[0;34m\u001b[0m\u001b[0m\n\u001b[1;32m    410\u001b[0m                 **kwargs)\n\u001b[0;32m--> 411\u001b[0;31m         \u001b[0;32mreturn\u001b[0m \u001b[0mfunc\u001b[0m\u001b[0;34m(\u001b[0m\u001b[0;34m*\u001b[0m\u001b[0minner_args\u001b[0m\u001b[0;34m,\u001b[0m \u001b[0;34m**\u001b[0m\u001b[0minner_kwargs\u001b[0m\u001b[0;34m)\u001b[0m\u001b[0;34m\u001b[0m\u001b[0;34m\u001b[0m\u001b[0m\n\u001b[0m\u001b[1;32m    412\u001b[0m \u001b[0;34m\u001b[0m\u001b[0m\n\u001b[1;32m    413\u001b[0m     \u001b[0;32mreturn\u001b[0m \u001b[0mwrapper\u001b[0m\u001b[0;34m\u001b[0m\u001b[0;34m\u001b[0m\u001b[0m\n",
      "\u001b[0;32m~/opt/anaconda3/lib/python3.8/site-packages/matplotlib/axes/_axes.py\u001b[0m in \u001b[0;36mscatter\u001b[0;34m(self, x, y, s, c, marker, cmap, norm, vmin, vmax, alpha, linewidths, verts, edgecolors, plotnonfinite, **kwargs)\u001b[0m\n\u001b[1;32m   4439\u001b[0m         \u001b[0my\u001b[0m \u001b[0;34m=\u001b[0m \u001b[0mnp\u001b[0m\u001b[0;34m.\u001b[0m\u001b[0mma\u001b[0m\u001b[0;34m.\u001b[0m\u001b[0mravel\u001b[0m\u001b[0;34m(\u001b[0m\u001b[0my\u001b[0m\u001b[0;34m)\u001b[0m\u001b[0;34m\u001b[0m\u001b[0;34m\u001b[0m\u001b[0m\n\u001b[1;32m   4440\u001b[0m         \u001b[0;32mif\u001b[0m \u001b[0mx\u001b[0m\u001b[0;34m.\u001b[0m\u001b[0msize\u001b[0m \u001b[0;34m!=\u001b[0m \u001b[0my\u001b[0m\u001b[0;34m.\u001b[0m\u001b[0msize\u001b[0m\u001b[0;34m:\u001b[0m\u001b[0;34m\u001b[0m\u001b[0;34m\u001b[0m\u001b[0m\n\u001b[0;32m-> 4441\u001b[0;31m             \u001b[0;32mraise\u001b[0m \u001b[0mValueError\u001b[0m\u001b[0;34m(\u001b[0m\u001b[0;34m\"x and y must be the same size\"\u001b[0m\u001b[0;34m)\u001b[0m\u001b[0;34m\u001b[0m\u001b[0;34m\u001b[0m\u001b[0m\n\u001b[0m\u001b[1;32m   4442\u001b[0m \u001b[0;34m\u001b[0m\u001b[0m\n\u001b[1;32m   4443\u001b[0m         \u001b[0;32mif\u001b[0m \u001b[0ms\u001b[0m \u001b[0;32mis\u001b[0m \u001b[0;32mNone\u001b[0m\u001b[0;34m:\u001b[0m\u001b[0;34m\u001b[0m\u001b[0;34m\u001b[0m\u001b[0m\n",
      "\u001b[0;31mValueError\u001b[0m: x and y must be the same size"
     ]
    },
    {
     "data": {
      "image/png": "[encoded data removed]",
      "text/plain": [
       "<Figure size 432x288 with 1 Axes>"
      ]
     },
     "metadata": {
      "needs_background": "light"
     },
     "output_type": "display_data"
    }
   ],
   "source": [
    "# 7 visualising result\n",
    "\n",
    "# arange for creating a range of values\n",
    "# from min value of x to max \n",
    "# value of x with a difference of 0.01 \n",
    "# between two consecutive values\n",
    "X_grid = np.arange(min(predictions_rf), max(predictions_rf), 0.01) \n",
    "  \n",
    "# reshape for reshaping the data into a len(X_grid)*1 array, \n",
    "# i.e. to make a column out of the X_grid value                  \n",
    "X_grid = X_grid.reshape((len(X_grid), 1))\n",
    "  \n",
    "# Scatter plot for original data\n",
    "plt.scatter(X_train,y_train, color = 'blue')  \n",
    "  \n",
    "# plot predicted data\n",
    "plt.plot(X_grid, regressor.predict(X_grid), \n",
    "         color = 'green') \n",
    "plt.title('Random Forest Regression')\n",
    "plt.xlabel('Position level')\n",
    "plt.ylabel('Salary')\n",
    "plt.show()"
   ]
  },
  {
   "cell_type": "markdown",
   "metadata": {},
   "source": [
    "### Evaluate random forest accuracy "
   ]
  },
  {
   "cell_type": "markdown",
   "metadata": {},
   "source": [
    "RMSE accuracy Score - depending on what you named your model and predictions this code may need to be adapted\n",
    "\n",
    "ie if your model is called 'new model' and you have created a prediction from this model 'predictions_new' then edit the code block below as: \n",
    "    \n",
    "    mean_squared_error(y_real, predictions_new, squared = False)\n",
    "    "
   ]
  },
  {
   "cell_type": "code",
   "execution_count": 73,
   "metadata": {},
   "outputs": [
    {
     "data": {
      "text/plain": [
       "array([7.16, 7.94, 7.36, 7.88, 7.71, 7.38, 8.19, 7.17, 7.65, 7.79, 7.21,\n",
       "       7.92, 7.46, 8.01, 8.53, 7.38, 8.36, 7.46, 7.56, 8.39, 7.87, 7.98,\n",
       "       8.25, 7.33, 7.53, 7.39, 7.2 , 7.34, 7.19, 7.25, 7.8 , 7.92, 7.48,\n",
       "       7.97, 8.12, 8.18, 8.4 , 8.32, 6.77, 7.72, 8.19, 7.55, 7.9 , 7.11,\n",
       "       7.4 , 7.5 , 7.24, 8.17, 7.41, 7.89, 6.89, 7.46, 7.57, 7.92, 7.47,\n",
       "       8.34, 7.76, 7.26, 8.45, 8.69, 7.46, 7.78, 7.27, 8.52, 8.17, 7.65,\n",
       "       7.03, 7.5 , 7.42, 8.34, 7.93, 8.37, 6.68, 6.97, 8.07, 7.18, 7.69,\n",
       "       7.78, 7.38, 7.88, 8.01, 7.97, 7.36, 7.66, 7.11, 8.07, 8.05, 7.75,\n",
       "       7.76, 8.4 , 8.29, 7.24, 7.92, 7.6 , 7.77, 8.11, 7.74, 8.11, 7.74,\n",
       "       7.07, 8.51, 7.52, 8.62, 7.9 , 8.41, 7.67, 7.33, 7.33, 7.96, 7.98,\n",
       "       7.91, 7.37, 7.43, 7.4 , 7.43, 7.36, 7.7 , 7.7 , 8.79, 6.96, 7.96,\n",
       "       7.93, 7.08, 7.59, 8.17, 8.01, 7.43, 7.73, 7.37, 8.08, 7.34, 8.3 ,\n",
       "       7.64, 6.96, 7.4 , 8.69, 7.47, 7.89, 7.68, 7.65, 7.76, 7.74, 7.36,\n",
       "       7.68, 7.33, 7.4 , 7.48, 8.85, 8.28, 8.28, 7.24, 7.97, 7.57, 7.27,\n",
       "       7.18, 7.43, 7.7 , 7.84, 8.55, 8.62, 8.13, 7.98, 7.21, 8.48, 7.67,\n",
       "       7.68, 7.55, 7.89, 7.7 , 7.46, 8.54, 7.64, 7.49, 7.31, 7.35, 8.26,\n",
       "       8.21, 7.34, 7.55, 8.08, 7.14, 7.34, 7.71, 7.25, 7.22, 7.33, 7.95,\n",
       "       7.15, 7.22, 7.69, 7.18, 7.37, 8.1 , 7.43, 7.76, 7.75, 7.31, 7.34,\n",
       "       8.84, 8.12, 7.5 , 8.58, 8.77, 7.11, 9.08, 7.42, 7.03, 7.64, 7.21,\n",
       "       8.04, 7.13, 7.65, 6.79, 7.89, 7.05, 7.54, 7.74, 7.91, 7.36, 7.07,\n",
       "       7.09, 7.21, 7.08, 7.29, 7.25, 7.19, 7.41, 7.47, 7.82, 7.46, 7.26,\n",
       "       7.29, 6.92, 7.52, 7.53, 9.21, 9.1 , 7.69, 8.46, 7.74, 7.57, 8.87,\n",
       "       7.37, 7.03, 7.58, 7.34, 7.57, 7.53, 8.05, 7.21, 7.44, 8.43, 6.96,\n",
       "       7.66, 7.5 , 7.99, 7.48, 7.47, 7.54, 7.27, 8.43, 7.25, 7.52, 8.68,\n",
       "       8.02, 7.7 , 7.97, 7.62, 7.57, 7.84, 8.93, 7.7 , 7.47, 7.1 , 8.89,\n",
       "       7.16, 8.  , 8.35, 8.28, 8.2 , 7.43, 7.87, 7.34, 7.69, 8.35, 8.28,\n",
       "       6.65, 7.15, 8.88, 7.36, 8.59, 8.37, 8.19, 8.18, 7.27, 8.78, 8.13,\n",
       "       7.62, 7.6 , 7.94, 8.01, 6.97, 7.8 , 6.99, 7.42, 8.49, 8.75, 8.32,\n",
       "       8.06, 8.25, 8.59, 7.75, 8.54, 7.6 , 8.2 , 7.47, 7.01, 7.25, 7.78,\n",
       "       8.64, 7.89, 7.34, 7.34, 8.11, 7.73, 7.81, 8.16, 8.37, 7.77, 7.8 ,\n",
       "       6.84, 8.65, 8.27, 7.2 , 7.87, 7.95, 8.18, 7.92, 8.89, 7.95, 6.61,\n",
       "       7.42, 7.81, 8.11, 8.13, 7.48, 8.44, 7.28, 7.82, 7.62, 7.87, 7.75,\n",
       "       7.25, 8.41, 7.76, 7.96, 7.65, 7.68, 8.24, 8.54, 7.82, 8.18, 6.95,\n",
       "       7.51, 8.22, 7.79, 7.29, 7.73, 7.97, 7.18, 8.09, 8.51, 7.02, 7.98,\n",
       "       7.38, 8.21, 7.85, 8.44, 8.75, 8.94, 7.45, 8.25, 7.62, 8.33, 8.59,\n",
       "       7.96, 7.94, 8.89, 8.43, 7.6 , 8.22, 8.5 , 8.5 , 8.88, 8.31, 8.29,\n",
       "       7.31, 7.52, 7.75, 8.19, 8.28, 6.83, 8.15, 8.55, 8.7 , 8.1 , 7.46,\n",
       "       7.42, 8.17, 7.39, 8.37, 8.24, 7.27, 8.3 , 7.19, 8.06, 8.83, 7.37,\n",
       "       8.21, 8.67, 8.74, 8.09, 8.72, 8.1 , 8.63, 7.26, 8.71, 7.69, 7.45,\n",
       "       7.82, 9.05, 7.06, 7.4 , 8.19, 8.99, 7.32, 8.41, 7.88, 8.57, 7.55,\n",
       "       8.22, 9.09, 8.37, 8.38, 7.63, 9.18, 7.5 , 7.32, 8.32, 8.88, 8.38,\n",
       "       7.82, 7.8 , 7.12, 8.06, 7.34, 8.12, 8.08, 7.89, 7.91, 8.43, 8.03,\n",
       "       8.97, 8.23, 8.2 , 7.72, 7.73, 7.77, 6.92, 7.04, 8.67, 8.37, 8.91,\n",
       "       6.66, 7.06, 7.55, 7.95, 7.02, 8.3 , 9.43, 8.44, 8.13, 7.31, 7.35,\n",
       "       7.42, 8.35, 8.07, 7.52, 8.74, 7.99, 7.39, 7.83, 7.36, 9.06, 7.87,\n",
       "       8.48, 8.47, 8.16, 7.12, 7.38, 7.14, 6.83, 7.69, 7.84, 8.78, 7.67,\n",
       "       7.79, 8.61, 9.07, 9.06, 7.97, 9.03, 7.27, 7.31, 8.61, 7.55, 7.69,\n",
       "       8.09, 7.64, 8.47, 8.11, 8.36, 7.4 , 7.55, 8.67, 8.92, 8.48, 8.47,\n",
       "       7.49, 8.56, 7.52, 7.19, 9.  , 8.16, 8.12, 7.74, 8.11, 7.55, 8.2 ,\n",
       "       7.51, 7.72, 8.49, 8.21, 7.81, 8.44, 7.28, 7.25, 8.  , 8.17, 8.88,\n",
       "       7.64, 7.52, 7.86, 7.89, 7.55, 7.56, 7.72, 7.63, 7.28, 7.94, 8.42,\n",
       "       8.06, 8.68, 7.47, 7.48, 7.21, 7.39, 7.39, 8.12, 7.  , 6.94, 8.68,\n",
       "       8.68, 8.01, 7.68, 8.28, 7.53, 7.61, 7.56, 8.34, 7.47, 6.63, 8.66,\n",
       "       8.32, 7.59, 8.42, 8.19, 7.6 , 8.34, 7.51, 8.18, 8.43, 8.17, 8.43,\n",
       "       7.22, 7.11, 7.67, 7.68, 8.14, 8.61, 8.54, 8.91, 7.28, 8.88, 7.57,\n",
       "       8.14, 7.29, 7.04, 7.21, 7.86, 7.66, 8.11, 8.36, 8.17, 7.96, 7.78,\n",
       "       7.48, 7.55, 7.63, 7.68, 7.66, 7.75, 8.  , 8.67, 7.28, 8.18, 7.41,\n",
       "       7.41, 7.38, 8.06, 7.33, 8.87, 6.92, 7.19, 8.75, 6.85, 8.37, 7.37,\n",
       "       7.96, 8.08, 7.07, 7.98, 8.83, 7.84, 7.16, 8.37, 8.44, 7.65, 8.76,\n",
       "       8.37, 8.87, 6.78, 8.33, 8.05, 8.44, 8.67, 7.05, 8.48, 8.64, 8.26,\n",
       "       8.16, 7.73, 7.31, 7.46, 8.09, 8.06, 7.45, 8.25, 7.93, 7.41, 8.28,\n",
       "       7.62, 8.  , 8.24, 7.84, 8.48, 7.92, 9.05, 7.58, 8.5 , 7.45, 8.19,\n",
       "       7.76, 7.55, 8.56, 8.09, 8.5 , 7.14, 7.65, 7.57, 7.59, 8.46, 8.11,\n",
       "       7.41, 8.43, 7.55, 7.31, 8.22, 8.45, 6.95, 7.31, 8.36, 7.34, 8.56,\n",
       "       8.22, 8.56, 5.05, 4.69, 4.33, 5.21, 5.29, 4.84, 4.63, 4.06, 5.53,\n",
       "       5.09, 4.82, 4.4 , 5.86, 5.91, 4.1 , 6.29, 6.53, 6.12, 3.99, 5.88,\n",
       "       6.44, 5.76, 6.14, 4.64, 5.74, 5.93, 6.01, 5.85, 6.22, 4.6 , 6.17,\n",
       "       5.58, 6.15, 4.15, 4.85, 4.04, 5.86, 6.15, 6.02, 4.74, 4.28, 6.44,\n",
       "       5.9 , 6.39, 7.06, 5.23, 6.38, 6.18, 4.75, 5.71, 4.28, 5.22, 5.07,\n",
       "       6.  , 6.28, 5.87, 5.95, 5.98, 5.14, 5.73, 5.45, 4.87, 4.49, 4.07,\n",
       "       6.82, 5.49, 5.37, 4.13, 4.97, 4.13, 4.96, 5.22, 5.43])"
      ]
     },
     "execution_count": 73,
     "metadata": {},
     "output_type": "execute_result"
    }
   ],
   "source": [
    "# predictions on validation data set with rf model\n",
    "\n",
    "predictions_rf_val = regressor.predict(X_val_scaled)\n",
    "predictions_rf_val"
   ]
  },
  {
   "cell_type": "code",
   "execution_count": null,
   "metadata": {},
   "outputs": [],
   "source": [
    "mean_squared_error(y_real, predictions_rf_val, squared = False)"
   ]
  }
 ],
 "metadata": {
  "kernelspec": {
   "display_name": "Python 3",
   "language": "python",
   "name": "python3"
  },
  "language_info": {
   "codemirror_mode": {
    "name": "ipython",
    "version": 3
   },
   "file_extension": ".py",
   "mimetype": "text/x-python",
   "name": "python",
   "nbconvert_exporter": "python",
   "pygments_lexer": "ipython3",
   "version": "3.8.5"
  }
 },
 "nbformat": 4,
 "nbformat_minor": 4
}
