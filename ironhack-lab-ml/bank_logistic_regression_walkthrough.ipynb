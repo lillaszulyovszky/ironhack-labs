{
 "cells": [
  {
   "cell_type": "code",
   "execution_count": 1,
   "id": "another-saying",
   "metadata": {},
   "outputs": [
    {
     "name": "stdout",
     "output_type": "stream",
     "text": [
      "········\n"
     ]
    }
   ],
   "source": [
    "import pymysql\n",
    "from sqlalchemy import create_engine\n",
    "import pandas as pd\n",
    "import getpass\n",
    "password = getpass.getpass()\n"
   ]
  },
  {
   "cell_type": "code",
   "execution_count": 2,
   "id": "catholic-sucking",
   "metadata": {},
   "outputs": [],
   "source": [
    "connection_string = \"mysql+pymysql://root:\" + password + '@localhost/bank'\n",
    "engine = create_engine(connection_string)\n",
    "\n",
    "query = \"\"\"\n",
    "SELECT \n",
    "    t.type,\n",
    "    t.operation,\n",
    "    t.amount AS t_amount,\n",
    "    t.balance,\n",
    "    t.k_symbol,\n",
    "    l.amount AS l_amount,\n",
    "    l.duration,\n",
    "    l.payments,\n",
    "    l.status\n",
    "FROM\n",
    "    trans t\n",
    "        LEFT JOIN\n",
    "    loan l ON t.account_id = l.account_id;\n",
    "\"\"\""
   ]
  },
  {
   "cell_type": "code",
   "execution_count": 3,
   "id": "excellent-musical",
   "metadata": {},
   "outputs": [],
   "source": [
    "data = pd.read_sql_query(query, engine)"
   ]
  },
  {
   "cell_type": "code",
   "execution_count": 4,
   "id": "celtic-association",
   "metadata": {
    "scrolled": true
   },
   "outputs": [
    {
     "data": {
      "text/html": [
       "<div>\n",
       "<style scoped>\n",
       "    .dataframe tbody tr th:only-of-type {\n",
       "        vertical-align: middle;\n",
       "    }\n",
       "\n",
       "    .dataframe tbody tr th {\n",
       "        vertical-align: top;\n",
       "    }\n",
       "\n",
       "    .dataframe thead th {\n",
       "        text-align: right;\n",
       "    }\n",
       "</style>\n",
       "<table border=\"1\" class=\"dataframe\">\n",
       "  <thead>\n",
       "    <tr style=\"text-align: right;\">\n",
       "      <th></th>\n",
       "      <th>type</th>\n",
       "      <th>operation</th>\n",
       "      <th>t_amount</th>\n",
       "      <th>balance</th>\n",
       "      <th>k_symbol</th>\n",
       "      <th>l_amount</th>\n",
       "      <th>duration</th>\n",
       "      <th>payments</th>\n",
       "      <th>status</th>\n",
       "    </tr>\n",
       "  </thead>\n",
       "  <tbody>\n",
       "    <tr>\n",
       "      <th>0</th>\n",
       "      <td>PRIJEM</td>\n",
       "      <td>VKLAD</td>\n",
       "      <td>700.0</td>\n",
       "      <td>700.0</td>\n",
       "      <td></td>\n",
       "      <td>NaN</td>\n",
       "      <td>NaN</td>\n",
       "      <td>NaN</td>\n",
       "      <td>None</td>\n",
       "    </tr>\n",
       "    <tr>\n",
       "      <th>1</th>\n",
       "      <td>PRIJEM</td>\n",
       "      <td>VKLAD</td>\n",
       "      <td>900.0</td>\n",
       "      <td>900.0</td>\n",
       "      <td></td>\n",
       "      <td>NaN</td>\n",
       "      <td>NaN</td>\n",
       "      <td>NaN</td>\n",
       "      <td>None</td>\n",
       "    </tr>\n",
       "    <tr>\n",
       "      <th>2</th>\n",
       "      <td>PRIJEM</td>\n",
       "      <td>VKLAD</td>\n",
       "      <td>1000.0</td>\n",
       "      <td>1000.0</td>\n",
       "      <td></td>\n",
       "      <td>NaN</td>\n",
       "      <td>NaN</td>\n",
       "      <td>NaN</td>\n",
       "      <td>None</td>\n",
       "    </tr>\n",
       "    <tr>\n",
       "      <th>3</th>\n",
       "      <td>PRIJEM</td>\n",
       "      <td>VKLAD</td>\n",
       "      <td>600.0</td>\n",
       "      <td>600.0</td>\n",
       "      <td></td>\n",
       "      <td>NaN</td>\n",
       "      <td>NaN</td>\n",
       "      <td>NaN</td>\n",
       "      <td>None</td>\n",
       "    </tr>\n",
       "    <tr>\n",
       "      <th>4</th>\n",
       "      <td>PRIJEM</td>\n",
       "      <td>VKLAD</td>\n",
       "      <td>400.0</td>\n",
       "      <td>400.0</td>\n",
       "      <td></td>\n",
       "      <td>NaN</td>\n",
       "      <td>NaN</td>\n",
       "      <td>NaN</td>\n",
       "      <td>None</td>\n",
       "    </tr>\n",
       "    <tr>\n",
       "      <th>5</th>\n",
       "      <td>PRIJEM</td>\n",
       "      <td>VKLAD</td>\n",
       "      <td>1100.0</td>\n",
       "      <td>1100.0</td>\n",
       "      <td></td>\n",
       "      <td>NaN</td>\n",
       "      <td>NaN</td>\n",
       "      <td>NaN</td>\n",
       "      <td>None</td>\n",
       "    </tr>\n",
       "    <tr>\n",
       "      <th>6</th>\n",
       "      <td>PRIJEM</td>\n",
       "      <td>VKLAD</td>\n",
       "      <td>600.0</td>\n",
       "      <td>600.0</td>\n",
       "      <td></td>\n",
       "      <td>NaN</td>\n",
       "      <td>NaN</td>\n",
       "      <td>NaN</td>\n",
       "      <td>None</td>\n",
       "    </tr>\n",
       "    <tr>\n",
       "      <th>7</th>\n",
       "      <td>PRIJEM</td>\n",
       "      <td>VKLAD</td>\n",
       "      <td>1100.0</td>\n",
       "      <td>1100.0</td>\n",
       "      <td></td>\n",
       "      <td>NaN</td>\n",
       "      <td>NaN</td>\n",
       "      <td>NaN</td>\n",
       "      <td>None</td>\n",
       "    </tr>\n",
       "    <tr>\n",
       "      <th>8</th>\n",
       "      <td>PRIJEM</td>\n",
       "      <td>VKLAD</td>\n",
       "      <td>200.0</td>\n",
       "      <td>200.0</td>\n",
       "      <td></td>\n",
       "      <td>NaN</td>\n",
       "      <td>NaN</td>\n",
       "      <td>NaN</td>\n",
       "      <td>None</td>\n",
       "    </tr>\n",
       "    <tr>\n",
       "      <th>9</th>\n",
       "      <td>PRIJEM</td>\n",
       "      <td>VKLAD</td>\n",
       "      <td>800.0</td>\n",
       "      <td>800.0</td>\n",
       "      <td></td>\n",
       "      <td>NaN</td>\n",
       "      <td>NaN</td>\n",
       "      <td>NaN</td>\n",
       "      <td>None</td>\n",
       "    </tr>\n",
       "    <tr>\n",
       "      <th>10</th>\n",
       "      <td>PRIJEM</td>\n",
       "      <td>VKLAD</td>\n",
       "      <td>1000.0</td>\n",
       "      <td>1000.0</td>\n",
       "      <td></td>\n",
       "      <td>NaN</td>\n",
       "      <td>NaN</td>\n",
       "      <td>NaN</td>\n",
       "      <td>None</td>\n",
       "    </tr>\n",
       "    <tr>\n",
       "      <th>11</th>\n",
       "      <td>PRIJEM</td>\n",
       "      <td>VKLAD</td>\n",
       "      <td>300.0</td>\n",
       "      <td>300.0</td>\n",
       "      <td></td>\n",
       "      <td>NaN</td>\n",
       "      <td>NaN</td>\n",
       "      <td>NaN</td>\n",
       "      <td>None</td>\n",
       "    </tr>\n",
       "    <tr>\n",
       "      <th>12</th>\n",
       "      <td>PRIJEM</td>\n",
       "      <td>VKLAD</td>\n",
       "      <td>800.0</td>\n",
       "      <td>800.0</td>\n",
       "      <td></td>\n",
       "      <td>NaN</td>\n",
       "      <td>NaN</td>\n",
       "      <td>NaN</td>\n",
       "      <td>None</td>\n",
       "    </tr>\n",
       "    <tr>\n",
       "      <th>13</th>\n",
       "      <td>PRIJEM</td>\n",
       "      <td>VKLAD</td>\n",
       "      <td>800.0</td>\n",
       "      <td>800.0</td>\n",
       "      <td></td>\n",
       "      <td>NaN</td>\n",
       "      <td>NaN</td>\n",
       "      <td>NaN</td>\n",
       "      <td>None</td>\n",
       "    </tr>\n",
       "    <tr>\n",
       "      <th>14</th>\n",
       "      <td>PRIJEM</td>\n",
       "      <td>VKLAD</td>\n",
       "      <td>700.0</td>\n",
       "      <td>700.0</td>\n",
       "      <td></td>\n",
       "      <td>NaN</td>\n",
       "      <td>NaN</td>\n",
       "      <td>NaN</td>\n",
       "      <td>None</td>\n",
       "    </tr>\n",
       "    <tr>\n",
       "      <th>15</th>\n",
       "      <td>PRIJEM</td>\n",
       "      <td>PREVOD Z UCTU</td>\n",
       "      <td>5123.0</td>\n",
       "      <td>5923.0</td>\n",
       "      <td>DUCHOD</td>\n",
       "      <td>NaN</td>\n",
       "      <td>NaN</td>\n",
       "      <td>NaN</td>\n",
       "      <td>None</td>\n",
       "    </tr>\n",
       "    <tr>\n",
       "      <th>16</th>\n",
       "      <td>PRIJEM</td>\n",
       "      <td>PREVOD Z UCTU</td>\n",
       "      <td>3401.0</td>\n",
       "      <td>4201.0</td>\n",
       "      <td></td>\n",
       "      <td>NaN</td>\n",
       "      <td>NaN</td>\n",
       "      <td>NaN</td>\n",
       "      <td>None</td>\n",
       "    </tr>\n",
       "    <tr>\n",
       "      <th>17</th>\n",
       "      <td>PRIJEM</td>\n",
       "      <td>VKLAD</td>\n",
       "      <td>500.0</td>\n",
       "      <td>500.0</td>\n",
       "      <td></td>\n",
       "      <td>NaN</td>\n",
       "      <td>NaN</td>\n",
       "      <td>NaN</td>\n",
       "      <td>None</td>\n",
       "    </tr>\n",
       "    <tr>\n",
       "      <th>18</th>\n",
       "      <td>PRIJEM</td>\n",
       "      <td>VKLAD</td>\n",
       "      <td>700.0</td>\n",
       "      <td>700.0</td>\n",
       "      <td></td>\n",
       "      <td>NaN</td>\n",
       "      <td>NaN</td>\n",
       "      <td>NaN</td>\n",
       "      <td>None</td>\n",
       "    </tr>\n",
       "    <tr>\n",
       "      <th>19</th>\n",
       "      <td>PRIJEM</td>\n",
       "      <td>PREVOD Z UCTU</td>\n",
       "      <td>3242.0</td>\n",
       "      <td>3742.0</td>\n",
       "      <td></td>\n",
       "      <td>NaN</td>\n",
       "      <td>NaN</td>\n",
       "      <td>NaN</td>\n",
       "      <td>None</td>\n",
       "    </tr>\n",
       "  </tbody>\n",
       "</table>\n",
       "</div>"
      ],
      "text/plain": [
       "      type      operation  t_amount  balance k_symbol  l_amount  duration  \\\n",
       "0   PRIJEM          VKLAD     700.0    700.0                NaN       NaN   \n",
       "1   PRIJEM          VKLAD     900.0    900.0                NaN       NaN   \n",
       "2   PRIJEM          VKLAD    1000.0   1000.0                NaN       NaN   \n",
       "3   PRIJEM          VKLAD     600.0    600.0                NaN       NaN   \n",
       "4   PRIJEM          VKLAD     400.0    400.0                NaN       NaN   \n",
       "5   PRIJEM          VKLAD    1100.0   1100.0                NaN       NaN   \n",
       "6   PRIJEM          VKLAD     600.0    600.0                NaN       NaN   \n",
       "7   PRIJEM          VKLAD    1100.0   1100.0                NaN       NaN   \n",
       "8   PRIJEM          VKLAD     200.0    200.0                NaN       NaN   \n",
       "9   PRIJEM          VKLAD     800.0    800.0                NaN       NaN   \n",
       "10  PRIJEM          VKLAD    1000.0   1000.0                NaN       NaN   \n",
       "11  PRIJEM          VKLAD     300.0    300.0                NaN       NaN   \n",
       "12  PRIJEM          VKLAD     800.0    800.0                NaN       NaN   \n",
       "13  PRIJEM          VKLAD     800.0    800.0                NaN       NaN   \n",
       "14  PRIJEM          VKLAD     700.0    700.0                NaN       NaN   \n",
       "15  PRIJEM  PREVOD Z UCTU    5123.0   5923.0   DUCHOD       NaN       NaN   \n",
       "16  PRIJEM  PREVOD Z UCTU    3401.0   4201.0                NaN       NaN   \n",
       "17  PRIJEM          VKLAD     500.0    500.0                NaN       NaN   \n",
       "18  PRIJEM          VKLAD     700.0    700.0                NaN       NaN   \n",
       "19  PRIJEM  PREVOD Z UCTU    3242.0   3742.0                NaN       NaN   \n",
       "\n",
       "    payments status  \n",
       "0        NaN   None  \n",
       "1        NaN   None  \n",
       "2        NaN   None  \n",
       "3        NaN   None  \n",
       "4        NaN   None  \n",
       "5        NaN   None  \n",
       "6        NaN   None  \n",
       "7        NaN   None  \n",
       "8        NaN   None  \n",
       "9        NaN   None  \n",
       "10       NaN   None  \n",
       "11       NaN   None  \n",
       "12       NaN   None  \n",
       "13       NaN   None  \n",
       "14       NaN   None  \n",
       "15       NaN   None  \n",
       "16       NaN   None  \n",
       "17       NaN   None  \n",
       "18       NaN   None  \n",
       "19       NaN   None  "
      ]
     },
     "execution_count": 4,
     "metadata": {},
     "output_type": "execute_result"
    }
   ],
   "source": [
    "data.head(20)"
   ]
  },
  {
   "cell_type": "markdown",
   "id": "documented-retrieval",
   "metadata": {},
   "source": [
    "# EDA"
   ]
  },
  {
   "cell_type": "code",
   "execution_count": 5,
   "id": "naval-exploration",
   "metadata": {},
   "outputs": [
    {
     "data": {
      "text/plain": [
       "type              0\n",
       "operation         0\n",
       "t_amount          0\n",
       "balance           0\n",
       "k_symbol          0\n",
       "l_amount     711938\n",
       "duration     711938\n",
       "payments     711938\n",
       "status       711938\n",
       "dtype: int64"
      ]
     },
     "execution_count": 5,
     "metadata": {},
     "output_type": "execute_result"
    }
   ],
   "source": [
    "# check null values\n",
    "data.isna().sum()"
   ]
  },
  {
   "cell_type": "code",
   "execution_count": 6,
   "id": "adjacent-craps",
   "metadata": {},
   "outputs": [
    {
     "data": {
      "text/plain": [
       "868019"
      ]
     },
     "execution_count": 6,
     "metadata": {},
     "output_type": "execute_result"
    }
   ],
   "source": [
    "# check length\n",
    "len(data)"
   ]
  },
  {
   "cell_type": "code",
   "execution_count": 7,
   "id": "treated-georgia",
   "metadata": {
    "scrolled": true
   },
   "outputs": [],
   "source": [
    "# exclude null values from the duration column(filter out)\n",
    "data = data[~data['duration'].isna()]"
   ]
  },
  {
   "cell_type": "code",
   "execution_count": 8,
   "id": "exempt-anatomy",
   "metadata": {},
   "outputs": [
    {
     "data": {
      "text/plain": [
       "type         0\n",
       "operation    0\n",
       "t_amount     0\n",
       "balance      0\n",
       "k_symbol     0\n",
       "l_amount     0\n",
       "duration     0\n",
       "payments     0\n",
       "status       0\n",
       "dtype: int64"
      ]
     },
     "execution_count": 8,
     "metadata": {},
     "output_type": "execute_result"
    }
   ],
   "source": [
    "# test\n",
    "data.isna().sum()"
   ]
  },
  {
   "cell_type": "code",
   "execution_count": 9,
   "id": "clear-happening",
   "metadata": {
    "scrolled": false
   },
   "outputs": [
    {
     "name": "stdout",
     "output_type": "stream",
     "text": [
      "<class 'pandas.core.frame.DataFrame'>\n",
      "Int64Index: 156081 entries, 62 to 868011\n",
      "Data columns (total 9 columns):\n",
      " #   Column     Non-Null Count   Dtype  \n",
      "---  ------     --------------   -----  \n",
      " 0   type       156081 non-null  object \n",
      " 1   operation  156081 non-null  object \n",
      " 2   t_amount   156081 non-null  float64\n",
      " 3   balance    156081 non-null  float64\n",
      " 4   k_symbol   156081 non-null  object \n",
      " 5   l_amount   156081 non-null  float64\n",
      " 6   duration   156081 non-null  float64\n",
      " 7   payments   156081 non-null  float64\n",
      " 8   status     156081 non-null  object \n",
      "dtypes: float64(5), object(4)\n",
      "memory usage: 11.9+ MB\n"
     ]
    }
   ],
   "source": [
    "data.info()"
   ]
  },
  {
   "cell_type": "code",
   "execution_count": 10,
   "id": "copyrighted-impression",
   "metadata": {},
   "outputs": [],
   "source": [
    "# turning duration into categorical, because it comes in values of whole years (1,2,3,4,5)\n",
    "data['duration'] = data['duration'].astype('object')"
   ]
  },
  {
   "cell_type": "markdown",
   "id": "significant-defendant",
   "metadata": {},
   "source": [
    "## Cleaning categoricals"
   ]
  },
  {
   "cell_type": "markdown",
   "id": "coastal-sunday",
   "metadata": {},
   "source": [
    "### Operation column"
   ]
  },
  {
   "cell_type": "code",
   "execution_count": 11,
   "id": "decreased-great",
   "metadata": {},
   "outputs": [
    {
     "data": {
      "text/plain": [
       "VYBER             70189\n",
       "                  31337\n",
       "PREVOD NA UCET    25796\n",
       "VKLAD             22633\n",
       "PREVOD Z UCTU      5336\n",
       "VYBER KARTOU        790\n",
       "Name: operation, dtype: int64"
      ]
     },
     "execution_count": 11,
     "metadata": {},
     "output_type": "execute_result"
    }
   ],
   "source": [
    "# check what unique values we have\n",
    "data['operation'].value_counts()"
   ]
  },
  {
   "cell_type": "code",
   "execution_count": 12,
   "id": "willing-energy",
   "metadata": {},
   "outputs": [],
   "source": [
    "### We want to squash the two vyber and prevod values and name the unnamed values unknown"
   ]
  },
  {
   "cell_type": "code",
   "execution_count": 13,
   "id": "connected-eugene",
   "metadata": {},
   "outputs": [],
   "source": [
    "def clean_operation(x):\n",
    "    x = x.lower()\n",
    "    if 'vyber' in x:\n",
    "        return 'vyber'\n",
    "    elif 'prevod' in x:\n",
    "        return 'prevod'\n",
    "    elif 'vklad' in x:\n",
    "        return 'vklad'\n",
    "    else: \n",
    "        return 'unknown'"
   ]
  },
  {
   "cell_type": "code",
   "execution_count": 14,
   "id": "proof-counter",
   "metadata": {},
   "outputs": [
    {
     "data": {
      "text/plain": [
       "vyber      70979\n",
       "unknown    31337\n",
       "prevod     31132\n",
       "vklad      22633\n",
       "Name: operation, dtype: int64"
      ]
     },
     "execution_count": 14,
     "metadata": {},
     "output_type": "execute_result"
    }
   ],
   "source": [
    "#test \n",
    "data['operation'].apply(clean_operation).value_counts()"
   ]
  },
  {
   "cell_type": "code",
   "execution_count": 15,
   "id": "composite-stopping",
   "metadata": {},
   "outputs": [],
   "source": [
    "#make it permanent\n",
    "data['operation'] = data['operation'].apply(clean_operation)"
   ]
  },
  {
   "cell_type": "code",
   "execution_count": 16,
   "id": "authentic-conclusion",
   "metadata": {},
   "outputs": [
    {
     "data": {
      "text/plain": [
       "vyber      70979\n",
       "unknown    31337\n",
       "prevod     31132\n",
       "vklad      22633\n",
       "Name: operation, dtype: int64"
      ]
     },
     "execution_count": 16,
     "metadata": {},
     "output_type": "execute_result"
    }
   ],
   "source": [
    "# test\n",
    "data['operation'].value_counts()"
   ]
  },
  {
   "cell_type": "markdown",
   "id": "verified-press",
   "metadata": {},
   "source": [
    "### K_symbol column"
   ]
  },
  {
   "cell_type": "code",
   "execution_count": 17,
   "id": "coordinate-equipment",
   "metadata": {},
   "outputs": [
    {
     "data": {
      "text/plain": [
       "Index(['', 'UROK', 'SLUZBY', 'SIPO', 'UVER', ' ', 'POJISTNE', 'SANKC. UROK'], dtype='object')"
      ]
     },
     "execution_count": 17,
     "metadata": {},
     "output_type": "execute_result"
    }
   ],
   "source": [
    "# check what unique values we have\n",
    "data['k_symbol'].value_counts().index"
   ]
  },
  {
   "cell_type": "code",
   "execution_count": 18,
   "id": "whole-popularity",
   "metadata": {},
   "outputs": [],
   "source": [
    "## celan the k_symbol values\n",
    "def clean_kysmbol(x):\n",
    "    if x in ['',' ']:\n",
    "        return 'unknown'\n",
    "    else: \n",
    "        return x"
   ]
  },
  {
   "cell_type": "code",
   "execution_count": 19,
   "id": "moral-gothic",
   "metadata": {},
   "outputs": [],
   "source": [
    "#make it permanent\n",
    "data['k_symbol'] = data['k_symbol'].apply(clean_kysmbol)"
   ]
  },
  {
   "cell_type": "code",
   "execution_count": 20,
   "id": "laden-draft",
   "metadata": {},
   "outputs": [
    {
     "data": {
      "text/plain": [
       "unknown        79925\n",
       "UROK           31337\n",
       "SLUZBY         23592\n",
       "SIPO           10482\n",
       "UVER            7744\n",
       "POJISTNE        2412\n",
       "SANKC. UROK      589\n",
       "Name: k_symbol, dtype: int64"
      ]
     },
     "execution_count": 20,
     "metadata": {},
     "output_type": "execute_result"
    }
   ],
   "source": [
    "# test\n",
    "data['k_symbol'].value_counts()"
   ]
  },
  {
   "cell_type": "code",
   "execution_count": 21,
   "id": "neutral-patrick",
   "metadata": {},
   "outputs": [],
   "source": [
    "# exclude rows which has 'POJISTINE', 'SANKC. UROK' or 'UVER' as values\n",
    "data = data[~data['k_symbol'].isin(['POJISTNE', 'SANKC. UROK', 'UVER'])]"
   ]
  },
  {
   "cell_type": "code",
   "execution_count": 22,
   "id": "humanitarian-thursday",
   "metadata": {},
   "outputs": [
    {
     "data": {
      "text/plain": [
       "unknown    79925\n",
       "UROK       31337\n",
       "SLUZBY     23592\n",
       "SIPO       10482\n",
       "Name: k_symbol, dtype: int64"
      ]
     },
     "execution_count": 22,
     "metadata": {},
     "output_type": "execute_result"
    }
   ],
   "source": [
    "#test\n",
    "data['k_symbol'].value_counts()"
   ]
  },
  {
   "cell_type": "markdown",
   "id": "handled-february",
   "metadata": {},
   "source": [
    "### Type column"
   ]
  },
  {
   "cell_type": "code",
   "execution_count": 23,
   "id": "forward-possession",
   "metadata": {},
   "outputs": [
    {
     "data": {
      "text/plain": [
       "VYDAJ     80683\n",
       "PRIJEM    59306\n",
       "VYBER      5347\n",
       "Name: type, dtype: int64"
      ]
     },
     "execution_count": 23,
     "metadata": {},
     "output_type": "execute_result"
    }
   ],
   "source": [
    "data['type'].value_counts()"
   ]
  },
  {
   "cell_type": "code",
   "execution_count": 24,
   "id": "funny-scanning",
   "metadata": {},
   "outputs": [],
   "source": [
    "def clean_type(x):\n",
    "    if 'PRI' in x:\n",
    "        return 'PRIJEM'\n",
    "    else: \n",
    "        return x\n",
    "    \n",
    "data['type'] = data['type'].apply(clean_type)"
   ]
  },
  {
   "cell_type": "code",
   "execution_count": 25,
   "id": "pointed-bahrain",
   "metadata": {},
   "outputs": [
    {
     "data": {
      "text/plain": [
       "VYDAJ     80683\n",
       "PRIJEM    59306\n",
       "VYBER      5347\n",
       "Name: type, dtype: int64"
      ]
     },
     "execution_count": 25,
     "metadata": {},
     "output_type": "execute_result"
    }
   ],
   "source": [
    "data['type'].value_counts()"
   ]
  },
  {
   "cell_type": "markdown",
   "id": "downtown-broadcast",
   "metadata": {},
   "source": [
    "## Check correlations for numerical columns"
   ]
  },
  {
   "cell_type": "code",
   "execution_count": 26,
   "id": "systematic-cartridge",
   "metadata": {},
   "outputs": [],
   "source": [
    "import matplotlib.pyplot as plt\n",
    "import seaborn as sns"
   ]
  },
  {
   "cell_type": "code",
   "execution_count": 27,
   "id": "creative-apparel",
   "metadata": {
    "scrolled": true
   },
   "outputs": [],
   "source": [
    "corr_matrix = data.corr()"
   ]
  },
  {
   "cell_type": "code",
   "execution_count": 28,
   "id": "earlier-graham",
   "metadata": {},
   "outputs": [
    {
     "data": {
      "image/png": "[encoded data removed]",
      "text/plain": [
       "<Figure size 1296x720 with 2 Axes>"
      ]
     },
     "metadata": {
      "needs_background": "light"
     },
     "output_type": "display_data"
    }
   ],
   "source": [
    "fig, ax = plt.subplots(figsize = (18, 10))\n",
    "sns.heatmap(corr_matrix, cmap ='seismic', center = 0, annot=True);"
   ]
  },
  {
   "cell_type": "markdown",
   "id": "medium-service",
   "metadata": {},
   "source": [
    "#note\n",
    "\n",
    "-some high correlations between my features\n",
    "\n",
    "-come back here after first model validation and maybe drop the highly correlated features"
   ]
  },
  {
   "cell_type": "markdown",
   "id": "final-arrival",
   "metadata": {},
   "source": [
    "## Explore data visually"
   ]
  },
  {
   "cell_type": "code",
   "execution_count": 29,
   "id": "furnished-wildlife",
   "metadata": {},
   "outputs": [
    {
     "data": {
      "text/plain": [
       "<seaborn.axisgrid.FacetGrid at 0x7fde0fea6fa0>"
      ]
     },
     "execution_count": 29,
     "metadata": {},
     "output_type": "execute_result"
    },
    {
     "data": {
      "image/png": "[encoded data removed]",
      "text/plain": [
       "<Figure size 360x360 with 1 Axes>"
      ]
     },
     "metadata": {
      "needs_background": "light"
     },
     "output_type": "display_data"
    }
   ],
   "source": [
    "sns.displot(data['t_amount'])"
   ]
  },
  {
   "cell_type": "code",
   "execution_count": 30,
   "id": "formed-tablet",
   "metadata": {},
   "outputs": [
    {
     "data": {
      "text/plain": [
       "count    145336.000000\n",
       "mean       8127.276145\n",
       "std       12047.666621\n",
       "min           0.000000\n",
       "25%         133.800000\n",
       "50%        2758.000000\n",
       "75%       11000.000000\n",
       "max       87300.000000\n",
       "Name: t_amount, dtype: float64"
      ]
     },
     "execution_count": 30,
     "metadata": {},
     "output_type": "execute_result"
    }
   ],
   "source": [
    "data['t_amount'].describe()"
   ]
  },
  {
   "cell_type": "code",
   "execution_count": 31,
   "id": "present-cuisine",
   "metadata": {},
   "outputs": [
    {
     "name": "stderr",
     "output_type": "stream",
     "text": [
      "/Users/lilmac/opt/anaconda3/lib/python3.8/site-packages/seaborn/distributions.py:2557: FutureWarning: `distplot` is a deprecated function and will be removed in a future version. Please adapt your code to use either `displot` (a figure-level function with similar flexibility) or `histplot` (an axes-level function for histograms).\n",
      "  warnings.warn(msg, FutureWarning)\n"
     ]
    },
    {
     "data": {
      "image/png": "[encoded data removed]",
      "text/plain": [
       "<Figure size 1296x720 with 1 Axes>"
      ]
     },
     "metadata": {
      "needs_background": "light"
     },
     "output_type": "display_data"
    }
   ],
   "source": [
    "fig, ax = plt.subplots(figsize = (18, 10))\n",
    "sns.distplot(data['l_amount'], bins=500);"
   ]
  },
  {
   "cell_type": "code",
   "execution_count": 32,
   "id": "spread-development",
   "metadata": {},
   "outputs": [
    {
     "data": {
      "text/plain": [
       "count    145336.000000\n",
       "mean     146015.695162\n",
       "std      109476.855709\n",
       "min        4980.000000\n",
       "25%       65184.000000\n",
       "50%      110736.000000\n",
       "75%      200976.000000\n",
       "max      590820.000000\n",
       "Name: l_amount, dtype: float64"
      ]
     },
     "execution_count": 32,
     "metadata": {},
     "output_type": "execute_result"
    }
   ],
   "source": [
    "data['l_amount'].describe()"
   ]
  },
  {
   "cell_type": "code",
   "execution_count": 33,
   "id": "proud-brief",
   "metadata": {},
   "outputs": [],
   "source": [
    "# because the values of these two columns are so far away from each other, \n",
    "# for our ML model to work we need to normalise these two"
   ]
  },
  {
   "cell_type": "code",
   "execution_count": 34,
   "id": "eight-adult",
   "metadata": {},
   "outputs": [],
   "source": [
    "# l_amount's max values are 59 hundred thousand and t_amount is 87thousand"
   ]
  },
  {
   "cell_type": "markdown",
   "id": "infinite-lightweight",
   "metadata": {},
   "source": [
    "# Preprocessing step 1: \n",
    "### Normalise"
   ]
  },
  {
   "cell_type": "code",
   "execution_count": 49,
   "id": "entitled-thomas",
   "metadata": {},
   "outputs": [],
   "source": [
    "import numpy as np\n",
    "from sklearn.preprocessing import Normalizer\n",
    "X = data.select_dtypes(include = np.number)"
   ]
  },
  {
   "cell_type": "code",
   "execution_count": 50,
   "id": "female-medicine",
   "metadata": {},
   "outputs": [
    {
     "data": {
      "text/html": [
       "<div>\n",
       "<style scoped>\n",
       "    .dataframe tbody tr th:only-of-type {\n",
       "        vertical-align: middle;\n",
       "    }\n",
       "\n",
       "    .dataframe tbody tr th {\n",
       "        vertical-align: top;\n",
       "    }\n",
       "\n",
       "    .dataframe thead th {\n",
       "        text-align: right;\n",
       "    }\n",
       "</style>\n",
       "<table border=\"1\" class=\"dataframe\">\n",
       "  <thead>\n",
       "    <tr style=\"text-align: right;\">\n",
       "      <th></th>\n",
       "      <th>t_amount</th>\n",
       "      <th>balance</th>\n",
       "      <th>l_amount</th>\n",
       "      <th>payments</th>\n",
       "    </tr>\n",
       "  </thead>\n",
       "  <tbody>\n",
       "    <tr>\n",
       "      <th>62</th>\n",
       "      <td>44749.0</td>\n",
       "      <td>45549.0</td>\n",
       "      <td>79608.0</td>\n",
       "      <td>3317.0</td>\n",
       "    </tr>\n",
       "    <tr>\n",
       "      <th>63</th>\n",
       "      <td>1000.0</td>\n",
       "      <td>1000.0</td>\n",
       "      <td>52788.0</td>\n",
       "      <td>4399.0</td>\n",
       "    </tr>\n",
       "    <tr>\n",
       "      <th>69</th>\n",
       "      <td>1100.0</td>\n",
       "      <td>1100.0</td>\n",
       "      <td>21924.0</td>\n",
       "      <td>609.0</td>\n",
       "    </tr>\n",
       "    <tr>\n",
       "      <th>75</th>\n",
       "      <td>700.0</td>\n",
       "      <td>700.0</td>\n",
       "      <td>23052.0</td>\n",
       "      <td>1921.0</td>\n",
       "    </tr>\n",
       "    <tr>\n",
       "      <th>96</th>\n",
       "      <td>900.0</td>\n",
       "      <td>900.0</td>\n",
       "      <td>41904.0</td>\n",
       "      <td>3492.0</td>\n",
       "    </tr>\n",
       "    <tr>\n",
       "      <th>98</th>\n",
       "      <td>900.0</td>\n",
       "      <td>900.0</td>\n",
       "      <td>65184.0</td>\n",
       "      <td>5432.0</td>\n",
       "    </tr>\n",
       "    <tr>\n",
       "      <th>106</th>\n",
       "      <td>1100.0</td>\n",
       "      <td>1100.0</td>\n",
       "      <td>76908.0</td>\n",
       "      <td>6409.0</td>\n",
       "    </tr>\n",
       "    <tr>\n",
       "      <th>107</th>\n",
       "      <td>19961.0</td>\n",
       "      <td>21061.0</td>\n",
       "      <td>76908.0</td>\n",
       "      <td>6409.0</td>\n",
       "    </tr>\n",
       "    <tr>\n",
       "      <th>122</th>\n",
       "      <td>1000.0</td>\n",
       "      <td>1000.0</td>\n",
       "      <td>105804.0</td>\n",
       "      <td>2939.0</td>\n",
       "    </tr>\n",
       "    <tr>\n",
       "      <th>129</th>\n",
       "      <td>17.0</td>\n",
       "      <td>21078.0</td>\n",
       "      <td>76908.0</td>\n",
       "      <td>6409.0</td>\n",
       "    </tr>\n",
       "    <tr>\n",
       "      <th>154</th>\n",
       "      <td>5282.0</td>\n",
       "      <td>6182.0</td>\n",
       "      <td>41904.0</td>\n",
       "      <td>3492.0</td>\n",
       "    </tr>\n",
       "    <tr>\n",
       "      <th>159</th>\n",
       "      <td>110.2</td>\n",
       "      <td>45659.2</td>\n",
       "      <td>79608.0</td>\n",
       "      <td>3317.0</td>\n",
       "    </tr>\n",
       "    <tr>\n",
       "      <th>160</th>\n",
       "      <td>0.8</td>\n",
       "      <td>6182.8</td>\n",
       "      <td>41904.0</td>\n",
       "      <td>3492.0</td>\n",
       "    </tr>\n",
       "    <tr>\n",
       "      <th>186</th>\n",
       "      <td>300.0</td>\n",
       "      <td>300.0</td>\n",
       "      <td>39576.0</td>\n",
       "      <td>3298.0</td>\n",
       "    </tr>\n",
       "    <tr>\n",
       "      <th>199</th>\n",
       "      <td>7618.0</td>\n",
       "      <td>8618.0</td>\n",
       "      <td>52788.0</td>\n",
       "      <td>4399.0</td>\n",
       "    </tr>\n",
       "    <tr>\n",
       "      <th>217</th>\n",
       "      <td>200.0</td>\n",
       "      <td>200.0</td>\n",
       "      <td>208320.0</td>\n",
       "      <td>4340.0</td>\n",
       "    </tr>\n",
       "    <tr>\n",
       "      <th>219</th>\n",
       "      <td>14493.0</td>\n",
       "      <td>15593.0</td>\n",
       "      <td>21924.0</td>\n",
       "      <td>609.0</td>\n",
       "    </tr>\n",
       "    <tr>\n",
       "      <th>227</th>\n",
       "      <td>600.0</td>\n",
       "      <td>600.0</td>\n",
       "      <td>51696.0</td>\n",
       "      <td>2154.0</td>\n",
       "    </tr>\n",
       "    <tr>\n",
       "      <th>234</th>\n",
       "      <td>700.0</td>\n",
       "      <td>700.0</td>\n",
       "      <td>83016.0</td>\n",
       "      <td>6918.0</td>\n",
       "    </tr>\n",
       "    <tr>\n",
       "      <th>241</th>\n",
       "      <td>800.0</td>\n",
       "      <td>800.0</td>\n",
       "      <td>127080.0</td>\n",
       "      <td>2118.0</td>\n",
       "    </tr>\n",
       "    <tr>\n",
       "      <th>258</th>\n",
       "      <td>1100.0</td>\n",
       "      <td>1100.0</td>\n",
       "      <td>24312.0</td>\n",
       "      <td>2026.0</td>\n",
       "    </tr>\n",
       "    <tr>\n",
       "      <th>269</th>\n",
       "      <td>12154.0</td>\n",
       "      <td>13254.0</td>\n",
       "      <td>24312.0</td>\n",
       "      <td>2026.0</td>\n",
       "    </tr>\n",
       "    <tr>\n",
       "      <th>278</th>\n",
       "      <td>19588.0</td>\n",
       "      <td>20188.0</td>\n",
       "      <td>51696.0</td>\n",
       "      <td>2154.0</td>\n",
       "    </tr>\n",
       "    <tr>\n",
       "      <th>279</th>\n",
       "      <td>27078.0</td>\n",
       "      <td>47266.0</td>\n",
       "      <td>51696.0</td>\n",
       "      <td>2154.0</td>\n",
       "    </tr>\n",
       "    <tr>\n",
       "      <th>280</th>\n",
       "      <td>32594.0</td>\n",
       "      <td>33494.0</td>\n",
       "      <td>65184.0</td>\n",
       "      <td>5432.0</td>\n",
       "    </tr>\n",
       "  </tbody>\n",
       "</table>\n",
       "</div>"
      ],
      "text/plain": [
       "     t_amount  balance  l_amount  payments\n",
       "62    44749.0  45549.0   79608.0    3317.0\n",
       "63     1000.0   1000.0   52788.0    4399.0\n",
       "69     1100.0   1100.0   21924.0     609.0\n",
       "75      700.0    700.0   23052.0    1921.0\n",
       "96      900.0    900.0   41904.0    3492.0\n",
       "98      900.0    900.0   65184.0    5432.0\n",
       "106    1100.0   1100.0   76908.0    6409.0\n",
       "107   19961.0  21061.0   76908.0    6409.0\n",
       "122    1000.0   1000.0  105804.0    2939.0\n",
       "129      17.0  21078.0   76908.0    6409.0\n",
       "154    5282.0   6182.0   41904.0    3492.0\n",
       "159     110.2  45659.2   79608.0    3317.0\n",
       "160       0.8   6182.8   41904.0    3492.0\n",
       "186     300.0    300.0   39576.0    3298.0\n",
       "199    7618.0   8618.0   52788.0    4399.0\n",
       "217     200.0    200.0  208320.0    4340.0\n",
       "219   14493.0  15593.0   21924.0     609.0\n",
       "227     600.0    600.0   51696.0    2154.0\n",
       "234     700.0    700.0   83016.0    6918.0\n",
       "241     800.0    800.0  127080.0    2118.0\n",
       "258    1100.0   1100.0   24312.0    2026.0\n",
       "269   12154.0  13254.0   24312.0    2026.0\n",
       "278   19588.0  20188.0   51696.0    2154.0\n",
       "279   27078.0  47266.0   51696.0    2154.0\n",
       "280   32594.0  33494.0   65184.0    5432.0"
      ]
     },
     "execution_count": 50,
     "metadata": {},
     "output_type": "execute_result"
    }
   ],
   "source": [
    "X.head(25)"
   ]
  },
  {
   "cell_type": "code",
   "execution_count": 51,
   "id": "presidential-melbourne",
   "metadata": {},
   "outputs": [],
   "source": [
    "transformer = Normalizer().fit(X)\n",
    "x_normalized = transformer.transform(X)"
   ]
  },
  {
   "cell_type": "code",
   "execution_count": 54,
   "id": "logical-triple",
   "metadata": {
    "scrolled": true
   },
   "outputs": [],
   "source": [
    "X = pd.DataFrame(x_normalized, columns=X.columns)"
   ]
  },
  {
   "cell_type": "code",
   "execution_count": 63,
   "id": "undefined-biodiversity",
   "metadata": {},
   "outputs": [
    {
     "data": {
      "text/plain": [
       "count    145336.000000\n",
       "mean          0.063047\n",
       "std           0.095218\n",
       "min           0.000000\n",
       "25%           0.000989\n",
       "50%           0.020555\n",
       "75%           0.086962\n",
       "max           0.857956\n",
       "Name: t_amount, dtype: float64"
      ]
     },
     "execution_count": 63,
     "metadata": {},
     "output_type": "execute_result"
    }
   ],
   "source": [
    "X['t_amount'].describe()"
   ]
  },
  {
   "cell_type": "code",
   "execution_count": 64,
   "id": "cosmetic-shelter",
   "metadata": {},
   "outputs": [
    {
     "data": {
      "text/plain": [
       "count    145336.000000\n",
       "mean          0.856539\n",
       "std           0.182564\n",
       "min           0.072344\n",
       "25%           0.805386\n",
       "50%           0.936930\n",
       "75%           0.981320\n",
       "max           0.999861\n",
       "Name: l_amount, dtype: float64"
      ]
     },
     "execution_count": 64,
     "metadata": {},
     "output_type": "execute_result"
    }
   ],
   "source": [
    "X['l_amount'].describe()"
   ]
  },
  {
   "cell_type": "markdown",
   "id": "thorough-warrior",
   "metadata": {},
   "source": [
    "# Preprocessing step 2:\n",
    "### Turn categorical data into boolean values"
   ]
  },
  {
   "cell_type": "code",
   "execution_count": 65,
   "id": "prompt-cedar",
   "metadata": {},
   "outputs": [],
   "source": [
    "num = data._get_numeric_data()\n",
    "cat = data.drop(columns=num.columns)"
   ]
  },
  {
   "cell_type": "code",
   "execution_count": 66,
   "id": "nominated-prefix",
   "metadata": {},
   "outputs": [],
   "source": [
    "# dropping status column as that's what we wanna predict\n",
    "cat = cat.drop(['status'], axis=1)"
   ]
  },
  {
   "cell_type": "code",
   "execution_count": 67,
   "id": "opposite-tulsa",
   "metadata": {},
   "outputs": [
    {
     "data": {
      "text/html": [
       "<div>\n",
       "<style scoped>\n",
       "    .dataframe tbody tr th:only-of-type {\n",
       "        vertical-align: middle;\n",
       "    }\n",
       "\n",
       "    .dataframe tbody tr th {\n",
       "        vertical-align: top;\n",
       "    }\n",
       "\n",
       "    .dataframe thead th {\n",
       "        text-align: right;\n",
       "    }\n",
       "</style>\n",
       "<table border=\"1\" class=\"dataframe\">\n",
       "  <thead>\n",
       "    <tr style=\"text-align: right;\">\n",
       "      <th></th>\n",
       "      <th>type</th>\n",
       "      <th>operation</th>\n",
       "      <th>k_symbol</th>\n",
       "      <th>duration</th>\n",
       "    </tr>\n",
       "  </thead>\n",
       "  <tbody>\n",
       "    <tr>\n",
       "      <th>62</th>\n",
       "      <td>PRIJEM</td>\n",
       "      <td>prevod</td>\n",
       "      <td>unknown</td>\n",
       "      <td>24.0</td>\n",
       "    </tr>\n",
       "    <tr>\n",
       "      <th>63</th>\n",
       "      <td>PRIJEM</td>\n",
       "      <td>vklad</td>\n",
       "      <td>unknown</td>\n",
       "      <td>12.0</td>\n",
       "    </tr>\n",
       "    <tr>\n",
       "      <th>69</th>\n",
       "      <td>PRIJEM</td>\n",
       "      <td>vklad</td>\n",
       "      <td>unknown</td>\n",
       "      <td>36.0</td>\n",
       "    </tr>\n",
       "    <tr>\n",
       "      <th>75</th>\n",
       "      <td>PRIJEM</td>\n",
       "      <td>vklad</td>\n",
       "      <td>unknown</td>\n",
       "      <td>12.0</td>\n",
       "    </tr>\n",
       "    <tr>\n",
       "      <th>96</th>\n",
       "      <td>PRIJEM</td>\n",
       "      <td>vklad</td>\n",
       "      <td>unknown</td>\n",
       "      <td>12.0</td>\n",
       "    </tr>\n",
       "  </tbody>\n",
       "</table>\n",
       "</div>"
      ],
      "text/plain": [
       "      type operation k_symbol duration\n",
       "62  PRIJEM    prevod  unknown     24.0\n",
       "63  PRIJEM     vklad  unknown     12.0\n",
       "69  PRIJEM     vklad  unknown     36.0\n",
       "75  PRIJEM     vklad  unknown     12.0\n",
       "96  PRIJEM     vklad  unknown     12.0"
      ]
     },
     "execution_count": 67,
     "metadata": {},
     "output_type": "execute_result"
    }
   ],
   "source": [
    "cat.head()"
   ]
  },
  {
   "cell_type": "code",
   "execution_count": 72,
   "id": "saving-series",
   "metadata": {},
   "outputs": [],
   "source": [
    "categorical = pd.get_dummies(cat, columns=['type', 'operation', 'k_symbol', 'duration'])"
   ]
  },
  {
   "cell_type": "markdown",
   "id": "entitled-fighter",
   "metadata": {},
   "source": [
    "# Modeling"
   ]
  },
  {
   "cell_type": "code",
   "execution_count": 73,
   "id": "moral-intellectual",
   "metadata": {},
   "outputs": [
    {
     "data": {
      "text/html": [
       "<div>\n",
       "<style scoped>\n",
       "    .dataframe tbody tr th:only-of-type {\n",
       "        vertical-align: middle;\n",
       "    }\n",
       "\n",
       "    .dataframe tbody tr th {\n",
       "        vertical-align: top;\n",
       "    }\n",
       "\n",
       "    .dataframe thead th {\n",
       "        text-align: right;\n",
       "    }\n",
       "</style>\n",
       "<table border=\"1\" class=\"dataframe\">\n",
       "  <thead>\n",
       "    <tr style=\"text-align: right;\">\n",
       "      <th></th>\n",
       "      <th>t_amount</th>\n",
       "      <th>balance</th>\n",
       "      <th>l_amount</th>\n",
       "      <th>payments</th>\n",
       "    </tr>\n",
       "  </thead>\n",
       "  <tbody>\n",
       "    <tr>\n",
       "      <th>0</th>\n",
       "      <td>0.438261</td>\n",
       "      <td>0.446096</td>\n",
       "      <td>0.779661</td>\n",
       "      <td>0.032486</td>\n",
       "    </tr>\n",
       "    <tr>\n",
       "      <th>1</th>\n",
       "      <td>0.018872</td>\n",
       "      <td>0.018872</td>\n",
       "      <td>0.996191</td>\n",
       "      <td>0.083016</td>\n",
       "    </tr>\n",
       "    <tr>\n",
       "      <th>2</th>\n",
       "      <td>0.050028</td>\n",
       "      <td>0.050028</td>\n",
       "      <td>0.997109</td>\n",
       "      <td>0.027697</td>\n",
       "    </tr>\n",
       "    <tr>\n",
       "      <th>3</th>\n",
       "      <td>0.030234</td>\n",
       "      <td>0.030234</td>\n",
       "      <td>0.995634</td>\n",
       "      <td>0.082970</td>\n",
       "    </tr>\n",
       "    <tr>\n",
       "      <th>4</th>\n",
       "      <td>0.021394</td>\n",
       "      <td>0.021394</td>\n",
       "      <td>0.996090</td>\n",
       "      <td>0.083007</td>\n",
       "    </tr>\n",
       "  </tbody>\n",
       "</table>\n",
       "</div>"
      ],
      "text/plain": [
       "   t_amount   balance  l_amount  payments\n",
       "0  0.438261  0.446096  0.779661  0.032486\n",
       "1  0.018872  0.018872  0.996191  0.083016\n",
       "2  0.050028  0.050028  0.997109  0.027697\n",
       "3  0.030234  0.030234  0.995634  0.082970\n",
       "4  0.021394  0.021394  0.996090  0.083007"
      ]
     },
     "execution_count": 73,
     "metadata": {},
     "output_type": "execute_result"
    }
   ],
   "source": [
    "X.head()"
   ]
  },
  {
   "cell_type": "code",
   "execution_count": 75,
   "id": "instructional-lover",
   "metadata": {
    "scrolled": true
   },
   "outputs": [
    {
     "data": {
      "text/html": [
       "<div>\n",
       "<style scoped>\n",
       "    .dataframe tbody tr th:only-of-type {\n",
       "        vertical-align: middle;\n",
       "    }\n",
       "\n",
       "    .dataframe tbody tr th {\n",
       "        vertical-align: top;\n",
       "    }\n",
       "\n",
       "    .dataframe thead th {\n",
       "        text-align: right;\n",
       "    }\n",
       "</style>\n",
       "<table border=\"1\" class=\"dataframe\">\n",
       "  <thead>\n",
       "    <tr style=\"text-align: right;\">\n",
       "      <th></th>\n",
       "      <th>type_PRIJEM</th>\n",
       "      <th>type_VYBER</th>\n",
       "      <th>type_VYDAJ</th>\n",
       "      <th>operation_prevod</th>\n",
       "      <th>operation_unknown</th>\n",
       "      <th>operation_vklad</th>\n",
       "      <th>operation_vyber</th>\n",
       "      <th>k_symbol_SIPO</th>\n",
       "      <th>k_symbol_SLUZBY</th>\n",
       "      <th>k_symbol_UROK</th>\n",
       "      <th>k_symbol_unknown</th>\n",
       "      <th>duration_12.0</th>\n",
       "      <th>duration_24.0</th>\n",
       "      <th>duration_36.0</th>\n",
       "      <th>duration_48.0</th>\n",
       "      <th>duration_60.0</th>\n",
       "    </tr>\n",
       "  </thead>\n",
       "  <tbody>\n",
       "    <tr>\n",
       "      <th>62</th>\n",
       "      <td>1</td>\n",
       "      <td>0</td>\n",
       "      <td>0</td>\n",
       "      <td>1</td>\n",
       "      <td>0</td>\n",
       "      <td>0</td>\n",
       "      <td>0</td>\n",
       "      <td>0</td>\n",
       "      <td>0</td>\n",
       "      <td>0</td>\n",
       "      <td>1</td>\n",
       "      <td>0</td>\n",
       "      <td>1</td>\n",
       "      <td>0</td>\n",
       "      <td>0</td>\n",
       "      <td>0</td>\n",
       "    </tr>\n",
       "    <tr>\n",
       "      <th>63</th>\n",
       "      <td>1</td>\n",
       "      <td>0</td>\n",
       "      <td>0</td>\n",
       "      <td>0</td>\n",
       "      <td>0</td>\n",
       "      <td>1</td>\n",
       "      <td>0</td>\n",
       "      <td>0</td>\n",
       "      <td>0</td>\n",
       "      <td>0</td>\n",
       "      <td>1</td>\n",
       "      <td>1</td>\n",
       "      <td>0</td>\n",
       "      <td>0</td>\n",
       "      <td>0</td>\n",
       "      <td>0</td>\n",
       "    </tr>\n",
       "    <tr>\n",
       "      <th>69</th>\n",
       "      <td>1</td>\n",
       "      <td>0</td>\n",
       "      <td>0</td>\n",
       "      <td>0</td>\n",
       "      <td>0</td>\n",
       "      <td>1</td>\n",
       "      <td>0</td>\n",
       "      <td>0</td>\n",
       "      <td>0</td>\n",
       "      <td>0</td>\n",
       "      <td>1</td>\n",
       "      <td>0</td>\n",
       "      <td>0</td>\n",
       "      <td>1</td>\n",
       "      <td>0</td>\n",
       "      <td>0</td>\n",
       "    </tr>\n",
       "    <tr>\n",
       "      <th>75</th>\n",
       "      <td>1</td>\n",
       "      <td>0</td>\n",
       "      <td>0</td>\n",
       "      <td>0</td>\n",
       "      <td>0</td>\n",
       "      <td>1</td>\n",
       "      <td>0</td>\n",
       "      <td>0</td>\n",
       "      <td>0</td>\n",
       "      <td>0</td>\n",
       "      <td>1</td>\n",
       "      <td>1</td>\n",
       "      <td>0</td>\n",
       "      <td>0</td>\n",
       "      <td>0</td>\n",
       "      <td>0</td>\n",
       "    </tr>\n",
       "    <tr>\n",
       "      <th>96</th>\n",
       "      <td>1</td>\n",
       "      <td>0</td>\n",
       "      <td>0</td>\n",
       "      <td>0</td>\n",
       "      <td>0</td>\n",
       "      <td>1</td>\n",
       "      <td>0</td>\n",
       "      <td>0</td>\n",
       "      <td>0</td>\n",
       "      <td>0</td>\n",
       "      <td>1</td>\n",
       "      <td>1</td>\n",
       "      <td>0</td>\n",
       "      <td>0</td>\n",
       "      <td>0</td>\n",
       "      <td>0</td>\n",
       "    </tr>\n",
       "  </tbody>\n",
       "</table>\n",
       "</div>"
      ],
      "text/plain": [
       "    type_PRIJEM  type_VYBER  type_VYDAJ  operation_prevod  operation_unknown  \\\n",
       "62            1           0           0                 1                  0   \n",
       "63            1           0           0                 0                  0   \n",
       "69            1           0           0                 0                  0   \n",
       "75            1           0           0                 0                  0   \n",
       "96            1           0           0                 0                  0   \n",
       "\n",
       "    operation_vklad  operation_vyber  k_symbol_SIPO  k_symbol_SLUZBY  \\\n",
       "62                0                0              0                0   \n",
       "63                1                0              0                0   \n",
       "69                1                0              0                0   \n",
       "75                1                0              0                0   \n",
       "96                1                0              0                0   \n",
       "\n",
       "    k_symbol_UROK  k_symbol_unknown  duration_12.0  duration_24.0  \\\n",
       "62              0                 1              0              1   \n",
       "63              0                 1              1              0   \n",
       "69              0                 1              0              0   \n",
       "75              0                 1              1              0   \n",
       "96              0                 1              1              0   \n",
       "\n",
       "    duration_36.0  duration_48.0  duration_60.0  \n",
       "62              0              0              0  \n",
       "63              0              0              0  \n",
       "69              1              0              0  \n",
       "75              0              0              0  \n",
       "96              0              0              0  "
      ]
     },
     "execution_count": 75,
     "metadata": {},
     "output_type": "execute_result"
    }
   ],
   "source": [
    "categorical.head()"
   ]
  },
  {
   "cell_type": "code",
   "execution_count": 77,
   "id": "internal-penny",
   "metadata": {},
   "outputs": [],
   "source": [
    "y = data['status']"
   ]
  },
  {
   "cell_type": "code",
   "execution_count": 78,
   "id": "recognized-spirit",
   "metadata": {},
   "outputs": [
    {
     "data": {
      "text/plain": [
       "(145336, 145336, 145336)"
      ]
     },
     "execution_count": 78,
     "metadata": {},
     "output_type": "execute_result"
    }
   ],
   "source": [
    "len(x), len(y), len(data)"
   ]
  },
  {
   "cell_type": "code",
   "execution_count": 81,
   "id": "right-gravity",
   "metadata": {},
   "outputs": [],
   "source": [
    "# bring the numerical data (scaled)in with the categorical\n",
    "X = np.concatenate((x_normalized, categorical),axis=1)"
   ]
  },
  {
   "cell_type": "markdown",
   "id": "every-origin",
   "metadata": {},
   "source": [
    "## TT split, get model"
   ]
  },
  {
   "cell_type": "code",
   "execution_count": 82,
   "id": "boxed-watts",
   "metadata": {},
   "outputs": [],
   "source": [
    "from sklearn.linear_model import LogisticRegression"
   ]
  },
  {
   "cell_type": "code",
   "execution_count": 83,
   "id": "accredited-tokyo",
   "metadata": {},
   "outputs": [],
   "source": [
    "from sklearn.model_selection import train_test_split\n",
    "\n",
    "X_train, X_test, y_train, y_test =train_test_split(X, y, test_size= 0.4, random_state=40)"
   ]
  },
  {
   "cell_type": "markdown",
   "id": "typical-arthur",
   "metadata": {},
   "source": [
    "## Apply model and train model "
   ]
  },
  {
   "cell_type": "code",
   "execution_count": 86,
   "id": "streaming-advertiser",
   "metadata": {},
   "outputs": [],
   "source": [
    "classification = LogisticRegression(random_state=0, solver='lbfgs',max_iter=400,\n",
    "                  multi_class='ovr').fit(X_train, y_train)"
   ]
  },
  {
   "cell_type": "markdown",
   "id": "statewide-network",
   "metadata": {},
   "source": [
    "## Evaluate accuracy and test "
   ]
  },
  {
   "cell_type": "code",
   "execution_count": 87,
   "id": "according-ferry",
   "metadata": {},
   "outputs": [],
   "source": [
    "from sklearn.metrics import accuracy_score \n",
    "predictions = classification.predict(X_test)"
   ]
  },
  {
   "cell_type": "code",
   "execution_count": 88,
   "id": "secret-burst",
   "metadata": {},
   "outputs": [
    {
     "data": {
      "text/plain": [
       "array(['C', 'A', 'C', ..., 'C', 'C', 'A'], dtype=object)"
      ]
     },
     "execution_count": 88,
     "metadata": {},
     "output_type": "execute_result"
    }
   ],
   "source": [
    "predictions"
   ]
  },
  {
   "cell_type": "code",
   "execution_count": 89,
   "id": "selected-grade",
   "metadata": {},
   "outputs": [
    {
     "data": {
      "text/plain": [
       "0.7077492044379462"
      ]
     },
     "execution_count": 89,
     "metadata": {},
     "output_type": "execute_result"
    }
   ],
   "source": [
    "accuracy_score(y_test, predictions)"
   ]
  }
 ],
 "metadata": {
  "kernelspec": {
   "display_name": "Python 3",
   "language": "python",
   "name": "python3"
  },
  "language_info": {
   "codemirror_mode": {
    "name": "ipython",
    "version": 3
   },
   "file_extension": ".py",
   "mimetype": "text/x-python",
   "name": "python",
   "nbconvert_exporter": "python",
   "pygments_lexer": "ipython3",
   "version": "3.8.5"
  }
 },
 "nbformat": 4,
 "nbformat_minor": 5
}
