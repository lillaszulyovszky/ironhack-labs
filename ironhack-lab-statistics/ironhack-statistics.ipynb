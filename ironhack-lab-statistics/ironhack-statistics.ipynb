{
 "cells": [
  {
   "cell_type": "code",
   "execution_count": 40,
   "id": "representative-monster",
   "metadata": {},
   "outputs": [],
   "source": [
    "from scipy.stats import ttest_1samp"
   ]
  },
  {
   "cell_type": "code",
   "execution_count": 41,
   "id": "becoming-degree",
   "metadata": {},
   "outputs": [],
   "source": [
    "from scipy.stats import norm #(z distribution)"
   ]
  },
  {
   "cell_type": "code",
   "execution_count": 42,
   "id": "accessible-headset",
   "metadata": {},
   "outputs": [],
   "source": [
    "import math"
   ]
  },
  {
   "cell_type": "code",
   "execution_count": 43,
   "id": "cognitive-semiconductor",
   "metadata": {},
   "outputs": [],
   "source": [
    "from scipy.stats import t\n",
    "import pandas as pd\n",
    "import numpy as np"
   ]
  },
  {
   "cell_type": "markdown",
   "id": "personalized-necklace",
   "metadata": {},
   "source": [
    "### two sample t test"
   ]
  },
  {
   "cell_type": "code",
   "execution_count": 44,
   "id": "presidential-camera",
   "metadata": {},
   "outputs": [],
   "source": [
    "df_sample = pd.DataFrame(dict(\n",
    "    column=[42.1,41,41.3,41.8,42.4,42.8,43.2,42.3,41.8,42.7]))"
   ]
  },
  {
   "cell_type": "code",
   "execution_count": 45,
   "id": "limiting-colony",
   "metadata": {},
   "outputs": [],
   "source": [
    "df_pop = pd.DataFrame(dict(\n",
    "    column=[42.7,43.6,43.8,42.5,43.5,43.1,41.7,44,44.1]))"
   ]
  },
  {
   "cell_type": "code",
   "execution_count": 46,
   "id": "international-treasury",
   "metadata": {},
   "outputs": [
    {
     "data": {
      "text/plain": [
       "column    42.14\n",
       "dtype: float64"
      ]
     },
     "execution_count": 46,
     "metadata": {},
     "output_type": "execute_result"
    }
   ],
   "source": [
    "sample_mean = np.mean(df_sample)\n",
    "sample_mean"
   ]
  },
  {
   "cell_type": "code",
   "execution_count": 47,
   "id": "contained-substitute",
   "metadata": {},
   "outputs": [
    {
     "data": {
      "text/plain": [
       "column    43.222222\n",
       "dtype: float64"
      ]
     },
     "execution_count": 47,
     "metadata": {},
     "output_type": "execute_result"
    }
   ],
   "source": [
    "pop_mean = np.mean(df_pop)\n",
    "pop_mean"
   ]
  },
  {
   "cell_type": "code",
   "execution_count": 48,
   "id": "specific-bargain",
   "metadata": {},
   "outputs": [
    {
     "data": {
      "text/plain": [
       "column    0.683455\n",
       "dtype: float64"
      ]
     },
     "execution_count": 48,
     "metadata": {},
     "output_type": "execute_result"
    }
   ],
   "source": [
    "sampl_std = df_sample.std()\n",
    "sampl_std"
   ]
  },
  {
   "cell_type": "code",
   "execution_count": 49,
   "id": "motivated-allergy",
   "metadata": {},
   "outputs": [],
   "source": [
    "n=20"
   ]
  },
  {
   "cell_type": "code",
   "execution_count": 50,
   "id": "boxed-tender",
   "metadata": {},
   "outputs": [
    {
     "data": {
      "text/plain": [
       "column   -6.90213\n",
       "dtype: float64"
      ]
     },
     "execution_count": 50,
     "metadata": {},
     "output_type": "execute_result"
    }
   ],
   "source": [
    "# we are looking for a result that is significantly less or more than the expected mean : \n",
    "#calculation for test statistic is the same \n",
    "stats= (sample_mean-pop_mean)/(sampl_std/math.sqrt(n-1))\n",
    "stats\n"
   ]
  },
  {
   "cell_type": "markdown",
   "id": "seventh-edmonton",
   "metadata": {},
   "source": [
    "\n",
    "\n",
    "### define hypothesis\n",
    "\n",
    "Ho new machine is no faster than old machine\n",
    "Ha new machine is faster than old machine\n",
    "\n",
    "method: 1 tailed t test - referrint to the t distribution to find the critical value\n",
    "    \n",
    "    do observations for New fall into the critical area\n",
    "    \n",
    "    is the p value less than 0.5"
   ]
  },
  {
   "cell_type": "code",
   "execution_count": 51,
   "id": "third-embassy",
   "metadata": {},
   "outputs": [],
   "source": [
    "obs = 20\n",
    "# degrees of freedom 0 (n1 +n2) -2"
   ]
  },
  {
   "cell_type": "code",
   "execution_count": 52,
   "id": "vital-speed",
   "metadata": {},
   "outputs": [],
   "source": [
    "dof = obs -2\n",
    "sl = 0.95"
   ]
  },
  {
   "cell_type": "code",
   "execution_count": 53,
   "id": "fatty-beauty",
   "metadata": {},
   "outputs": [
    {
     "ename": "AttributeError",
     "evalue": "'Series' object has no attribute 't'",
     "output_type": "error",
     "traceback": [
      "\u001b[0;31m---------------------------------------------------------------------------\u001b[0m",
      "\u001b[0;31mAttributeError\u001b[0m                            Traceback (most recent call last)",
      "\u001b[0;32m<ipython-input-53-3e7fb5f5f0f6>\u001b[0m in \u001b[0;36m<module>\u001b[0;34m\u001b[0m\n\u001b[1;32m      1\u001b[0m \u001b[0;31m# on the left side the critical value would be drawn from the t distribution,\u001b[0m\u001b[0;34m\u001b[0m\u001b[0;34m\u001b[0m\u001b[0;34m\u001b[0m\u001b[0m\n\u001b[1;32m      2\u001b[0m \u001b[0;31m# using 0.05 split into 2 pieces\u001b[0m\u001b[0;34m\u001b[0m\u001b[0;34m\u001b[0m\u001b[0;34m\u001b[0m\u001b[0m\n\u001b[0;32m----> 3\u001b[0;31m \u001b[0mt_critical\u001b[0m\u001b[0;34m=\u001b[0m\u001b[0mstats\u001b[0m\u001b[0;34m.\u001b[0m\u001b[0mt\u001b[0m\u001b[0;34m.\u001b[0m\u001b[0mppf\u001b[0m\u001b[0;34m(\u001b[0m\u001b[0ms1\u001b[0m\u001b[0;34m,\u001b[0m \u001b[0mdof\u001b[0m\u001b[0;34m)\u001b[0m\u001b[0;34m\u001b[0m\u001b[0;34m\u001b[0m\u001b[0m\n\u001b[0m\u001b[1;32m      4\u001b[0m \u001b[0mt_critical\u001b[0m\u001b[0;34m\u001b[0m\u001b[0;34m\u001b[0m\u001b[0m\n",
      "\u001b[0;32m~/opt/anaconda3/lib/python3.8/site-packages/pandas/core/generic.py\u001b[0m in \u001b[0;36m__getattr__\u001b[0;34m(self, name)\u001b[0m\n\u001b[1;32m   5463\u001b[0m             \u001b[0;32mif\u001b[0m \u001b[0mself\u001b[0m\u001b[0;34m.\u001b[0m\u001b[0m_info_axis\u001b[0m\u001b[0;34m.\u001b[0m\u001b[0m_can_hold_identifiers_and_holds_name\u001b[0m\u001b[0;34m(\u001b[0m\u001b[0mname\u001b[0m\u001b[0;34m)\u001b[0m\u001b[0;34m:\u001b[0m\u001b[0;34m\u001b[0m\u001b[0;34m\u001b[0m\u001b[0m\n\u001b[1;32m   5464\u001b[0m                 \u001b[0;32mreturn\u001b[0m \u001b[0mself\u001b[0m\u001b[0;34m[\u001b[0m\u001b[0mname\u001b[0m\u001b[0;34m]\u001b[0m\u001b[0;34m\u001b[0m\u001b[0;34m\u001b[0m\u001b[0m\n\u001b[0;32m-> 5465\u001b[0;31m             \u001b[0;32mreturn\u001b[0m \u001b[0mobject\u001b[0m\u001b[0;34m.\u001b[0m\u001b[0m__getattribute__\u001b[0m\u001b[0;34m(\u001b[0m\u001b[0mself\u001b[0m\u001b[0;34m,\u001b[0m \u001b[0mname\u001b[0m\u001b[0;34m)\u001b[0m\u001b[0;34m\u001b[0m\u001b[0;34m\u001b[0m\u001b[0m\n\u001b[0m\u001b[1;32m   5466\u001b[0m \u001b[0;34m\u001b[0m\u001b[0m\n\u001b[1;32m   5467\u001b[0m     \u001b[0;32mdef\u001b[0m \u001b[0m__setattr__\u001b[0m\u001b[0;34m(\u001b[0m\u001b[0mself\u001b[0m\u001b[0;34m,\u001b[0m \u001b[0mname\u001b[0m\u001b[0;34m:\u001b[0m \u001b[0mstr\u001b[0m\u001b[0;34m,\u001b[0m \u001b[0mvalue\u001b[0m\u001b[0;34m)\u001b[0m \u001b[0;34m->\u001b[0m \u001b[0;32mNone\u001b[0m\u001b[0;34m:\u001b[0m\u001b[0;34m\u001b[0m\u001b[0;34m\u001b[0m\u001b[0m\n",
      "\u001b[0;31mAttributeError\u001b[0m: 'Series' object has no attribute 't'"
     ]
    }
   ],
   "source": [
    "# on the left side the critical value would be drawn from the t distribution,\n",
    "# using 0.05 split into 2 pieces \n",
    "t_critical=stats.t.ppf(s1, dof)\n",
    "t_critical"
   ]
  },
  {
   "cell_type": "code",
   "execution_count": null,
   "id": "reliable-failing",
   "metadata": {},
   "outputs": [],
   "source": [
    "stats.ttest_ind"
   ]
  }
 ],
 "metadata": {
  "kernelspec": {
   "display_name": "Python 3",
   "language": "python",
   "name": "python3"
  },
  "language_info": {
   "codemirror_mode": {
    "name": "ipython",
    "version": 3
   },
   "file_extension": ".py",
   "mimetype": "text/x-python",
   "name": "python",
   "nbconvert_exporter": "python",
   "pygments_lexer": "ipython3",
   "version": "3.8.5"
  }
 },
 "nbformat": 4,
 "nbformat_minor": 5
}
